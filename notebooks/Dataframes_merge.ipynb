{
 "cells": [
  {
   "cell_type": "markdown",
   "metadata": {},
   "source": [
    "# Merge of dataframes"
   ]
  },
  {
   "cell_type": "markdown",
   "metadata": {},
   "source": [
    "After exploring the data and doing minor cleaning we are going to merge the data of preinscriptions, matricules and notes so we end up with a unique dataframe that contains only those students that got matriculated after the preinscription. "
   ]
  },
  {
   "cell_type": "code",
   "execution_count": 1,
   "metadata": {},
   "outputs": [],
   "source": [
    "import pandas as pd"
   ]
  },
  {
   "cell_type": "code",
   "execution_count": 2,
   "metadata": {},
   "outputs": [],
   "source": [
    "preinscripcions_df = pd.read_csv('../data/processed/preinscripcions_df.csv')\n",
    "matricules_df = pd.read_csv('../data/processed/matricules_df.csv')\n",
    "notes_df = pd.read_csv('../data/processed/notes_df.csv')\n",
    "titulacions_df = pd.read_csv('../data/processed/titulacions_df.csv')"
   ]
  },
  {
   "cell_type": "code",
   "execution_count": 3,
   "metadata": {},
   "outputs": [],
   "source": [
    "#We want to get a df with a list of preinscripcions that ended up being matriculations\n",
    "\n",
    "#One same student could be twice in preinscription list for different degrees, \n",
    "    #If matriculated, this would be reflected as two rows in the matriculation df with same DNI but different codi_grau\n",
    "    #However, in matricules_df we do not have 'codi_grau', we only have 'pla' so we will first use the information on the \n",
    "        #titulacions_df to create the codi_grau"
   ]
  },
  {
   "cell_type": "code",
   "execution_count": 4,
   "metadata": {},
   "outputs": [],
   "source": [
    "def assign_codi_grau(row):\n",
    "    if row['pla'] in [1467, 1278]:\n",
    "        return 21112\n",
    "    elif row['pla'] in [877, 1464]:\n",
    "        return 21025\n",
    "    elif row['pla'] == 878:\n",
    "        return 21023\n",
    "    elif row['pla'] in [879, 1462]:\n",
    "        return 21026\n",
    "    elif row['pla'] == 1450:\n",
    "        return 21032\n",
    "    elif row['pla'] == 1430:\n",
    "        return 21027\n",
    "    elif row['pla'] in [880, 1466]:\n",
    "        return 21022\n",
    "    else:\n",
    "        return np.nan\n",
    "\n",
    "matricules_df['codi_grau'] = matricules_df.apply(assign_codi_grau, axis=1)"
   ]
  },
  {
   "cell_type": "code",
   "execution_count": 5,
   "metadata": {},
   "outputs": [],
   "source": [
    "# To be able to group by student and codi_grau we create a common field\n",
    "matricules_df['codi_grau'] = matricules_df['codi_grau'].astype(str)\n",
    "matricules_df['identification'] = matricules_df[['DNI', 'codi_grau']].agg(' / '.join, axis=1)"
   ]
  },
  {
   "cell_type": "code",
   "execution_count": 6,
   "metadata": {},
   "outputs": [],
   "source": [
    "matricules_df = matricules_df.sort_values(by='curs_matricula')\n",
    "matricules_df = matricules_df.groupby('identification').first().reset_index()"
   ]
  },
  {
   "cell_type": "code",
   "execution_count": 7,
   "metadata": {},
   "outputs": [
    {
     "data": {
      "text/plain": [
       "(2548, 6)"
      ]
     },
     "execution_count": 7,
     "metadata": {},
     "output_type": "execute_result"
    }
   ],
   "source": [
    "matricules_df.shape"
   ]
  },
  {
   "cell_type": "code",
   "execution_count": 9,
   "metadata": {},
   "outputs": [],
   "source": [
    "def filter_matriculations(DNI,matricules_df):\n",
    "    matriculations = matricules_df[matricules_df['DNI'] == DNI]\n",
    "    for index, row in matriculations.iterrows():\n",
    "        codi_graus = list(matriculations.codi_grau)\n",
    "        if '21112' in codi_graus and len(set(matriculations['curs_matricula'])) == 1:\n",
    "            rows_to_drop = matriculations[(matriculations['codi_grau'] == '21025') | (matriculations['codi_grau'] == '21026')].index\n",
    "            matricules_df = matricules_df.drop(rows_to_drop)\n",
    "    return matricules_df"
   ]
  },
  {
   "cell_type": "code",
   "execution_count": 10,
   "metadata": {},
   "outputs": [
    {
     "ename": "KeyError",
     "evalue": "'[1236, 1237] not found in axis'",
     "output_type": "error",
     "traceback": [
      "\u001b[1;31m---------------------------------------------------------------------------\u001b[0m",
      "\u001b[1;31mKeyError\u001b[0m                                  Traceback (most recent call last)",
      "Cell \u001b[1;32mIn[10], line 4\u001b[0m\n\u001b[0;32m      2\u001b[0m dni_list_3_counts \u001b[38;5;241m=\u001b[39m [DNI \u001b[38;5;28;01mfor\u001b[39;00m DNI, count \u001b[38;5;129;01min\u001b[39;00m dni_counts_dict\u001b[38;5;241m.\u001b[39mitems() \u001b[38;5;28;01mif\u001b[39;00m count \u001b[38;5;241m==\u001b[39m \u001b[38;5;241m3\u001b[39m]\n\u001b[0;32m      3\u001b[0m \u001b[38;5;28;01mfor\u001b[39;00m dni \u001b[38;5;129;01min\u001b[39;00m dni_list_3_counts:\n\u001b[1;32m----> 4\u001b[0m     \u001b[43mfilter_matriculations\u001b[49m\u001b[43m(\u001b[49m\u001b[43mdni\u001b[49m\u001b[43m,\u001b[49m\u001b[43mmatricules_df\u001b[49m\u001b[43m)\u001b[49m\n",
      "Cell \u001b[1;32mIn[9], line 8\u001b[0m, in \u001b[0;36mfilter_matriculations\u001b[1;34m(DNI, matricules_df)\u001b[0m\n\u001b[0;32m      6\u001b[0m     \u001b[38;5;28;01mif\u001b[39;00m \u001b[38;5;124m'\u001b[39m\u001b[38;5;124m21112\u001b[39m\u001b[38;5;124m'\u001b[39m \u001b[38;5;129;01min\u001b[39;00m codi_graus \u001b[38;5;129;01mand\u001b[39;00m \u001b[38;5;28mlen\u001b[39m(\u001b[38;5;28mset\u001b[39m(matriculations[\u001b[38;5;124m'\u001b[39m\u001b[38;5;124mcurs_matricula\u001b[39m\u001b[38;5;124m'\u001b[39m])) \u001b[38;5;241m==\u001b[39m \u001b[38;5;241m1\u001b[39m:\n\u001b[0;32m      7\u001b[0m         rows_to_drop \u001b[38;5;241m=\u001b[39m matriculations[(matriculations[\u001b[38;5;124m'\u001b[39m\u001b[38;5;124mcodi_grau\u001b[39m\u001b[38;5;124m'\u001b[39m] \u001b[38;5;241m==\u001b[39m \u001b[38;5;124m'\u001b[39m\u001b[38;5;124m21025\u001b[39m\u001b[38;5;124m'\u001b[39m) \u001b[38;5;241m|\u001b[39m (matriculations[\u001b[38;5;124m'\u001b[39m\u001b[38;5;124mcodi_grau\u001b[39m\u001b[38;5;124m'\u001b[39m] \u001b[38;5;241m==\u001b[39m \u001b[38;5;124m'\u001b[39m\u001b[38;5;124m21026\u001b[39m\u001b[38;5;124m'\u001b[39m)]\u001b[38;5;241m.\u001b[39mindex\n\u001b[1;32m----> 8\u001b[0m         matricules_df \u001b[38;5;241m=\u001b[39m \u001b[43mmatricules_df\u001b[49m\u001b[38;5;241;43m.\u001b[39;49m\u001b[43mdrop\u001b[49m\u001b[43m(\u001b[49m\u001b[43mrows_to_drop\u001b[49m\u001b[43m)\u001b[49m\n\u001b[0;32m      9\u001b[0m \u001b[38;5;28;01mreturn\u001b[39;00m matricules_df\n",
      "File \u001b[1;32m~\\miniconda3\\envs\\ironhack\\Lib\\site-packages\\pandas\\core\\frame.py:5347\u001b[0m, in \u001b[0;36mDataFrame.drop\u001b[1;34m(self, labels, axis, index, columns, level, inplace, errors)\u001b[0m\n\u001b[0;32m   5199\u001b[0m \u001b[38;5;28;01mdef\u001b[39;00m \u001b[38;5;21mdrop\u001b[39m(\n\u001b[0;32m   5200\u001b[0m     \u001b[38;5;28mself\u001b[39m,\n\u001b[0;32m   5201\u001b[0m     labels: IndexLabel \u001b[38;5;241m|\u001b[39m \u001b[38;5;28;01mNone\u001b[39;00m \u001b[38;5;241m=\u001b[39m \u001b[38;5;28;01mNone\u001b[39;00m,\n\u001b[1;32m   (...)\u001b[0m\n\u001b[0;32m   5208\u001b[0m     errors: IgnoreRaise \u001b[38;5;241m=\u001b[39m \u001b[38;5;124m\"\u001b[39m\u001b[38;5;124mraise\u001b[39m\u001b[38;5;124m\"\u001b[39m,\n\u001b[0;32m   5209\u001b[0m ) \u001b[38;5;241m-\u001b[39m\u001b[38;5;241m>\u001b[39m DataFrame \u001b[38;5;241m|\u001b[39m \u001b[38;5;28;01mNone\u001b[39;00m:\n\u001b[0;32m   5210\u001b[0m \u001b[38;5;250m    \u001b[39m\u001b[38;5;124;03m\"\"\"\u001b[39;00m\n\u001b[0;32m   5211\u001b[0m \u001b[38;5;124;03m    Drop specified labels from rows or columns.\u001b[39;00m\n\u001b[0;32m   5212\u001b[0m \n\u001b[1;32m   (...)\u001b[0m\n\u001b[0;32m   5345\u001b[0m \u001b[38;5;124;03m            weight  1.0     0.8\u001b[39;00m\n\u001b[0;32m   5346\u001b[0m \u001b[38;5;124;03m    \"\"\"\u001b[39;00m\n\u001b[1;32m-> 5347\u001b[0m     \u001b[38;5;28;01mreturn\u001b[39;00m \u001b[38;5;28;43msuper\u001b[39;49m\u001b[43m(\u001b[49m\u001b[43m)\u001b[49m\u001b[38;5;241;43m.\u001b[39;49m\u001b[43mdrop\u001b[49m\u001b[43m(\u001b[49m\n\u001b[0;32m   5348\u001b[0m \u001b[43m        \u001b[49m\u001b[43mlabels\u001b[49m\u001b[38;5;241;43m=\u001b[39;49m\u001b[43mlabels\u001b[49m\u001b[43m,\u001b[49m\n\u001b[0;32m   5349\u001b[0m \u001b[43m        \u001b[49m\u001b[43maxis\u001b[49m\u001b[38;5;241;43m=\u001b[39;49m\u001b[43maxis\u001b[49m\u001b[43m,\u001b[49m\n\u001b[0;32m   5350\u001b[0m \u001b[43m        \u001b[49m\u001b[43mindex\u001b[49m\u001b[38;5;241;43m=\u001b[39;49m\u001b[43mindex\u001b[49m\u001b[43m,\u001b[49m\n\u001b[0;32m   5351\u001b[0m \u001b[43m        \u001b[49m\u001b[43mcolumns\u001b[49m\u001b[38;5;241;43m=\u001b[39;49m\u001b[43mcolumns\u001b[49m\u001b[43m,\u001b[49m\n\u001b[0;32m   5352\u001b[0m \u001b[43m        \u001b[49m\u001b[43mlevel\u001b[49m\u001b[38;5;241;43m=\u001b[39;49m\u001b[43mlevel\u001b[49m\u001b[43m,\u001b[49m\n\u001b[0;32m   5353\u001b[0m \u001b[43m        \u001b[49m\u001b[43minplace\u001b[49m\u001b[38;5;241;43m=\u001b[39;49m\u001b[43minplace\u001b[49m\u001b[43m,\u001b[49m\n\u001b[0;32m   5354\u001b[0m \u001b[43m        \u001b[49m\u001b[43merrors\u001b[49m\u001b[38;5;241;43m=\u001b[39;49m\u001b[43merrors\u001b[49m\u001b[43m,\u001b[49m\n\u001b[0;32m   5355\u001b[0m \u001b[43m    \u001b[49m\u001b[43m)\u001b[49m\n",
      "File \u001b[1;32m~\\miniconda3\\envs\\ironhack\\Lib\\site-packages\\pandas\\core\\generic.py:4711\u001b[0m, in \u001b[0;36mNDFrame.drop\u001b[1;34m(self, labels, axis, index, columns, level, inplace, errors)\u001b[0m\n\u001b[0;32m   4709\u001b[0m \u001b[38;5;28;01mfor\u001b[39;00m axis, labels \u001b[38;5;129;01min\u001b[39;00m axes\u001b[38;5;241m.\u001b[39mitems():\n\u001b[0;32m   4710\u001b[0m     \u001b[38;5;28;01mif\u001b[39;00m labels \u001b[38;5;129;01mis\u001b[39;00m \u001b[38;5;129;01mnot\u001b[39;00m \u001b[38;5;28;01mNone\u001b[39;00m:\n\u001b[1;32m-> 4711\u001b[0m         obj \u001b[38;5;241m=\u001b[39m \u001b[43mobj\u001b[49m\u001b[38;5;241;43m.\u001b[39;49m\u001b[43m_drop_axis\u001b[49m\u001b[43m(\u001b[49m\u001b[43mlabels\u001b[49m\u001b[43m,\u001b[49m\u001b[43m \u001b[49m\u001b[43maxis\u001b[49m\u001b[43m,\u001b[49m\u001b[43m \u001b[49m\u001b[43mlevel\u001b[49m\u001b[38;5;241;43m=\u001b[39;49m\u001b[43mlevel\u001b[49m\u001b[43m,\u001b[49m\u001b[43m \u001b[49m\u001b[43merrors\u001b[49m\u001b[38;5;241;43m=\u001b[39;49m\u001b[43merrors\u001b[49m\u001b[43m)\u001b[49m\n\u001b[0;32m   4713\u001b[0m \u001b[38;5;28;01mif\u001b[39;00m inplace:\n\u001b[0;32m   4714\u001b[0m     \u001b[38;5;28mself\u001b[39m\u001b[38;5;241m.\u001b[39m_update_inplace(obj)\n",
      "File \u001b[1;32m~\\miniconda3\\envs\\ironhack\\Lib\\site-packages\\pandas\\core\\generic.py:4753\u001b[0m, in \u001b[0;36mNDFrame._drop_axis\u001b[1;34m(self, labels, axis, level, errors, only_slice)\u001b[0m\n\u001b[0;32m   4751\u001b[0m         new_axis \u001b[38;5;241m=\u001b[39m axis\u001b[38;5;241m.\u001b[39mdrop(labels, level\u001b[38;5;241m=\u001b[39mlevel, errors\u001b[38;5;241m=\u001b[39merrors)\n\u001b[0;32m   4752\u001b[0m     \u001b[38;5;28;01melse\u001b[39;00m:\n\u001b[1;32m-> 4753\u001b[0m         new_axis \u001b[38;5;241m=\u001b[39m \u001b[43maxis\u001b[49m\u001b[38;5;241;43m.\u001b[39;49m\u001b[43mdrop\u001b[49m\u001b[43m(\u001b[49m\u001b[43mlabels\u001b[49m\u001b[43m,\u001b[49m\u001b[43m \u001b[49m\u001b[43merrors\u001b[49m\u001b[38;5;241;43m=\u001b[39;49m\u001b[43merrors\u001b[49m\u001b[43m)\u001b[49m\n\u001b[0;32m   4754\u001b[0m     indexer \u001b[38;5;241m=\u001b[39m axis\u001b[38;5;241m.\u001b[39mget_indexer(new_axis)\n\u001b[0;32m   4756\u001b[0m \u001b[38;5;66;03m# Case for non-unique axis\u001b[39;00m\n\u001b[0;32m   4757\u001b[0m \u001b[38;5;28;01melse\u001b[39;00m:\n",
      "File \u001b[1;32m~\\miniconda3\\envs\\ironhack\\Lib\\site-packages\\pandas\\core\\indexes\\base.py:6992\u001b[0m, in \u001b[0;36mIndex.drop\u001b[1;34m(self, labels, errors)\u001b[0m\n\u001b[0;32m   6990\u001b[0m \u001b[38;5;28;01mif\u001b[39;00m mask\u001b[38;5;241m.\u001b[39many():\n\u001b[0;32m   6991\u001b[0m     \u001b[38;5;28;01mif\u001b[39;00m errors \u001b[38;5;241m!=\u001b[39m \u001b[38;5;124m\"\u001b[39m\u001b[38;5;124mignore\u001b[39m\u001b[38;5;124m\"\u001b[39m:\n\u001b[1;32m-> 6992\u001b[0m         \u001b[38;5;28;01mraise\u001b[39;00m \u001b[38;5;167;01mKeyError\u001b[39;00m(\u001b[38;5;124mf\u001b[39m\u001b[38;5;124m\"\u001b[39m\u001b[38;5;132;01m{\u001b[39;00mlabels[mask]\u001b[38;5;241m.\u001b[39mtolist()\u001b[38;5;132;01m}\u001b[39;00m\u001b[38;5;124m not found in axis\u001b[39m\u001b[38;5;124m\"\u001b[39m)\n\u001b[0;32m   6993\u001b[0m     indexer \u001b[38;5;241m=\u001b[39m indexer[\u001b[38;5;241m~\u001b[39mmask]\n\u001b[0;32m   6994\u001b[0m \u001b[38;5;28;01mreturn\u001b[39;00m \u001b[38;5;28mself\u001b[39m\u001b[38;5;241m.\u001b[39mdelete(indexer)\n",
      "\u001b[1;31mKeyError\u001b[0m: '[1236, 1237] not found in axis'"
     ]
    }
   ],
   "source": [
    "dni_counts_dict = matricules_df['DNI'].value_counts().to_dict()\n",
    "dni_list_3_counts = [DNI for DNI, count in dni_counts_dict.items() if count == 3]\n",
    "for dni in dni_list_3_counts:\n",
    "    filter_matriculations(dni,matricules_df)"
   ]
  },
  {
   "cell_type": "code",
   "execution_count": null,
   "metadata": {},
   "outputs": [],
   "source": [
    "matricules_df.shape"
   ]
  },
  {
   "cell_type": "code",
   "execution_count": null,
   "metadata": {},
   "outputs": [],
   "source": []
  },
  {
   "cell_type": "code",
   "execution_count": null,
   "metadata": {},
   "outputs": [],
   "source": [
    "filtered_matricules_df = []\n",
    "for i in matricules_df"
   ]
  },
  {
   "cell_type": "code",
   "execution_count": null,
   "metadata": {},
   "outputs": [],
   "source": [
    "# We observe that in many cases where the ID is repeated 3 times it is because students from the double degree appear\n",
    "#matriculated 3 times on the same year. We are going to reduce this:\n",
    "\n",
    "def reduce_duplicated_matriculations(df):\n",
    "    matricules_df = matricules_df.groupby('DNI')\n",
    "    if matricules_df['codi_grau'][0] == 21025  "
   ]
  },
  {
   "cell_type": "code",
   "execution_count": null,
   "metadata": {},
   "outputs": [],
   "source": [
    "matricules_df['curs_matricula'].value_counts().sort_index()\n",
    "#Since we have data from 2013 that year is adding all uni students matriculated that year (1st appearance of their DNI).\n",
    "#We will drop students with curs_matricula = 2013 so we can properly work with data starting at 2014\n",
    "matricules_df = matricules_df[matricules_df['curs_matricula'] > 2013]"
   ]
  },
  {
   "cell_type": "code",
   "execution_count": null,
   "metadata": {},
   "outputs": [],
   "source": [
    "#To have some context on numbers let's check how many rows appear in the preinscripcio list and in the matriculations list.\n",
    "preinscripcions_counts = preinscripcions_df['curs_preinscripcio'].value_counts().sort_index()\n",
    "matricula_counts = matricules_df['curs_matricula'].value_counts().sort_index()\n",
    "\n",
    "counts_df = pd.DataFrame({\n",
    "    'Curs_Preinscripcio': preinscripcions_counts,\n",
    "    'Curs_Matricula': matricula_counts,\n",
    "    'Count_Difference': preinscripcions_counts - matricula_counts\n",
    "})\n",
    "\n",
    "counts_df"
   ]
  },
  {
   "cell_type": "code",
   "execution_count": null,
   "metadata": {},
   "outputs": [],
   "source": [
    "#OJO! En 2017 hay una matrícula que no aparece en preinscripción"
   ]
  },
  {
   "cell_type": "code",
   "execution_count": null,
   "metadata": {},
   "outputs": [],
   "source": [
    "column00 = matricules_df['DNI']\n",
    "column0 = matricules_df['first_matriculation']\n",
    "column1 = preinscripcions_df['curs_preinscripcio']  # Replace 'column_name1' with the actual column name from df1\n",
    "column2 = matricules_df['curs_matricula']  # Replace 'column_name2' with the actual column name from df2\n",
    "\n",
    "comparative_df = pd.concat([column00, column0, column1, column2], axis=1)\n",
    "\n",
    "comparative_df[comparative_df['curs_matricula']==2017.0].head(60)\n"
   ]
  },
  {
   "cell_type": "code",
   "execution_count": null,
   "metadata": {},
   "outputs": [],
   "source": [
    "#Tried left and inner join between preinscriptions_df and matricules_df on DNI:\n",
    "    #Inner join shape: (1677, 36)\n",
    "    #Left join (pre_df,matricules_df): (2280, 36)\n",
    "    #Righ join (pre_df,matricules_df): (2234,36)\n",
    "        # ---> 603 students are in preeinscription list but do not appear in matricules\n",
    "        # ---> 557 students matriculated but do not appear in preinscriptions lists (STUDENTS THAT WERE IN PREVIOUS PREINSCRIPTION LISTS)"
   ]
  },
  {
   "cell_type": "code",
   "execution_count": null,
   "metadata": {},
   "outputs": [],
   "source": [
    "merged_preinscriptions_matricules = pd.merge(pre_df, matricules_df, on='DNI', how='right')\n",
    "merged_preinscriptions_matricules.shape"
   ]
  },
  {
   "cell_type": "code",
   "execution_count": null,
   "metadata": {},
   "outputs": [],
   "source": [
    "merged_preinscriptions_matricules.columns"
   ]
  },
  {
   "cell_type": "code",
   "execution_count": null,
   "metadata": {},
   "outputs": [],
   "source": [
    "students_counts_combined = merged_preinscriptions_matricules.groupby(['Curs_Preinscripcio', 'Curs_Matricula']).size().reset_index(name='Count')\n",
    "students_counts_combined\n",
    "#Merge DNI i titulació! Utilitzar taula de titulacions. És possible que ja estigui cursant algo i entri a un altre. \n",
    "#Pla i preeinscripció."
   ]
  },
  {
   "cell_type": "code",
   "execution_count": null,
   "metadata": {},
   "outputs": [],
   "source": [
    "#Check relationship between Curs Preinscripció and Curs Matrícula\n",
    "pivot_table_counts = merged_preinscriptions_matricules.pivot_table(index='Curs_Preinscripcio', columns='Curs_Matricula', aggfunc='size', fill_value=0)\n",
    "table_df = pivot_table_counts.reset_index()\n",
    "table_df"
   ]
  },
  {
   "cell_type": "code",
   "execution_count": null,
   "metadata": {},
   "outputs": [],
   "source": [
    "#Tried left and inner join between matricules_df and notes_df on NIA:\n",
    "    # inner join shape: (41327, 16)\n",
    "    # left join shape: (41613,16)\n",
    "    # righ join shape: (41327, 16)\n",
    "        # ---> 286 students appear in matricules but do not have grades; STUDENTS OF 2023!!!\n",
    "        # ---> All students with grades appear in matricules. "
   ]
  },
  {
   "cell_type": "code",
   "execution_count": null,
   "metadata": {},
   "outputs": [],
   "source": [
    "#The df contains all matriculations that a student(DNI) has made. Since we are only analyzing the first semester of the student\n",
    "#we are interested in keeping only the first year (lowest year) a student(DNI) got matriculated. \n",
    "matricules_df = matricules_df.sort_values(by='curs_matricula')\n",
    "matricules_df = matricules_df.groupby('DNI').first().reset_index()\n",
    "matricules_df.shape"
   ]
  },
  {
   "cell_type": "code",
   "execution_count": null,
   "metadata": {},
   "outputs": [],
   "source": [
    "merged_matricules_notes = pd.merge( matricules_df, notes_df, on='NIA', how='left')\n",
    "merged_matricules_notes"
   ]
  },
  {
   "cell_type": "markdown",
   "metadata": {},
   "source": [
    "## Complete merge"
   ]
  },
  {
   "cell_type": "code",
   "execution_count": null,
   "metadata": {},
   "outputs": [],
   "source": [
    "merged_preinscriptions_matricules = pd.merge(pre_df, matricules_df, on='DNI', how='inner')\n",
    "final_merged_df = pd.merge(merged_preinscriptions_matricules, notes_df, on='NIA', how='inner')\n",
    "\n",
    "final_merged_df.columns"
   ]
  },
  {
   "cell_type": "code",
   "execution_count": null,
   "metadata": {},
   "outputs": [],
   "source": [
    "final_merged_df_sorted = final_merged_df.sort_values(by='Curs_Matricula')"
   ]
  },
  {
   "cell_type": "code",
   "execution_count": null,
   "metadata": {},
   "outputs": [],
   "source": [
    "filtered_df = final_merged_df_sorted[final_merged_df_sorted['Curs_Matricula'] == final_merged_df_sorted['ANO_ACADEMICO']]"
   ]
  },
  {
   "cell_type": "code",
   "execution_count": null,
   "metadata": {},
   "outputs": [],
   "source": [
    "filtered_df.shape"
   ]
  },
  {
   "cell_type": "code",
   "execution_count": null,
   "metadata": {},
   "outputs": [],
   "source": [
    "group_nia = filtered_df.groupby('NIA')."
   ]
  },
  {
   "cell_type": "code",
   "execution_count": null,
   "metadata": {},
   "outputs": [],
   "source": [
    "for name, group in group_nia:\n",
    "    print(f\"Group: {name}\")\n",
    "    print(group.head())  # Display the first few rows of the group\n",
    "    print(\"\\n\")"
   ]
  },
  {
   "cell_type": "code",
   "execution_count": null,
   "metadata": {},
   "outputs": [],
   "source": [
    "average_notanumericacta = group_nia['NOTANUMERICAACTA'].mean().head(10)\n",
    "\n",
    "# Display the resulting Series\n",
    "print(average_notanumericacta)"
   ]
  },
  {
   "cell_type": "code",
   "execution_count": null,
   "metadata": {},
   "outputs": [],
   "source": [
    "count_zeros = (average_notanumericacta < 5).sum()"
   ]
  },
  {
   "cell_type": "code",
   "execution_count": null,
   "metadata": {},
   "outputs": [],
   "source": [
    "count_zeros"
   ]
  },
  {
   "cell_type": "code",
   "execution_count": null,
   "metadata": {},
   "outputs": [],
   "source": [
    "#Assignatures segon semestre: NP o NV --> Ho han deixat\n",
    "#Número d'assignatures suspeses\n",
    "#Primera vegada matriculat l'aproba? "
   ]
  }
 ],
 "metadata": {
  "kernelspec": {
   "display_name": "ironhack",
   "language": "python",
   "name": "ironhack"
  },
  "language_info": {
   "codemirror_mode": {
    "name": "ipython",
    "version": 3
   },
   "file_extension": ".py",
   "mimetype": "text/x-python",
   "name": "python",
   "nbconvert_exporter": "python",
   "pygments_lexer": "ipython3",
   "version": "3.11.5"
  }
 },
 "nbformat": 4,
 "nbformat_minor": 2
}
