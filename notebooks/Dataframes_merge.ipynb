{
 "cells": [
  {
   "cell_type": "markdown",
   "metadata": {},
   "source": [
    "# Dataframes merge"
   ]
  },
  {
   "cell_type": "markdown",
   "metadata": {},
   "source": [
    "After exploring the data and doing minor cleaning we are going to merge the data of preinscriptions, matricules and notes so we end up with a unique dataframe that contains only those students that got matriculated after the preinscription and their grades."
   ]
  },
  {
   "cell_type": "code",
   "execution_count": 28,
   "metadata": {},
   "outputs": [],
   "source": [
    "import pandas as pd\n",
    "import re\n",
    "from unidecode import unidecode"
   ]
  },
  {
   "cell_type": "code",
   "execution_count": 29,
   "metadata": {},
   "outputs": [],
   "source": [
    "preinscripcions_df = pd.read_csv('../data/processed/preinscripcions_df.csv')\n",
    "\n",
    "matricules_df = pd.read_csv('../data/processed/matricules_df.csv')\n",
    "notes_df = pd.read_csv('../data/processed/notes_df.csv')\n",
    "titulacions_df = pd.read_csv('../data/processed/titulacions_df.csv')"
   ]
  },
  {
   "cell_type": "code",
   "execution_count": 30,
   "metadata": {
    "scrolled": true
   },
   "outputs": [
    {
     "name": "stdout",
     "output_type": "stream",
     "text": [
      "Preinscripcions shape:(2266, 33)\n",
      "Matricules shape:(1713, 6)\n",
      "Notes shape:(31963, 14)\n"
     ]
    }
   ],
   "source": [
    "print(f'Preinscripcions shape:{preinscripcions_df.shape}')\n",
    "print(f'Matricules shape:{matricules_df.shape}')\n",
    "print(f'Notes shape:{notes_df.shape}')"
   ]
  },
  {
   "cell_type": "markdown",
   "metadata": {},
   "source": [
    "### Merge of preinscripcions & matriculations"
   ]
  },
  {
   "cell_type": "code",
   "execution_count": 31,
   "metadata": {},
   "outputs": [],
   "source": [
    "#We first merge preinscripcions and matricules to find out how many students do actually matriculate after preinscripcions.\n",
    "#We try the join on DNI and codi_grau in case a student did preinscriptions and matriculated multiple times"
   ]
  },
  {
   "cell_type": "code",
   "execution_count": 32,
   "metadata": {},
   "outputs": [],
   "source": [
    "check_data_merge = pd.merge(preinscripcions_df, matricules_df, on=['DNI'], how='outer', indicator=True)"
   ]
  },
  {
   "cell_type": "code",
   "execution_count": 33,
   "metadata": {},
   "outputs": [
    {
     "data": {
      "text/plain": [
       "(2422, 39)"
      ]
     },
     "execution_count": 33,
     "metadata": {},
     "output_type": "execute_result"
    }
   ],
   "source": [
    "check_data_merge.shape"
   ]
  },
  {
   "cell_type": "code",
   "execution_count": 34,
   "metadata": {},
   "outputs": [
    {
     "data": {
      "text/plain": [
       "Index(['curs_preinscripcio', 'convocatoria', 'DNI', 'codi_centre_secundaria',\n",
       "       'nacionalitat', 'pais', 'CP', 'poblacio', 'comarca', 'provincia',\n",
       "       'sexe', 'data_naixement', 'via_acces', 'nota_acces', 'codi_grau_x',\n",
       "       'ordre_assignacio', 'any_qualificacio', 'convocatoria_qualificacio',\n",
       "       'estudis_pare', 'estudis_mare', 'ocupacio_pare', 'ocupacio_mare',\n",
       "       'treball_remunerat', 'orientacio', 'aspectes_eleccio',\n",
       "       'any_acabament_secundaria', 'tipus_centre_secundaria',\n",
       "       'tipus_lloc_secundaria', 'codi_lloc_secundaria',\n",
       "       'estudis_universitaris', 'any_acces_primera_vegada_universitat',\n",
       "       'titulacio_nivell_assolit', 'modalitat_acces', 'identification',\n",
       "       'curs_matricula', 'NIA', 'pla', 'codi_grau_y', '_merge'],\n",
       "      dtype='object')"
      ]
     },
     "execution_count": 34,
     "metadata": {},
     "output_type": "execute_result"
    }
   ],
   "source": [
    "check_data_merge.columns"
   ]
  },
  {
   "cell_type": "code",
   "execution_count": 35,
   "metadata": {
    "scrolled": true
   },
   "outputs": [
    {
     "name": "stdout",
     "output_type": "stream",
     "text": [
      "curs_matricula\n",
      "2019.0    84\n",
      "2014.0    16\n",
      "2016.0     9\n",
      "2021.0     7\n",
      "2015.0     5\n",
      "2017.0     4\n",
      "2022.0     3\n",
      "2023.0     3\n",
      "2018.0     2\n",
      "2020.0     1\n",
      "Name: count, dtype: int64\n"
     ]
    },
    {
     "data": {
      "text/plain": [
       "(134, 39)"
      ]
     },
     "execution_count": 35,
     "metadata": {},
     "output_type": "execute_result"
    }
   ],
   "source": [
    "only_in_matricules = check_data_merge[check_data_merge['_merge'] == 'right_only'].copy()\n",
    "print(only_in_matricules['curs_matricula'].value_counts())\n",
    "only_in_matricules.shape\n",
    "# 125 Rows only in matricules_df that do not appear in preinscriptions--> This shoudn't happen. \n",
    "#However, there is two casuistics that might explain this cases:\n",
    "    # 1. Something wrong with 2019 data --> 70% of cases are from 2019\n",
    "    # 2. Students used their passport for the preinscription and their DNI for matriculation. So there is no possible match.\n",
    "    \n",
    "    #only_in_matricules.to_excel('../data/only_in_matricules.xlsx', index=False)"
   ]
  },
  {
   "cell_type": "code",
   "execution_count": 36,
   "metadata": {},
   "outputs": [],
   "source": [
    "first_merge = pd.merge(preinscripcions_df, matricules_df, on=['DNI','codi_grau'], how='inner')"
   ]
  },
  {
   "cell_type": "code",
   "execution_count": 37,
   "metadata": {
    "scrolled": true
   },
   "outputs": [
    {
     "data": {
      "text/plain": [
       "(1560, 37)"
      ]
     },
     "execution_count": 37,
     "metadata": {},
     "output_type": "execute_result"
    }
   ],
   "source": [
    "first_merge.shape #1569 students ended up matriculating after the preinscription"
   ]
  },
  {
   "cell_type": "code",
   "execution_count": 38,
   "metadata": {},
   "outputs": [
    {
     "data": {
      "text/html": [
       "<div>\n",
       "<style scoped>\n",
       "    .dataframe tbody tr th:only-of-type {\n",
       "        vertical-align: middle;\n",
       "    }\n",
       "\n",
       "    .dataframe tbody tr th {\n",
       "        vertical-align: top;\n",
       "    }\n",
       "\n",
       "    .dataframe thead th {\n",
       "        text-align: right;\n",
       "    }\n",
       "</style>\n",
       "<table border=\"1\" class=\"dataframe\">\n",
       "  <thead>\n",
       "    <tr style=\"text-align: right;\">\n",
       "      <th></th>\n",
       "      <th>Curs_Preinscripcio</th>\n",
       "      <th>Curs_Matricula</th>\n",
       "      <th>Count_Difference</th>\n",
       "    </tr>\n",
       "  </thead>\n",
       "  <tbody>\n",
       "    <tr>\n",
       "      <th>2014</th>\n",
       "      <td>203</td>\n",
       "      <td>180</td>\n",
       "      <td>23</td>\n",
       "    </tr>\n",
       "    <tr>\n",
       "      <th>2015</th>\n",
       "      <td>181</td>\n",
       "      <td>143</td>\n",
       "      <td>38</td>\n",
       "    </tr>\n",
       "    <tr>\n",
       "      <th>2016</th>\n",
       "      <td>202</td>\n",
       "      <td>173</td>\n",
       "      <td>29</td>\n",
       "    </tr>\n",
       "    <tr>\n",
       "      <th>2017</th>\n",
       "      <td>195</td>\n",
       "      <td>160</td>\n",
       "      <td>35</td>\n",
       "    </tr>\n",
       "    <tr>\n",
       "      <th>2018</th>\n",
       "      <td>178</td>\n",
       "      <td>124</td>\n",
       "      <td>54</td>\n",
       "    </tr>\n",
       "    <tr>\n",
       "      <th>2019</th>\n",
       "      <td>221</td>\n",
       "      <td>159</td>\n",
       "      <td>62</td>\n",
       "    </tr>\n",
       "    <tr>\n",
       "      <th>2020</th>\n",
       "      <td>191</td>\n",
       "      <td>133</td>\n",
       "      <td>58</td>\n",
       "    </tr>\n",
       "    <tr>\n",
       "      <th>2021</th>\n",
       "      <td>265</td>\n",
       "      <td>205</td>\n",
       "      <td>60</td>\n",
       "    </tr>\n",
       "    <tr>\n",
       "      <th>2022</th>\n",
       "      <td>318</td>\n",
       "      <td>217</td>\n",
       "      <td>101</td>\n",
       "    </tr>\n",
       "    <tr>\n",
       "      <th>2023</th>\n",
       "      <td>312</td>\n",
       "      <td>219</td>\n",
       "      <td>93</td>\n",
       "    </tr>\n",
       "  </tbody>\n",
       "</table>\n",
       "</div>"
      ],
      "text/plain": [
       "      Curs_Preinscripcio  Curs_Matricula  Count_Difference\n",
       "2014                 203             180                23\n",
       "2015                 181             143                38\n",
       "2016                 202             173                29\n",
       "2017                 195             160                35\n",
       "2018                 178             124                54\n",
       "2019                 221             159                62\n",
       "2020                 191             133                58\n",
       "2021                 265             205                60\n",
       "2022                 318             217               101\n",
       "2023                 312             219                93"
      ]
     },
     "execution_count": 38,
     "metadata": {},
     "output_type": "execute_result"
    }
   ],
   "source": [
    "#To have some context on numbers let's check how many rows appear in the preinscripcio list and in the matriculations list.\n",
    "preinscripcions_counts = preinscripcions_df['curs_preinscripcio'].value_counts().sort_index()\n",
    "matricula_counts = matricules_df['curs_matricula'].value_counts().sort_index()\n",
    "\n",
    "counts_df = pd.DataFrame({\n",
    "    'Curs_Preinscripcio': preinscripcions_counts,\n",
    "    'Curs_Matricula': matricula_counts,\n",
    "    'Count_Difference': preinscripcions_counts - matricula_counts\n",
    "})\n",
    "\n",
    "counts_df"
   ]
  },
  {
   "cell_type": "markdown",
   "metadata": {},
   "source": [
    "### Merge with grades"
   ]
  },
  {
   "cell_type": "code",
   "execution_count": 39,
   "metadata": {},
   "outputs": [],
   "source": [
    "#The data in \"notes_df\" does not have grades for students matriculated on 2023. \n",
    "#We will use this students to test our model in the future. We save the students_2023 df.\n",
    "#We divide this data to work with the rest of the data on our model. \n",
    "\n",
    "students_2023 = first_merge[first_merge['curs_matricula']== 2023]\n",
    "students_2023.to_csv('../data/processed/students_2023.csv', index=False)"
   ]
  },
  {
   "cell_type": "code",
   "execution_count": 40,
   "metadata": {},
   "outputs": [],
   "source": [
    "#Drop the rows from the students of 2023 from the preinscriptions and matriculations dataframe\n",
    "first_merge = first_merge[first_merge['curs_matricula']!= 2023]"
   ]
  },
  {
   "cell_type": "code",
   "execution_count": 41,
   "metadata": {},
   "outputs": [
    {
     "data": {
      "text/plain": [
       "(1347, 37)"
      ]
     },
     "execution_count": 41,
     "metadata": {},
     "output_type": "execute_result"
    }
   ],
   "source": [
    "first_merge.shape"
   ]
  },
  {
   "cell_type": "code",
   "execution_count": 42,
   "metadata": {},
   "outputs": [
    {
     "data": {
      "text/plain": [
       "Index(['curs_preinscripcio', 'convocatoria', 'DNI', 'codi_centre_secundaria',\n",
       "       'nacionalitat', 'pais', 'CP', 'poblacio', 'comarca', 'provincia',\n",
       "       'sexe', 'data_naixement', 'via_acces', 'nota_acces', 'codi_grau',\n",
       "       'ordre_assignacio', 'any_qualificacio', 'convocatoria_qualificacio',\n",
       "       'estudis_pare', 'estudis_mare', 'ocupacio_pare', 'ocupacio_mare',\n",
       "       'treball_remunerat', 'orientacio', 'aspectes_eleccio',\n",
       "       'any_acabament_secundaria', 'tipus_centre_secundaria',\n",
       "       'tipus_lloc_secundaria', 'codi_lloc_secundaria',\n",
       "       'estudis_universitaris', 'any_acces_primera_vegada_universitat',\n",
       "       'titulacio_nivell_assolit', 'modalitat_acces', 'identification',\n",
       "       'curs_matricula', 'NIA', 'pla'],\n",
       "      dtype='object')"
      ]
     },
     "execution_count": 42,
     "metadata": {},
     "output_type": "execute_result"
    }
   ],
   "source": [
    "first_merge.columns"
   ]
  },
  {
   "cell_type": "code",
   "execution_count": 43,
   "metadata": {},
   "outputs": [
    {
     "data": {
      "text/plain": [
       "Index(['any_academic', 'assignatura', 'codi_assignatura', 'grup', 'NIA', 'pla',\n",
       "       'tipus', 'curs', 'semestre', 'exhaurides', 'superada', 'nota_numerica',\n",
       "       'nota_alfa', 'codi_grau'],\n",
       "      dtype='object')"
      ]
     },
     "execution_count": 43,
     "metadata": {},
     "output_type": "execute_result"
    }
   ],
   "source": [
    "notes_df.columns"
   ]
  },
  {
   "cell_type": "code",
   "execution_count": 44,
   "metadata": {},
   "outputs": [],
   "source": [
    "final_merge = pd.merge(first_merge,notes_df, on=['NIA','codi_grau','pla'], how='inner')"
   ]
  },
  {
   "cell_type": "code",
   "execution_count": 45,
   "metadata": {},
   "outputs": [
    {
     "data": {
      "text/plain": [
       "Index(['curs_preinscripcio', 'convocatoria', 'DNI', 'codi_centre_secundaria',\n",
       "       'nacionalitat', 'pais', 'CP', 'poblacio', 'comarca', 'provincia',\n",
       "       'sexe', 'data_naixement', 'via_acces', 'nota_acces', 'codi_grau',\n",
       "       'ordre_assignacio', 'any_qualificacio', 'convocatoria_qualificacio',\n",
       "       'estudis_pare', 'estudis_mare', 'ocupacio_pare', 'ocupacio_mare',\n",
       "       'treball_remunerat', 'orientacio', 'aspectes_eleccio',\n",
       "       'any_acabament_secundaria', 'tipus_centre_secundaria',\n",
       "       'tipus_lloc_secundaria', 'codi_lloc_secundaria',\n",
       "       'estudis_universitaris', 'any_acces_primera_vegada_universitat',\n",
       "       'titulacio_nivell_assolit', 'modalitat_acces', 'identification',\n",
       "       'curs_matricula', 'NIA', 'pla', 'any_academic', 'assignatura',\n",
       "       'codi_assignatura', 'grup', 'tipus', 'curs', 'semestre', 'exhaurides',\n",
       "       'superada', 'nota_numerica', 'nota_alfa'],\n",
       "      dtype='object')"
      ]
     },
     "execution_count": 45,
     "metadata": {},
     "output_type": "execute_result"
    }
   ],
   "source": [
    "final_merge.columns"
   ]
  },
  {
   "cell_type": "code",
   "execution_count": 46,
   "metadata": {},
   "outputs": [],
   "source": [
    "#We want to keep only the rows of the 1st year of each student --> year where curs_matricula == any_academic (from notes)\n",
    "condition = final_merge['curs_matricula'] == final_merge['any_academic']\n",
    "final_merge = final_merge[condition]"
   ]
  },
  {
   "cell_type": "code",
   "execution_count": 47,
   "metadata": {},
   "outputs": [],
   "source": [
    "final_merge = final_merge.drop(columns='identification')\n",
    "final_merge = final_merge.drop(columns='DNI') #only need one identification column, redundant with NIA"
   ]
  },
  {
   "cell_type": "code",
   "execution_count": 48,
   "metadata": {},
   "outputs": [
    {
     "data": {
      "text/plain": [
       "(11378, 46)"
      ]
     },
     "execution_count": 48,
     "metadata": {},
     "output_type": "execute_result"
    }
   ],
   "source": [
    "final_merge.shape"
   ]
  },
  {
   "cell_type": "code",
   "execution_count": 49,
   "metadata": {},
   "outputs": [
    {
     "data": {
      "text/plain": [
       "Index(['curs_preinscripcio', 'convocatoria', 'codi_centre_secundaria',\n",
       "       'nacionalitat', 'pais', 'CP', 'poblacio', 'comarca', 'provincia',\n",
       "       'sexe', 'data_naixement', 'via_acces', 'nota_acces', 'codi_grau',\n",
       "       'ordre_assignacio', 'any_qualificacio', 'convocatoria_qualificacio',\n",
       "       'estudis_pare', 'estudis_mare', 'ocupacio_pare', 'ocupacio_mare',\n",
       "       'treball_remunerat', 'orientacio', 'aspectes_eleccio',\n",
       "       'any_acabament_secundaria', 'tipus_centre_secundaria',\n",
       "       'tipus_lloc_secundaria', 'codi_lloc_secundaria',\n",
       "       'estudis_universitaris', 'any_acces_primera_vegada_universitat',\n",
       "       'titulacio_nivell_assolit', 'modalitat_acces', 'curs_matricula', 'NIA',\n",
       "       'pla', 'any_academic', 'assignatura', 'codi_assignatura', 'grup',\n",
       "       'tipus', 'curs', 'semestre', 'exhaurides', 'superada', 'nota_numerica',\n",
       "       'nota_alfa'],\n",
       "      dtype='object')"
      ]
     },
     "execution_count": 49,
     "metadata": {},
     "output_type": "execute_result"
    }
   ],
   "source": [
    "final_merge.columns"
   ]
  },
  {
   "cell_type": "code",
   "execution_count": 50,
   "metadata": {},
   "outputs": [],
   "source": [
    "order_columns = ['NIA','curs_preinscripcio', 'convocatoria','curs_matricula',   \n",
    "                 'sexe','data_naixement','nacionalitat', 'pais', 'CP', 'poblacio', 'comarca', 'provincia',\n",
    "                 'via_acces', 'nota_acces', 'ordre_assignacio','orientacio', 'aspectes_eleccio',\n",
    "                 'any_qualificacio', 'convocatoria_qualificacio',\n",
    "                 'treball_remunerat','estudis_pare', 'estudis_mare', 'ocupacio_pare', 'ocupacio_mare',\n",
    "                'codi_centre_secundaria', 'any_acabament_secundaria', 'tipus_centre_secundaria','tipus_lloc_secundaria', 'codi_lloc_secundaria',\n",
    "                'estudis_universitaris', 'any_acces_primera_vegada_universitat','titulacio_nivell_assolit', 'modalitat_acces',\n",
    "                 'codi_grau', 'pla', 'any_academic', 'assignatura', \n",
    "                   'codi_assignatura', 'grup', 'tipus','curs','semestre', 'exhaurides',\n",
    "                   'superada', 'nota_numerica', 'nota_alfa']\n",
    "\n",
    "final_merge = final_merge[order_columns]"
   ]
  },
  {
   "cell_type": "code",
   "execution_count": 51,
   "metadata": {},
   "outputs": [],
   "source": [
    "final_merge.to_csv('../data/raw/final_merge.csv', index=False)"
   ]
  },
  {
   "cell_type": "code",
   "execution_count": 52,
   "metadata": {},
   "outputs": [
    {
     "data": {
      "text/plain": [
       "NIA                                        0\n",
       "curs_preinscripcio                         0\n",
       "convocatoria                               0\n",
       "curs_matricula                             0\n",
       "sexe                                       0\n",
       "data_naixement                             0\n",
       "nacionalitat                               0\n",
       "pais                                       0\n",
       "CP                                         0\n",
       "poblacio                                   0\n",
       "comarca                                  570\n",
       "provincia                                 79\n",
       "via_acces                                  0\n",
       "nota_acces                                 0\n",
       "ordre_assignacio                           0\n",
       "orientacio                                 0\n",
       "aspectes_eleccio                           0\n",
       "any_qualificacio                           0\n",
       "convocatoria_qualificacio                  0\n",
       "treball_remunerat                          0\n",
       "estudis_pare                               0\n",
       "estudis_mare                               0\n",
       "ocupacio_pare                              0\n",
       "ocupacio_mare                              0\n",
       "codi_centre_secundaria                  2954\n",
       "any_acabament_secundaria                1506\n",
       "tipus_centre_secundaria                 1506\n",
       "tipus_lloc_secundaria                   1506\n",
       "codi_lloc_secundaria                    1506\n",
       "estudis_universitaris                      0\n",
       "any_acces_primera_vegada_universitat    9149\n",
       "titulacio_nivell_assolit                9149\n",
       "modalitat_acces                         9149\n",
       "codi_grau                                  0\n",
       "pla                                        0\n",
       "any_academic                               0\n",
       "assignatura                                0\n",
       "codi_assignatura                           0\n",
       "grup                                       0\n",
       "tipus                                      0\n",
       "curs                                       0\n",
       "semestre                                   0\n",
       "exhaurides                                 0\n",
       "superada                                   0\n",
       "nota_numerica                              0\n",
       "nota_alfa                                  0\n",
       "dtype: int64"
      ]
     },
     "execution_count": 52,
     "metadata": {},
     "output_type": "execute_result"
    }
   ],
   "source": [
    "final_merge.isnull().sum()"
   ]
  }
 ],
 "metadata": {
  "kernelspec": {
   "display_name": "ironhack",
   "language": "python",
   "name": "ironhack"
  },
  "language_info": {
   "codemirror_mode": {
    "name": "ipython",
    "version": 3
   },
   "file_extension": ".py",
   "mimetype": "text/x-python",
   "name": "python",
   "nbconvert_exporter": "python",
   "pygments_lexer": "ipython3",
   "version": "3.11.5"
  }
 },
 "nbformat": 4,
 "nbformat_minor": 2
}
