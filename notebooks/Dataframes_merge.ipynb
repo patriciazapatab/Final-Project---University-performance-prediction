{
 "cells": [
  {
   "cell_type": "markdown",
   "metadata": {},
   "source": [
    "# Dataframes merge"
   ]
  },
  {
   "cell_type": "markdown",
   "metadata": {},
   "source": [
    "After exploring the data and doing minor cleaning we are going to merge the data of preinscriptions, matricules and notes so we end up with a unique dataframe that contains only those students that got matriculated after the preinscription. "
   ]
  },
  {
   "cell_type": "code",
   "execution_count": 1,
   "metadata": {},
   "outputs": [],
   "source": [
    "import pandas as pd\n",
    "import re\n",
    "from unidecode import unidecode"
   ]
  },
  {
   "cell_type": "code",
   "execution_count": 2,
   "metadata": {},
   "outputs": [],
   "source": [
    "students_df = pd.read_csv('../data/processed/students_df.csv')\n",
    "uni_access_df = pd.read_csv('../data/processed/uni_access_df.csv')\n",
    "previous_education_df = pd.read_csv('../data/processed/previous_education_df.csv')\n",
    "preinscripcions_df = pd.read_csv('../data/processed/preinscripcions_df.csv')\n",
    "matricules_df = pd.read_csv('../data/processed/matricules_df.csv')\n",
    "notes_df = pd.read_csv('../data/processed/notes_df.csv')\n",
    "titulacions_df = pd.read_csv('../data/processed/titulacions_df.csv')"
   ]
  },
  {
   "cell_type": "code",
   "execution_count": 3,
   "metadata": {
    "scrolled": true
   },
   "outputs": [
    {
     "name": "stdout",
     "output_type": "stream",
     "text": [
      "Preinscripcions shape:(2280, 33)\n",
      "Matricules shape:(1713, 6)\n",
      "Notes shape:(41327, 13)\n",
      "---------\n",
      "Students shape:(2154, 14)\n",
      "University access info shape:(2280, 11)\n",
      "Previous education shape:(2280, 10)\n"
     ]
    }
   ],
   "source": [
    "print(f'Preinscripcions shape:{preinscripcions_df.shape}')\n",
    "print(f'Matricules shape:{matricules_df.shape}')\n",
    "print(f'Notes shape:{notes_df.shape}')\n",
    "print('---------')\n",
    "print(f'Students shape:{students_df.shape}')\n",
    "print(f'University access info shape:{uni_access_df.shape}')\n",
    "print(f'Previous education shape:{previous_education_df.shape}')"
   ]
  },
  {
   "cell_type": "code",
   "execution_count": 4,
   "metadata": {},
   "outputs": [],
   "source": [
    "#We first merge preinscripcions and matricules to find out how many students do actually matriculate after preinscripcions.\n",
    "#We try the join on DNI and codi_grau in case a student did preinscriptions and matriculated multiple times"
   ]
  },
  {
   "cell_type": "code",
   "execution_count": 5,
   "metadata": {},
   "outputs": [],
   "source": [
    "check_data_merge = pd.merge(preinscripcions_df, matricules_df, on=['DNI'], how='outer', indicator=True)"
   ]
  },
  {
   "cell_type": "code",
   "execution_count": 6,
   "metadata": {},
   "outputs": [
    {
     "data": {
      "text/plain": [
       "(2427, 39)"
      ]
     },
     "execution_count": 6,
     "metadata": {},
     "output_type": "execute_result"
    }
   ],
   "source": [
    "check_data_merge.shape"
   ]
  },
  {
   "cell_type": "code",
   "execution_count": 7,
   "metadata": {},
   "outputs": [
    {
     "data": {
      "text/plain": [
       "Index(['curs_preinscripcio', 'convocatoria', 'DNI', 'codi_centre_secundaria',\n",
       "       'nacionalitat', 'pais', 'CP', 'poblacio', 'comarca', 'provincia',\n",
       "       'sexe', 'data_naixement', 'via_acces', 'nota_acces', 'codi_grau_x',\n",
       "       'ordre_assignacio', 'any_qualificacio', 'convocatoria_qualificacio',\n",
       "       'estudis_pare', 'estudis_mare', 'ocupacio_pare', 'ocupacio_mare',\n",
       "       'treball_remunerat', 'orientacio', 'aspectes_eleccio',\n",
       "       'any_acabament_secundaria', 'tipus_centre_secundaria',\n",
       "       'tipus_lloc_secundaria', 'codi_lloc_secundaria',\n",
       "       'estudis_universitaris', 'any_acces_primera_vegada_universitat',\n",
       "       'titulacio_nivell_assolit', 'modalitat_acces', 'identification',\n",
       "       'curs_matricula', 'NIA', 'pla', 'codi_grau_y', '_merge'],\n",
       "      dtype='object')"
      ]
     },
     "execution_count": 7,
     "metadata": {},
     "output_type": "execute_result"
    }
   ],
   "source": [
    "check_data_merge.columns"
   ]
  },
  {
   "cell_type": "code",
   "execution_count": 8,
   "metadata": {
    "scrolled": true
   },
   "outputs": [
    {
     "name": "stdout",
     "output_type": "stream",
     "text": [
      "curs_matricula\n",
      "2019.0    84\n",
      "2014.0    13\n",
      "2016.0     8\n",
      "2021.0     6\n",
      "2017.0     4\n",
      "2022.0     3\n",
      "2015.0     3\n",
      "2023.0     2\n",
      "2018.0     1\n",
      "2020.0     1\n",
      "Name: count, dtype: int64\n"
     ]
    },
    {
     "data": {
      "text/plain": [
       "(125, 39)"
      ]
     },
     "execution_count": 8,
     "metadata": {},
     "output_type": "execute_result"
    }
   ],
   "source": [
    "only_in_matricules = check_data_merge[check_data_merge['_merge'] == 'right_only'].copy()\n",
    "print(only_in_matricules['curs_matricula'].value_counts())\n",
    "only_in_matricules.shape\n",
    "# 125 Rows only in matricules_df that do not appear in preinscriptions--> This shoudn't happen. \n",
    "#However, there is two casuistics that might explain this cases:\n",
    "    # 1. Something wrong with 2019 data --> 70% of cases are from 2019\n",
    "    # 2. Students used their passport for the preinscription and their DNI for matriculation. So there is no possible match.\n",
    "    \n",
    "    #only_in_matricules.to_excel('../data/only_in_matricules.xlsx', index=False)"
   ]
  },
  {
   "cell_type": "code",
   "execution_count": 9,
   "metadata": {},
   "outputs": [],
   "source": [
    "first_merge = pd.merge(preinscripcions_df, matricules_df, on=['DNI','codi_grau'], how='inner')"
   ]
  },
  {
   "cell_type": "code",
   "execution_count": 10,
   "metadata": {},
   "outputs": [],
   "source": [
    "#The data in \"notes_df\" does not have grades for students matriculated on 2023. \n",
    "#We will use this students to test our model in the future. We save the students_2023 df.\n",
    "#We divide this data to work with the rest of the data on our model. \n",
    "\n",
    "students_2023 = first_merge[first_merge['curs_matricula']== 2023]\n",
    "students_2023.to_csv('../data/processed/students_2023.csv', index=False)"
   ]
  },
  {
   "cell_type": "code",
   "execution_count": 11,
   "metadata": {
    "scrolled": true
   },
   "outputs": [
    {
     "data": {
      "text/plain": [
       "(1569, 37)"
      ]
     },
     "execution_count": 11,
     "metadata": {},
     "output_type": "execute_result"
    }
   ],
   "source": [
    "first_merge.shape"
   ]
  },
  {
   "cell_type": "code",
   "execution_count": 12,
   "metadata": {},
   "outputs": [],
   "source": [
    "#Drop the rows from the students of 2023 from the preinscriptions and matriculations dataframe\n",
    "first_merge = first_merge[first_merge['curs_matricula']!= 2023]"
   ]
  },
  {
   "cell_type": "code",
   "execution_count": 13,
   "metadata": {},
   "outputs": [
    {
     "data": {
      "text/plain": [
       "(1355, 37)"
      ]
     },
     "execution_count": 13,
     "metadata": {},
     "output_type": "execute_result"
    }
   ],
   "source": [
    "first_merge.shape"
   ]
  },
  {
   "cell_type": "code",
   "execution_count": 14,
   "metadata": {},
   "outputs": [],
   "source": [
    "final_merge = pd.merge(first_merge,notes_df, on=['NIA','pla'], how='inner')"
   ]
  },
  {
   "cell_type": "code",
   "execution_count": 15,
   "metadata": {},
   "outputs": [],
   "source": [
    "#We want to keep only the rows of the 1st year of each student. This is the year where curs_matricula == curs (from notes)\n",
    "condition = final_merge['curs_matricula'] == final_merge['any_academic']\n",
    "final_merge = final_merge[condition]"
   ]
  },
  {
   "cell_type": "code",
   "execution_count": 16,
   "metadata": {},
   "outputs": [],
   "source": [
    "final_merge = final_merge.drop(columns='curs')\n",
    "final_merge = final_merge.drop(columns='identification')\n",
    "final_merge = final_merge.drop(columns='DNI') #only need one identification column, redundant with NIA"
   ]
  },
  {
   "cell_type": "code",
   "execution_count": 17,
   "metadata": {},
   "outputs": [
    {
     "data": {
      "text/plain": [
       "(11426, 45)"
      ]
     },
     "execution_count": 17,
     "metadata": {},
     "output_type": "execute_result"
    }
   ],
   "source": [
    "final_merge.shape"
   ]
  },
  {
   "cell_type": "code",
   "execution_count": 18,
   "metadata": {},
   "outputs": [
    {
     "data": {
      "text/plain": [
       "Index(['curs_preinscripcio', 'convocatoria', 'codi_centre_secundaria',\n",
       "       'nacionalitat', 'pais', 'CP', 'poblacio', 'comarca', 'provincia',\n",
       "       'sexe', 'data_naixement', 'via_acces', 'nota_acces', 'codi_grau',\n",
       "       'ordre_assignacio', 'any_qualificacio', 'convocatoria_qualificacio',\n",
       "       'estudis_pare', 'estudis_mare', 'ocupacio_pare', 'ocupacio_mare',\n",
       "       'treball_remunerat', 'orientacio', 'aspectes_eleccio',\n",
       "       'any_acabament_secundaria', 'tipus_centre_secundaria',\n",
       "       'tipus_lloc_secundaria', 'codi_lloc_secundaria',\n",
       "       'estudis_universitaris', 'any_acces_primera_vegada_universitat',\n",
       "       'titulacio_nivell_assolit', 'modalitat_acces', 'curs_matricula', 'NIA',\n",
       "       'pla', 'any_academic', 'assignatura', 'codi_assignatura', 'grup',\n",
       "       'tipus', 'semestre', 'exhaurides', 'superada', 'nota_numerica',\n",
       "       'nota_alfa'],\n",
       "      dtype='object')"
      ]
     },
     "execution_count": 18,
     "metadata": {},
     "output_type": "execute_result"
    }
   ],
   "source": [
    "final_merge.columns"
   ]
  },
  {
   "cell_type": "code",
   "execution_count": 20,
   "metadata": {},
   "outputs": [],
   "source": [
    "order_columns = ['NIA','curs_preinscripcio', 'convocatoria','curs_matricula',   \n",
    "                 'sexe','data_naixement','nacionalitat', 'pais', 'CP', 'poblacio', 'comarca', 'provincia',\n",
    "                 'via_acces', 'nota_acces', 'ordre_assignacio','orientacio', 'aspectes_eleccio',\n",
    "                 'any_qualificacio', 'convocatoria_qualificacio',\n",
    "                 'treball_remunerat','estudis_pare', 'estudis_mare', 'ocupacio_pare', 'ocupacio_mare',\n",
    "                'codi_centre_secundaria', 'any_acabament_secundaria', 'tipus_centre_secundaria','tipus_lloc_secundaria', 'codi_lloc_secundaria',\n",
    "                'estudis_universitaris', 'any_acces_primera_vegada_universitat','titulacio_nivell_assolit', 'modalitat_acces',\n",
    "                 'codi_grau', 'pla', 'any_academic', 'assignatura', \n",
    "                   'codi_assignatura', 'grup', 'tipus','semestre', 'exhaurides',\n",
    "                   'superada', 'nota_numerica', 'nota_alfa']\n",
    "\n",
    "final_merge = final_merge[order_columns]"
   ]
  },
  {
   "cell_type": "code",
   "execution_count": 21,
   "metadata": {},
   "outputs": [],
   "source": [
    "final_merge.to_csv('../data/raw/final_merge.csv', index=False)"
   ]
  },
  {
   "cell_type": "code",
   "execution_count": 22,
   "metadata": {},
   "outputs": [
    {
     "data": {
      "text/html": [
       "<div>\n",
       "<style scoped>\n",
       "    .dataframe tbody tr th:only-of-type {\n",
       "        vertical-align: middle;\n",
       "    }\n",
       "\n",
       "    .dataframe tbody tr th {\n",
       "        vertical-align: top;\n",
       "    }\n",
       "\n",
       "    .dataframe thead th {\n",
       "        text-align: right;\n",
       "    }\n",
       "</style>\n",
       "<table border=\"1\" class=\"dataframe\">\n",
       "  <thead>\n",
       "    <tr style=\"text-align: right;\">\n",
       "      <th></th>\n",
       "      <th>Curs_Preinscripcio</th>\n",
       "      <th>Curs_Matricula</th>\n",
       "      <th>Count_Difference</th>\n",
       "    </tr>\n",
       "  </thead>\n",
       "  <tbody>\n",
       "    <tr>\n",
       "      <th>2014</th>\n",
       "      <td>206</td>\n",
       "      <td>180</td>\n",
       "      <td>26</td>\n",
       "    </tr>\n",
       "    <tr>\n",
       "      <th>2015</th>\n",
       "      <td>183</td>\n",
       "      <td>143</td>\n",
       "      <td>40</td>\n",
       "    </tr>\n",
       "    <tr>\n",
       "      <th>2016</th>\n",
       "      <td>203</td>\n",
       "      <td>173</td>\n",
       "      <td>30</td>\n",
       "    </tr>\n",
       "    <tr>\n",
       "      <th>2017</th>\n",
       "      <td>197</td>\n",
       "      <td>160</td>\n",
       "      <td>37</td>\n",
       "    </tr>\n",
       "    <tr>\n",
       "      <th>2018</th>\n",
       "      <td>180</td>\n",
       "      <td>124</td>\n",
       "      <td>56</td>\n",
       "    </tr>\n",
       "    <tr>\n",
       "      <th>2019</th>\n",
       "      <td>222</td>\n",
       "      <td>159</td>\n",
       "      <td>63</td>\n",
       "    </tr>\n",
       "    <tr>\n",
       "      <th>2020</th>\n",
       "      <td>192</td>\n",
       "      <td>133</td>\n",
       "      <td>59</td>\n",
       "    </tr>\n",
       "    <tr>\n",
       "      <th>2021</th>\n",
       "      <td>266</td>\n",
       "      <td>205</td>\n",
       "      <td>61</td>\n",
       "    </tr>\n",
       "    <tr>\n",
       "      <th>2022</th>\n",
       "      <td>318</td>\n",
       "      <td>217</td>\n",
       "      <td>101</td>\n",
       "    </tr>\n",
       "    <tr>\n",
       "      <th>2023</th>\n",
       "      <td>313</td>\n",
       "      <td>219</td>\n",
       "      <td>94</td>\n",
       "    </tr>\n",
       "  </tbody>\n",
       "</table>\n",
       "</div>"
      ],
      "text/plain": [
       "      Curs_Preinscripcio  Curs_Matricula  Count_Difference\n",
       "2014                 206             180                26\n",
       "2015                 183             143                40\n",
       "2016                 203             173                30\n",
       "2017                 197             160                37\n",
       "2018                 180             124                56\n",
       "2019                 222             159                63\n",
       "2020                 192             133                59\n",
       "2021                 266             205                61\n",
       "2022                 318             217               101\n",
       "2023                 313             219                94"
      ]
     },
     "execution_count": 22,
     "metadata": {},
     "output_type": "execute_result"
    }
   ],
   "source": [
    "#To have some context on numbers let's check how many rows appear in the preinscripcio list and in the matriculations list.\n",
    "preinscripcions_counts = preinscripcions_df['curs_preinscripcio'].value_counts().sort_index()\n",
    "matricula_counts = matricules_df['curs_matricula'].value_counts().sort_index()\n",
    "\n",
    "counts_df = pd.DataFrame({\n",
    "    'Curs_Preinscripcio': preinscripcions_counts,\n",
    "    'Curs_Matricula': matricula_counts,\n",
    "    'Count_Difference': preinscripcions_counts - matricula_counts\n",
    "})\n",
    "\n",
    "counts_df"
   ]
  },
  {
   "cell_type": "code",
   "execution_count": null,
   "metadata": {},
   "outputs": [],
   "source": []
  },
  {
   "cell_type": "code",
   "execution_count": null,
   "metadata": {},
   "outputs": [],
   "source": []
  },
  {
   "cell_type": "code",
   "execution_count": null,
   "metadata": {},
   "outputs": [],
   "source": []
  }
 ],
 "metadata": {
  "kernelspec": {
   "display_name": "ironhack",
   "language": "python",
   "name": "ironhack"
  },
  "language_info": {
   "codemirror_mode": {
    "name": "ipython",
    "version": 3
   },
   "file_extension": ".py",
   "mimetype": "text/x-python",
   "name": "python",
   "nbconvert_exporter": "python",
   "pygments_lexer": "ipython3",
   "version": "3.11.5"
  }
 },
 "nbformat": 4,
 "nbformat_minor": 2
}
