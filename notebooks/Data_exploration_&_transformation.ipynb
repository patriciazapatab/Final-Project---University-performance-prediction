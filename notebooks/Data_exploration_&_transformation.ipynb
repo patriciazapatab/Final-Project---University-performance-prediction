{
 "cells": [
  {
   "cell_type": "markdown",
   "metadata": {},
   "source": [
    "# Data exploration"
   ]
  },
  {
   "cell_type": "markdown",
   "metadata": {},
   "source": [
    "In this notebook we explore the raw data consisting on 4 excel files: \n",
    "- Preinscripció.xlsl\n",
    "- Matricules.xlsl\n",
    "- Notes.xlsl\n",
    "- Titulacions.xlsl"
   ]
  },
  {
   "cell_type": "code",
   "execution_count": 1,
   "metadata": {},
   "outputs": [],
   "source": [
    "import pandas as pd\n",
    "import re\n",
    "from unidecode import unidecode"
   ]
  },
  {
   "cell_type": "markdown",
   "metadata": {},
   "source": [
    "## Preinscripció"
   ]
  },
  {
   "cell_type": "code",
   "execution_count": 2,
   "metadata": {},
   "outputs": [],
   "source": [
    "file_path = '../data/raw/Preinscripció.xlsx'\n",
    "preinscripcions_df = pd.read_excel(file_path)"
   ]
  },
  {
   "cell_type": "code",
   "execution_count": 3,
   "metadata": {},
   "outputs": [
    {
     "data": {
      "text/plain": [
       "(2280, 77)"
      ]
     },
     "execution_count": 3,
     "metadata": {},
     "output_type": "execute_result"
    }
   ],
   "source": [
    "preinscripcions_df.shape"
   ]
  },
  {
   "cell_type": "code",
   "execution_count": 4,
   "metadata": {},
   "outputs": [
    {
     "data": {
      "text/html": [
       "<div>\n",
       "<style scoped>\n",
       "    .dataframe tbody tr th:only-of-type {\n",
       "        vertical-align: middle;\n",
       "    }\n",
       "\n",
       "    .dataframe tbody tr th {\n",
       "        vertical-align: top;\n",
       "    }\n",
       "\n",
       "    .dataframe thead th {\n",
       "        text-align: right;\n",
       "    }\n",
       "</style>\n",
       "<table border=\"1\" class=\"dataframe\">\n",
       "  <thead>\n",
       "    <tr style=\"text-align: right;\">\n",
       "      <th></th>\n",
       "      <th>Llista</th>\n",
       "      <th>Curs</th>\n",
       "      <th>Convocatoria</th>\n",
       "      <th>DNI</th>\n",
       "      <th>CodiCentreSecundaria</th>\n",
       "      <th>Nacionalitat</th>\n",
       "      <th>Pais</th>\n",
       "      <th>CP</th>\n",
       "      <th>Poblacio</th>\n",
       "      <th>Comarca</th>\n",
       "      <th>...</th>\n",
       "      <th>FrancesCentreExtern</th>\n",
       "      <th>AltresIdiomes</th>\n",
       "      <th>AltresComprensioEscrita</th>\n",
       "      <th>AltresComprensioOral</th>\n",
       "      <th>AltresExpresioEscrita</th>\n",
       "      <th>AltresExpresioOral</th>\n",
       "      <th>AltresBatxillerat</th>\n",
       "      <th>AltresCentreExtern</th>\n",
       "      <th>NoIdiomesCentreExtern</th>\n",
       "      <th>OrdinadorDomicili</th>\n",
       "    </tr>\n",
       "  </thead>\n",
       "  <tbody>\n",
       "    <tr>\n",
       "      <th>4</th>\n",
       "      <td>J02</td>\n",
       "      <td>2014</td>\n",
       "      <td>J</td>\n",
       "      <td>9662817A</td>\n",
       "      <td>8024297.0</td>\n",
       "      <td>ESP</td>\n",
       "      <td>ESP</td>\n",
       "      <td>8208</td>\n",
       "      <td>Sabadell</td>\n",
       "      <td>40.0</td>\n",
       "      <td>...</td>\n",
       "      <td>N</td>\n",
       "      <td>NaN</td>\n",
       "      <td>NaN</td>\n",
       "      <td>NaN</td>\n",
       "      <td>NaN</td>\n",
       "      <td>NaN</td>\n",
       "      <td>N</td>\n",
       "      <td>N</td>\n",
       "      <td>S</td>\n",
       "      <td>1.0</td>\n",
       "    </tr>\n",
       "  </tbody>\n",
       "</table>\n",
       "<p>1 rows × 77 columns</p>\n",
       "</div>"
      ],
      "text/plain": [
       "  Llista  Curs Convocatoria       DNI  CodiCentreSecundaria Nacionalitat Pais  \\\n",
       "4    J02  2014            J  9662817A             8024297.0          ESP  ESP   \n",
       "\n",
       "     CP  Poblacio  Comarca  ...  FrancesCentreExtern AltresIdiomes  \\\n",
       "4  8208  Sabadell     40.0  ...                    N           NaN   \n",
       "\n",
       "  AltresComprensioEscrita AltresComprensioOral  AltresExpresioEscrita  \\\n",
       "4                     NaN                  NaN                    NaN   \n",
       "\n",
       "   AltresExpresioOral AltresBatxillerat  AltresCentreExtern  \\\n",
       "4                 NaN                 N                   N   \n",
       "\n",
       "   NoIdiomesCentreExtern  OrdinadorDomicili  \n",
       "4                      S                1.0  \n",
       "\n",
       "[1 rows x 77 columns]"
      ]
     },
     "execution_count": 4,
     "metadata": {},
     "output_type": "execute_result"
    }
   ],
   "source": [
    "preinscripcions_df.sample()"
   ]
  },
  {
   "cell_type": "code",
   "execution_count": 5,
   "metadata": {},
   "outputs": [
    {
     "data": {
      "text/plain": [
       "Index(['Llista', 'Curs', 'Convocatoria', 'DNI', 'CodiCentreSecundaria',\n",
       "       'Nacionalitat', 'Pais', 'CP', 'Poblacio', 'Comarca', 'Provincia',\n",
       "       'AutoritzacioEnvInfAccesUniv', 'Sexe', 'DataNaixement',\n",
       "       'UniversitatProcedenciaPAU', 'ViaAcces', 'OpcioCOU', 'NotaAcces',\n",
       "       'Pref_1', 'Pref_2', 'Pref_3', 'Pref_4', 'Pref_5', 'Pref_6', 'Pref_7',\n",
       "       'Pref_8', 'CentreAsignat', 'OrdreAssignacio', 'JustificantTrasllat',\n",
       "       'AnyQualificacio', 'ConvocatoriaQualificacio', 'Concordancia',\n",
       "       'EstudisPare', 'EstudisMare', 'OcupacioPare', 'OcupacioMare',\n",
       "       'TreballRemunerat', 'Orientacio', 'AspectesEleccio', 'Altres',\n",
       "       'AnyAcabamentSecundaria', 'TipusCentreSecundaria',\n",
       "       'TipusLlocSecundaria', 'CodiLlocSecundaria', 'EstudisUniversitaris',\n",
       "       'AnyAccesPrimeraVegadaUniversitat', 'TitulacioNivellAssolit',\n",
       "       'ModalitatAcces', 'CatalaComprensioEscrita', 'CatalaComprensioOral',\n",
       "       'CatalaExpresioEscrita', 'CatalaExpresioOral',\n",
       "       'CastellaComprensioEscrita', 'CastellaComprensioOral',\n",
       "       'CastellaExpresioEscrita', 'CastellaExpresioOral',\n",
       "       'AnglesComprensioEscrita', 'AnglesComprensioOral',\n",
       "       'AnglesExpresioEscrita', 'AnglesExpresioOral', 'AnglesBatxillerat',\n",
       "       'AnglesCentreExtern', 'FrancesComprensioEscrita',\n",
       "       'FrancesComprensioOral', 'FrancesExpresioEscrita',\n",
       "       'FrancesExpresioOral', 'FrancesBatxillerat', 'FrancesCentreExtern',\n",
       "       'AltresIdiomes', 'AltresComprensioEscrita', 'AltresComprensioOral',\n",
       "       'AltresExpresioEscrita', 'AltresExpresioOral', 'AltresBatxillerat',\n",
       "       'AltresCentreExtern', 'NoIdiomesCentreExtern', 'OrdinadorDomicili'],\n",
       "      dtype='object')"
      ]
     },
     "execution_count": 5,
     "metadata": {},
     "output_type": "execute_result"
    }
   ],
   "source": [
    "preinscripcions_df.columns"
   ]
  },
  {
   "cell_type": "code",
   "execution_count": 6,
   "metadata": {},
   "outputs": [],
   "source": [
    "#Dropping variables because of irrelevancy: Llista, AutoritzacioEnvInfAccesUniv, UniversitatProcedenciaPAU, \n",
    "        #Prefs (Keeping OrdreAssignacio)\n",
    "#Dropping variables because of Naans: OpcioCOU, JustificantTrasllat, Altres, OrdinadorDomicili\n",
    "\n",
    "columns_to_drop = ['Llista', 'AutoritzacioEnvInfAccesUniv', 'UniversitatProcedenciaPAU', 'OpcioCOU',\n",
    "                   'Pref_1','Pref_2', 'Pref_3', 'Pref_4', 'Pref_5', 'Pref_6', 'Pref_7', 'Pref_8',\n",
    "                    'JustificantTrasllat','Concordancia', 'Altres', 'OrdinadorDomicili']\n",
    "\n",
    "preinscripcions_df = preinscripcions_df.drop(columns=columns_to_drop)"
   ]
  },
  {
   "cell_type": "code",
   "execution_count": 7,
   "metadata": {},
   "outputs": [],
   "source": [
    "renamed_columns = {col: re.sub(r'(?<!^)(?=[A-Z])', '_', col).lower() for col in preinscripcions_df.columns}\n",
    "preinscripcions_df = preinscripcions_df.rename(columns=renamed_columns)"
   ]
  },
  {
   "cell_type": "code",
   "execution_count": 8,
   "metadata": {},
   "outputs": [],
   "source": [
    "#'Centreassignat' is the degree (grau) that each student has been assigned to\n",
    "# Curs is the year they appear on the preinscription list for that specific degree\n",
    "# Changing the name for better understanding\n",
    "\n",
    "preinscripcions_df.rename(columns={'curs':'curs_preinscripcio',\n",
    "                                   'd_n_i':'DNI',\n",
    "                                   'c_p':'CP',\n",
    "                                   'centre_asignat': 'codi_grau'}, inplace=True)\n"
   ]
  },
  {
   "cell_type": "code",
   "execution_count": 9,
   "metadata": {},
   "outputs": [],
   "source": [
    "#We are going to remove accents from all the df to avoid errors in SQL. We use unidecode library.\n",
    "def remove_accents(text):\n",
    "    return unidecode(text)"
   ]
  },
  {
   "cell_type": "code",
   "execution_count": 10,
   "metadata": {},
   "outputs": [],
   "source": [
    "preinscripcions_df['DNI'] = preinscripcions_df['DNI'].apply(remove_accents)\n",
    "preinscripcions_df['poblacio'] = preinscripcions_df['poblacio'].apply(remove_accents)"
   ]
  },
  {
   "cell_type": "code",
   "execution_count": 72,
   "metadata": {},
   "outputs": [],
   "source": [
    "preinscripcions_df = preinscripcions_df.dropna(subset=['convocatoria_qualificacio'])"
   ]
  },
  {
   "cell_type": "code",
   "execution_count": 71,
   "metadata": {},
   "outputs": [],
   "source": [
    "preinscripcions_df['nota_acces'] = preinscripcions_df['nota_acces']/1000"
   ]
  },
  {
   "cell_type": "code",
   "execution_count": 11,
   "metadata": {},
   "outputs": [
    {
     "data": {
      "text/plain": [
       "(2280, 61)"
      ]
     },
     "execution_count": 11,
     "metadata": {},
     "output_type": "execute_result"
    }
   ],
   "source": [
    "preinscripcions_df.shape"
   ]
  },
  {
   "cell_type": "markdown",
   "metadata": {},
   "source": [
    "We are going to divide the columns of preinscriptions_df in 4 to make it more manageable. \n",
    "From one unique df we will have:\n",
    "- Student variables\n",
    "- University access variables\n",
    "- Previous education variables\n",
    "- Language variables"
   ]
  },
  {
   "cell_type": "markdown",
   "metadata": {},
   "source": [
    "#### Students information"
   ]
  },
  {
   "cell_type": "code",
   "execution_count": 12,
   "metadata": {},
   "outputs": [],
   "source": [
    "students_df = preinscripcions_df.copy()\n",
    "columns_to_drop = ['curs_preinscripcio', 'convocatoria', 'codi_centre_secundaria',\n",
    "        'via_acces', 'nota_acces', 'codi_grau',\n",
    "       'ordre_assignacio', 'any_qualificacio', 'convocatoria_qualificacio',\n",
    "        'orientacio', 'aspectes_eleccio',\n",
    "       'any_acabament_secundaria', 'tipus_centre_secundaria',\n",
    "       'tipus_lloc_secundaria', 'codi_lloc_secundaria',\n",
    "       'estudis_universitaris', 'any_acces_primera_vegada_universitat',\n",
    "       'titulacio_nivell_assolit', 'modalitat_acces',\n",
    "       'catala_comprensio_escrita', 'catala_comprensio_oral',\n",
    "       'catala_expresio_escrita', 'catala_expresio_oral',\n",
    "       'castella_comprensio_escrita', 'castella_comprensio_oral',\n",
    "       'castella_expresio_escrita', 'castella_expresio_oral',\n",
    "       'angles_comprensio_escrita', 'angles_comprensio_oral',\n",
    "       'angles_expresio_escrita', 'angles_expresio_oral', 'angles_batxillerat',\n",
    "       'angles_centre_extern', 'frances_comprensio_escrita',\n",
    "       'frances_comprensio_oral', 'frances_expresio_escrita',\n",
    "       'frances_expresio_oral', 'frances_batxillerat', 'frances_centre_extern',\n",
    "       'altres_idiomes', 'altres_comprensio_escrita', 'altres_comprensio_oral',\n",
    "       'altres_expresio_escrita', 'altres_expresio_oral', 'altres_batxillerat',\n",
    "       'altres_centre_extern', 'no_idiomes_centre_extern']\n",
    "\n",
    "students_df = students_df.drop(columns=columns_to_drop)"
   ]
  },
  {
   "cell_type": "code",
   "execution_count": 13,
   "metadata": {},
   "outputs": [],
   "source": [
    "#We want DNI to be unique to later use it as primary key\n",
    "students_df = students_df.groupby('DNI').first().reset_index()"
   ]
  },
  {
   "cell_type": "code",
   "execution_count": 14,
   "metadata": {
    "scrolled": true
   },
   "outputs": [
    {
     "name": "stdout",
     "output_type": "stream",
     "text": [
      " Duplicates:0\n",
      "--------------\n",
      "Null values:\n",
      "DNI                    0\n",
      "nacionalitat           0\n",
      "pais                   0\n",
      "CP                     0\n",
      "poblacio               0\n",
      "comarca              158\n",
      "provincia             34\n",
      "sexe                   0\n",
      "data_naixement         0\n",
      "estudis_pare           0\n",
      "estudis_mare           0\n",
      "ocupacio_pare          0\n",
      "ocupacio_mare          0\n",
      "treball_remunerat      0\n",
      "dtype: int64\n"
     ]
    }
   ],
   "source": [
    "print(f' Duplicates:{students_df.duplicated().sum()}')\n",
    "print('--------------')\n",
    "print('Null values:')\n",
    "print(students_df.isnull().sum())"
   ]
  },
  {
   "cell_type": "markdown",
   "metadata": {},
   "source": [
    "#### University access variables"
   ]
  },
  {
   "cell_type": "code",
   "execution_count": 15,
   "metadata": {},
   "outputs": [],
   "source": [
    "uni_access_df = preinscripcions_df.copy()\n",
    "columns_to_drop = ['codi_centre_secundaria',\n",
    "       'nacionalitat', 'pais', 'CP', 'poblacio', 'comarca', 'provincia',\n",
    "       'sexe', 'data_naixement',\n",
    "       'estudis_pare', 'estudis_mare', 'ocupacio_pare', 'ocupacio_mare',\n",
    "       'treball_remunerat',\n",
    "       'any_acabament_secundaria', 'tipus_centre_secundaria',\n",
    "       'tipus_lloc_secundaria', 'codi_lloc_secundaria',\n",
    "       'estudis_universitaris', 'any_acces_primera_vegada_universitat',\n",
    "       'titulacio_nivell_assolit', 'modalitat_acces',\n",
    "       'catala_comprensio_escrita', 'catala_comprensio_oral',\n",
    "       'catala_expresio_escrita', 'catala_expresio_oral',\n",
    "       'castella_comprensio_escrita', 'castella_comprensio_oral',\n",
    "       'castella_expresio_escrita', 'castella_expresio_oral',\n",
    "       'angles_comprensio_escrita', 'angles_comprensio_oral',\n",
    "       'angles_expresio_escrita', 'angles_expresio_oral', 'angles_batxillerat',\n",
    "       'angles_centre_extern', 'frances_comprensio_escrita',\n",
    "       'frances_comprensio_oral', 'frances_expresio_escrita',\n",
    "       'frances_expresio_oral', 'frances_batxillerat', 'frances_centre_extern',\n",
    "       'altres_idiomes', 'altres_comprensio_escrita', 'altres_comprensio_oral',\n",
    "       'altres_expresio_escrita', 'altres_expresio_oral', 'altres_batxillerat',\n",
    "       'altres_centre_extern', 'no_idiomes_centre_extern']\n",
    "\n",
    "uni_access_df = uni_access_df.drop(columns=columns_to_drop)"
   ]
  },
  {
   "cell_type": "code",
   "execution_count": 16,
   "metadata": {},
   "outputs": [
    {
     "data": {
      "text/plain": [
       "Index(['curs_preinscripcio', 'convocatoria', 'DNI', 'via_acces', 'nota_acces',\n",
       "       'codi_grau', 'ordre_assignacio', 'any_qualificacio',\n",
       "       'convocatoria_qualificacio', 'orientacio', 'aspectes_eleccio'],\n",
       "      dtype='object')"
      ]
     },
     "execution_count": 16,
     "metadata": {},
     "output_type": "execute_result"
    }
   ],
   "source": [
    "uni_access_df.columns"
   ]
  },
  {
   "cell_type": "code",
   "execution_count": 17,
   "metadata": {},
   "outputs": [],
   "source": [
    "column_order = ['DNI', 'curs_preinscripcio', 'convocatoria', 'via_acces', 'nota_acces',\n",
    "       'codi_grau', 'ordre_assignacio', 'any_qualificacio',\n",
    "       'convocatoria_qualificacio', 'orientacio', 'aspectes_eleccio']\n",
    "uni_access_df = uni_access_df[column_order]"
   ]
  },
  {
   "cell_type": "code",
   "execution_count": 18,
   "metadata": {},
   "outputs": [
    {
     "name": "stdout",
     "output_type": "stream",
     "text": [
      " Duplicates:0\n",
      "--------------\n",
      "Null values:\n",
      "DNI                           0\n",
      "curs_preinscripcio            0\n",
      "convocatoria                  0\n",
      "via_acces                     0\n",
      "nota_acces                    0\n",
      "codi_grau                     0\n",
      "ordre_assignacio              0\n",
      "any_qualificacio              0\n",
      "convocatoria_qualificacio    14\n",
      "orientacio                    0\n",
      "aspectes_eleccio              0\n",
      "dtype: int64\n"
     ]
    }
   ],
   "source": [
    "print(f' Duplicates:{uni_access_df.duplicated().sum()}')\n",
    "print('--------------')\n",
    "print('Null values:')\n",
    "print(uni_access_df.isnull().sum())"
   ]
  },
  {
   "cell_type": "code",
   "execution_count": 20,
   "metadata": {},
   "outputs": [],
   "source": [
    "uni_access_df['nota_acces'] = uni_access_df['nota_acces']/1000"
   ]
  },
  {
   "cell_type": "code",
   "execution_count": 21,
   "metadata": {},
   "outputs": [
    {
     "data": {
      "text/plain": [
       "0       6.440\n",
       "1       8.546\n",
       "2       6.472\n",
       "3       6.432\n",
       "4       5.428\n",
       "        ...  \n",
       "2275    7.335\n",
       "2276    7.054\n",
       "2277    6.662\n",
       "2278    7.140\n",
       "2279    7.140\n",
       "Name: nota_acces, Length: 2266, dtype: float64"
      ]
     },
     "execution_count": 21,
     "metadata": {},
     "output_type": "execute_result"
    }
   ],
   "source": [
    "uni_access_df['nota_acces']"
   ]
  },
  {
   "cell_type": "markdown",
   "metadata": {},
   "source": [
    "#### Previous education information"
   ]
  },
  {
   "cell_type": "code",
   "execution_count": 22,
   "metadata": {},
   "outputs": [],
   "source": [
    "previous_education_df = preinscripcions_df.copy()\n",
    "columns_to_drop = ['curs_preinscripcio', 'convocatoria',\n",
    "       'nacionalitat', 'pais', 'CP', 'poblacio', 'comarca', 'provincia',\n",
    "       'sexe', 'data_naixement', 'via_acces', 'nota_acces', 'codi_grau',\n",
    "       'ordre_assignacio', 'any_qualificacio', 'convocatoria_qualificacio',\n",
    "       'estudis_pare', 'estudis_mare', 'ocupacio_pare', 'ocupacio_mare',\n",
    "       'treball_remunerat', 'orientacio', 'aspectes_eleccio',\n",
    "       'catala_comprensio_escrita', 'catala_comprensio_oral',\n",
    "       'catala_expresio_escrita', 'catala_expresio_oral',\n",
    "       'castella_comprensio_escrita', 'castella_comprensio_oral',\n",
    "       'castella_expresio_escrita', 'castella_expresio_oral',\n",
    "       'angles_comprensio_escrita', 'angles_comprensio_oral',\n",
    "       'angles_expresio_escrita', 'angles_expresio_oral', 'angles_batxillerat',\n",
    "       'angles_centre_extern', 'frances_comprensio_escrita',\n",
    "       'frances_comprensio_oral', 'frances_expresio_escrita',\n",
    "       'frances_expresio_oral', 'frances_batxillerat', 'frances_centre_extern',\n",
    "       'altres_idiomes', 'altres_comprensio_escrita', 'altres_comprensio_oral',\n",
    "       'altres_expresio_escrita', 'altres_expresio_oral', 'altres_batxillerat',\n",
    "       'altres_centre_extern', 'no_idiomes_centre_extern']\n",
    "\n",
    "previous_education_df = previous_education_df.drop(columns=columns_to_drop)"
   ]
  },
  {
   "cell_type": "code",
   "execution_count": 23,
   "metadata": {
    "scrolled": true
   },
   "outputs": [
    {
     "name": "stdout",
     "output_type": "stream",
     "text": [
      " Duplicates:43\n",
      "--------------\n",
      "Null values:\n",
      "DNI                                        0\n",
      "codi_centre_secundaria                   776\n",
      "any_acabament_secundaria                 399\n",
      "tipus_centre_secundaria                  399\n",
      "tipus_lloc_secundaria                    399\n",
      "codi_lloc_secundaria                     401\n",
      "estudis_universitaris                      0\n",
      "any_acces_primera_vegada_universitat    1729\n",
      "titulacio_nivell_assolit                1729\n",
      "modalitat_acces                         1729\n",
      "dtype: int64\n"
     ]
    }
   ],
   "source": [
    "print(f' Duplicates:{previous_education_df.duplicated().sum()}')\n",
    "print('--------------')\n",
    "print('Null values:')\n",
    "print(previous_education_df.isnull().sum())"
   ]
  },
  {
   "cell_type": "markdown",
   "metadata": {},
   "source": [
    "#### Languages variables"
   ]
  },
  {
   "cell_type": "code",
   "execution_count": 24,
   "metadata": {
    "scrolled": true
   },
   "outputs": [],
   "source": [
    "languages_df = preinscripcions_df.copy()\n",
    "columns_to_drop = ['curs_preinscripcio', 'convocatoria', 'codi_centre_secundaria',\n",
    "       'nacionalitat', 'pais', 'CP', 'poblacio', 'comarca', 'provincia',\n",
    "       'sexe', 'data_naixement', 'via_acces', 'nota_acces', 'codi_grau',\n",
    "       'ordre_assignacio', 'any_qualificacio', 'convocatoria_qualificacio',\n",
    "       'estudis_pare', 'estudis_mare', 'ocupacio_pare', 'ocupacio_mare',\n",
    "       'treball_remunerat', 'orientacio', 'aspectes_eleccio',\n",
    "       'any_acabament_secundaria', 'tipus_centre_secundaria',\n",
    "       'tipus_lloc_secundaria', 'codi_lloc_secundaria',\n",
    "       'estudis_universitaris', 'any_acces_primera_vegada_universitat',\n",
    "       'titulacio_nivell_assolit', 'modalitat_acces']\n",
    "\n",
    "languages_df = languages_df.drop(columns=columns_to_drop)"
   ]
  },
  {
   "cell_type": "markdown",
   "metadata": {},
   "source": [
    "Analysis of languages_df to understand the data better:"
   ]
  },
  {
   "cell_type": "code",
   "execution_count": 25,
   "metadata": {},
   "outputs": [
    {
     "name": "stdout",
     "output_type": "stream",
     "text": [
      " Duplicates:96\n",
      "--------------\n",
      "Null values:\n",
      "DNI                               0\n",
      "catala_comprensio_escrita         0\n",
      "catala_comprensio_oral            0\n",
      "catala_expresio_escrita           2\n",
      "catala_expresio_oral              2\n",
      "castella_comprensio_escrita       0\n",
      "castella_comprensio_oral       1995\n",
      "castella_expresio_escrita         2\n",
      "castella_expresio_oral         2074\n",
      "angles_comprensio_escrita      2074\n",
      "angles_comprensio_oral         2074\n",
      "angles_expresio_escrita        2074\n",
      "angles_expresio_oral           2074\n",
      "angles_batxillerat             2074\n",
      "angles_centre_extern           2074\n",
      "frances_comprensio_escrita     2074\n",
      "frances_comprensio_oral        2074\n",
      "frances_expresio_escrita       2074\n",
      "frances_expresio_oral          2074\n",
      "frances_batxillerat            2074\n",
      "frances_centre_extern          2074\n",
      "altres_idiomes                 2254\n",
      "altres_comprensio_escrita      2202\n",
      "altres_comprensio_oral         2207\n",
      "altres_expresio_escrita        2208\n",
      "altres_expresio_oral           2206\n",
      "altres_batxillerat             2074\n",
      "altres_centre_extern           2074\n",
      "no_idiomes_centre_extern       2074\n",
      "dtype: int64\n"
     ]
    }
   ],
   "source": [
    "print(f' Duplicates:{languages_df.duplicated().sum()}')\n",
    "print('--------------')\n",
    "print('Null values:')\n",
    "print(languages_df.isnull().sum())"
   ]
  },
  {
   "cell_type": "code",
   "execution_count": 26,
   "metadata": {},
   "outputs": [],
   "source": [
    "def see_value_counts(column):\n",
    "    value_counts = languages_df[column].value_counts()\n",
    "    print(f'{column} has this {value_counts}')"
   ]
  },
  {
   "cell_type": "code",
   "execution_count": 27,
   "metadata": {},
   "outputs": [
    {
     "name": "stdout",
     "output_type": "stream",
     "text": [
      "DNI has this DNI\n",
      "8579042I    3\n",
      "5076237D    3\n",
      "1910908I    3\n",
      "4548897O    3\n",
      "3380393E    3\n",
      "           ..\n",
      "3692229D    1\n",
      "4629923L    1\n",
      "3350877U    1\n",
      "3208908A    1\n",
      "5031499I    1\n",
      "Name: count, Length: 2154, dtype: int64\n",
      "catala_comprensio_escrita has this catala_comprensio_escrita\n",
      "N    1378\n",
      "S     701\n",
      "B     189\n",
      "R      12\n",
      "Name: count, dtype: int64\n",
      "catala_comprensio_oral has this catala_comprensio_oral\n",
      "N    2014\n",
      "B     187\n",
      "S      65\n",
      "R      14\n",
      "Name: count, dtype: int64\n",
      "catala_expresio_escrita has this catala_expresio_escrita\n",
      "N    2067\n",
      "B     158\n",
      "R      35\n",
      "S      18\n",
      "Name: count, dtype: int64\n",
      "catala_expresio_oral has this catala_expresio_oral\n",
      "N    2074\n",
      "B     175\n",
      "R      21\n",
      "S       8\n",
      "Name: count, dtype: int64\n",
      "castella_comprensio_escrita has this castella_comprensio_escrita\n",
      "N    2009\n",
      "B     201\n",
      "S      65\n",
      "R       5\n",
      "Name: count, dtype: int64\n",
      "castella_comprensio_oral has this castella_comprensio_oral\n",
      "B    202\n",
      "1     33\n",
      "3     19\n",
      "7     15\n",
      "5      6\n",
      "4      5\n",
      "R      4\n",
      "6      1\n",
      "Name: count, dtype: int64\n",
      "castella_expresio_escrita has this castella_expresio_escrita\n",
      "S    1312\n",
      "N     760\n",
      "B     192\n",
      "R      14\n",
      "Name: count, dtype: int64\n",
      "castella_expresio_oral has this castella_expresio_oral\n",
      "B    199\n",
      "R      7\n",
      "Name: count, dtype: int64\n",
      "angles_comprensio_escrita has this angles_comprensio_escrita\n",
      "B    123\n",
      "R     81\n",
      "N      2\n",
      "Name: count, dtype: int64\n",
      "angles_comprensio_oral has this angles_comprensio_oral\n",
      "B    106\n",
      "R     95\n",
      "N      5\n",
      "Name: count, dtype: int64\n",
      "angles_expresio_escrita has this angles_expresio_escrita\n",
      "R    116\n",
      "B     87\n",
      "N      3\n",
      "Name: count, dtype: int64\n",
      "angles_expresio_oral has this angles_expresio_oral\n",
      "R    111\n",
      "B     87\n",
      "N      8\n",
      "Name: count, dtype: int64\n",
      "angles_batxillerat has this angles_batxillerat\n",
      "S    191\n",
      "N     15\n",
      "Name: count, dtype: int64\n",
      "angles_centre_extern has this angles_centre_extern\n",
      "S    107\n",
      "N     99\n",
      "Name: count, dtype: int64\n",
      "frances_comprensio_escrita has this frances_comprensio_escrita\n",
      "N    143\n",
      "R     47\n",
      "B     16\n",
      "Name: count, dtype: int64\n",
      "frances_comprensio_oral has this frances_comprensio_oral\n",
      "N    140\n",
      "R     53\n",
      "B     13\n",
      "Name: count, dtype: int64\n",
      "frances_expresio_escrita has this frances_expresio_escrita\n",
      "N    167\n",
      "R     27\n",
      "B     12\n",
      "Name: count, dtype: int64\n",
      "frances_expresio_oral has this frances_expresio_oral\n",
      "N    156\n",
      "R     36\n",
      "B     14\n",
      "Name: count, dtype: int64\n",
      "frances_batxillerat has this frances_batxillerat\n",
      "N    192\n",
      "S     14\n",
      "Name: count, dtype: int64\n",
      "frances_centre_extern has this frances_centre_extern\n",
      "N    198\n",
      "S      8\n",
      "Name: count, dtype: int64\n",
      "altres_idiomes has this altres_idiomes\n",
      "3.0    17\n",
      "4.0     3\n",
      "7.0     3\n",
      "1.0     3\n",
      "Name: count, dtype: int64\n",
      "altres_comprensio_escrita has this altres_comprensio_escrita\n",
      "N    50\n",
      "B    18\n",
      "R    10\n",
      "Name: count, dtype: int64\n",
      "altres_comprensio_oral has this altres_comprensio_oral\n",
      "N    45\n",
      "B    18\n",
      "R    10\n",
      "Name: count, dtype: int64\n",
      "altres_expresio_escrita has this altres_expresio_escrita\n",
      "N    45\n",
      "B    14\n",
      "R    13\n",
      "Name: count, dtype: int64\n",
      "altres_expresio_oral has this altres_expresio_oral\n",
      "N    45\n",
      "B    18\n",
      "R    11\n",
      "Name: count, dtype: int64\n",
      "altres_batxillerat has this altres_batxillerat\n",
      "N    182\n",
      "S     24\n",
      "Name: count, dtype: int64\n",
      "altres_centre_extern has this altres_centre_extern\n",
      "N    192\n",
      "S     14\n",
      "Name: count, dtype: int64\n",
      "no_idiomes_centre_extern has this no_idiomes_centre_extern\n",
      "S    115\n",
      "N     91\n",
      "Name: count, dtype: int64\n"
     ]
    }
   ],
   "source": [
    "for column in languages_df:\n",
    "    see_value_counts(column)\n",
    "#Languages information doesn't seem to be reliable, \n",
    "#there are many naan values and the columns that have values do not make sense \n",
    "#e.g. Number of N in catalan_expresion_escrita = 2067 but most students come from catalan schools"
   ]
  },
  {
   "cell_type": "code",
   "execution_count": 28,
   "metadata": {},
   "outputs": [],
   "source": [
    "#We take the decision not to include languages in the analysis"
   ]
  },
  {
   "cell_type": "code",
   "execution_count": 29,
   "metadata": {},
   "outputs": [],
   "source": [
    "columns_to_drop = ['catala_comprensio_escrita', 'catala_comprensio_oral',\n",
    "       'catala_expresio_escrita', 'catala_expresio_oral',\n",
    "       'castella_comprensio_escrita', 'castella_comprensio_oral',\n",
    "       'castella_expresio_escrita', 'castella_expresio_oral',\n",
    "       'angles_comprensio_escrita', 'angles_comprensio_oral',\n",
    "       'angles_expresio_escrita', 'angles_expresio_oral', 'angles_batxillerat',\n",
    "       'angles_centre_extern', 'frances_comprensio_escrita',\n",
    "       'frances_comprensio_oral', 'frances_expresio_escrita',\n",
    "       'frances_expresio_oral', 'frances_batxillerat', 'frances_centre_extern',\n",
    "       'altres_idiomes', 'altres_comprensio_escrita', 'altres_comprensio_oral',\n",
    "       'altres_expresio_escrita', 'altres_expresio_oral', 'altres_batxillerat',\n",
    "       'altres_centre_extern', 'no_idiomes_centre_extern']\n",
    "\n",
    "preinscripcions_df = preinscripcions_df.drop(columns=columns_to_drop)"
   ]
  },
  {
   "cell_type": "code",
   "execution_count": 30,
   "metadata": {},
   "outputs": [
    {
     "data": {
      "text/plain": [
       "Index(['curs_preinscripcio', 'convocatoria', 'DNI', 'codi_centre_secundaria',\n",
       "       'nacionalitat', 'pais', 'CP', 'poblacio', 'comarca', 'provincia',\n",
       "       'sexe', 'data_naixement', 'via_acces', 'nota_acces', 'codi_grau',\n",
       "       'ordre_assignacio', 'any_qualificacio', 'convocatoria_qualificacio',\n",
       "       'estudis_pare', 'estudis_mare', 'ocupacio_pare', 'ocupacio_mare',\n",
       "       'treball_remunerat', 'orientacio', 'aspectes_eleccio',\n",
       "       'any_acabament_secundaria', 'tipus_centre_secundaria',\n",
       "       'tipus_lloc_secundaria', 'codi_lloc_secundaria',\n",
       "       'estudis_universitaris', 'any_acces_primera_vegada_universitat',\n",
       "       'titulacio_nivell_assolit', 'modalitat_acces'],\n",
       "      dtype='object')"
      ]
     },
     "execution_count": 30,
     "metadata": {},
     "output_type": "execute_result"
    }
   ],
   "source": [
    "preinscripcions_df.columns"
   ]
  },
  {
   "cell_type": "markdown",
   "metadata": {},
   "source": [
    "## Titulacions"
   ]
  },
  {
   "cell_type": "code",
   "execution_count": 31,
   "metadata": {},
   "outputs": [],
   "source": [
    "file_path = '../data/raw/Titulacions.xlsx'\n",
    "titulacions_df = pd.read_excel(file_path)"
   ]
  },
  {
   "cell_type": "code",
   "execution_count": 32,
   "metadata": {},
   "outputs": [],
   "source": [
    "titulacions_df = titulacions_df.drop(columns='Estudi')"
   ]
  },
  {
   "cell_type": "code",
   "execution_count": 33,
   "metadata": {},
   "outputs": [],
   "source": [
    "titulacions_df.columns = titulacions_df.columns.str.replace(' ', '_').str.lower()"
   ]
  },
  {
   "cell_type": "code",
   "execution_count": 34,
   "metadata": {},
   "outputs": [],
   "source": [
    "titulacions_df.rename(columns={'preinscripció':'codi_grau'}, inplace=True)"
   ]
  },
  {
   "cell_type": "code",
   "execution_count": 35,
   "metadata": {},
   "outputs": [],
   "source": [
    "#We will delete those rows with Naan values on grau because we are only interested in keeping university degrees\n",
    "#(not masters, exchanges...)\n",
    "titulacions_df = titulacions_df.dropna(subset=['codi_grau'])"
   ]
  },
  {
   "cell_type": "code",
   "execution_count": 36,
   "metadata": {},
   "outputs": [],
   "source": [
    "titulacions_df = titulacions_df.astype({'codi_grau':'int'})"
   ]
  },
  {
   "cell_type": "markdown",
   "metadata": {},
   "source": [
    "## Matricules"
   ]
  },
  {
   "cell_type": "code",
   "execution_count": 37,
   "metadata": {},
   "outputs": [],
   "source": [
    "file_path = '../data/raw/Matrícules.xlsx'\n",
    "matricules_df = pd.read_excel(file_path)"
   ]
  },
  {
   "cell_type": "code",
   "execution_count": 38,
   "metadata": {},
   "outputs": [
    {
     "data": {
      "text/plain": [
       "(7679, 5)"
      ]
     },
     "execution_count": 38,
     "metadata": {},
     "output_type": "execute_result"
    }
   ],
   "source": [
    "matricules_df.shape"
   ]
  },
  {
   "cell_type": "code",
   "execution_count": 39,
   "metadata": {},
   "outputs": [],
   "source": [
    "matricules_df = matricules_df.drop(columns='NIP')\n",
    "matricules_df.rename(columns={'Curs':'curs_matricula',\n",
    "                             'Pla':'pla'}, inplace=True)"
   ]
  },
  {
   "cell_type": "code",
   "execution_count": 40,
   "metadata": {},
   "outputs": [
    {
     "data": {
      "text/html": [
       "<div>\n",
       "<style scoped>\n",
       "    .dataframe tbody tr th:only-of-type {\n",
       "        vertical-align: middle;\n",
       "    }\n",
       "\n",
       "    .dataframe tbody tr th {\n",
       "        vertical-align: top;\n",
       "    }\n",
       "\n",
       "    .dataframe thead th {\n",
       "        text-align: right;\n",
       "    }\n",
       "</style>\n",
       "<table border=\"1\" class=\"dataframe\">\n",
       "  <thead>\n",
       "    <tr style=\"text-align: right;\">\n",
       "      <th></th>\n",
       "      <th>pla</th>\n",
       "      <th>descripció_pla_estudis</th>\n",
       "      <th>codi_grau</th>\n",
       "    </tr>\n",
       "  </thead>\n",
       "  <tbody>\n",
       "    <tr>\n",
       "      <th>0</th>\n",
       "      <td>1467</td>\n",
       "      <td>Doble Grau en Enginyeria Electrònica Industria...</td>\n",
       "      <td>21112</td>\n",
       "    </tr>\n",
       "    <tr>\n",
       "      <th>1</th>\n",
       "      <td>1278</td>\n",
       "      <td>Doble Grau en Enginyeria Mecànica / Enginyeria...</td>\n",
       "      <td>21112</td>\n",
       "    </tr>\n",
       "    <tr>\n",
       "      <th>7</th>\n",
       "      <td>877</td>\n",
       "      <td>Grau en Enginyeria Electrònica Industrial i Au...</td>\n",
       "      <td>21025</td>\n",
       "    </tr>\n",
       "    <tr>\n",
       "      <th>8</th>\n",
       "      <td>1464</td>\n",
       "      <td>Grau en Enginyeria Electrònica Industrial i Au...</td>\n",
       "      <td>21025</td>\n",
       "    </tr>\n",
       "    <tr>\n",
       "      <th>9</th>\n",
       "      <td>878</td>\n",
       "      <td>Grau en Enginyeria Elèctrica (pla 2009)</td>\n",
       "      <td>21023</td>\n",
       "    </tr>\n",
       "    <tr>\n",
       "      <th>10</th>\n",
       "      <td>879</td>\n",
       "      <td>Grau en Enginyeria Mecànica (pla 2009)</td>\n",
       "      <td>21026</td>\n",
       "    </tr>\n",
       "    <tr>\n",
       "      <th>11</th>\n",
       "      <td>1462</td>\n",
       "      <td>Grau en Enginyeria Mecànica (pla 2020)</td>\n",
       "      <td>21026</td>\n",
       "    </tr>\n",
       "    <tr>\n",
       "      <th>12</th>\n",
       "      <td>1450</td>\n",
       "      <td>Grau en Enginyeria d'Automoció (pla 2020)</td>\n",
       "      <td>21132</td>\n",
       "    </tr>\n",
       "    <tr>\n",
       "      <th>13</th>\n",
       "      <td>1430</td>\n",
       "      <td>Grau en Enginyeria en Energies Renovables i Ef...</td>\n",
       "      <td>21127</td>\n",
       "    </tr>\n",
       "    <tr>\n",
       "      <th>14</th>\n",
       "      <td>880</td>\n",
       "      <td>Grau en Enginyeria en Organització Industrial ...</td>\n",
       "      <td>21022</td>\n",
       "    </tr>\n",
       "    <tr>\n",
       "      <th>15</th>\n",
       "      <td>1466</td>\n",
       "      <td>Grau en Enginyeria en Organització Industrial ...</td>\n",
       "      <td>21022</td>\n",
       "    </tr>\n",
       "  </tbody>\n",
       "</table>\n",
       "</div>"
      ],
      "text/plain": [
       "     pla                             descripció_pla_estudis  codi_grau\n",
       "0   1467  Doble Grau en Enginyeria Electrònica Industria...      21112\n",
       "1   1278  Doble Grau en Enginyeria Mecànica / Enginyeria...      21112\n",
       "7    877  Grau en Enginyeria Electrònica Industrial i Au...      21025\n",
       "8   1464  Grau en Enginyeria Electrònica Industrial i Au...      21025\n",
       "9    878            Grau en Enginyeria Elèctrica (pla 2009)      21023\n",
       "10   879             Grau en Enginyeria Mecànica (pla 2009)      21026\n",
       "11  1462             Grau en Enginyeria Mecànica (pla 2020)      21026\n",
       "12  1450          Grau en Enginyeria d'Automoció (pla 2020)      21132\n",
       "13  1430  Grau en Enginyeria en Energies Renovables i Ef...      21127\n",
       "14   880  Grau en Enginyeria en Organització Industrial ...      21022\n",
       "15  1466  Grau en Enginyeria en Organització Industrial ...      21022"
      ]
     },
     "execution_count": 40,
     "metadata": {},
     "output_type": "execute_result"
    }
   ],
   "source": [
    "#We need to add a column in matriculations that will serve as link with the other dfs. This will be \"codi_grau\". \n",
    "#We will use the titulations df as guide to assign the corresponding \"codi_grau to each row\"\n",
    "titulacions_df"
   ]
  },
  {
   "cell_type": "code",
   "execution_count": 41,
   "metadata": {},
   "outputs": [],
   "source": [
    "#One same student could be twice in preinscription list for different degrees, \n",
    "#preinscripcions_df['DNI'].is_unique == False\n",
    "    \n",
    "    #If matriculated, this would be reflected as two rows in the matriculation df with same DNI but different codi_grau\n",
    "    #However, in matricules_df we do not have 'codi_grau', we only have 'pla' so we will first use the information on the \n",
    "        #titulacions_df to create the codi_grau\n",
    "        \n",
    "def assign_codi_grau(row):\n",
    "    if row['pla'] in [1467, 1278]:\n",
    "        return 21112\n",
    "    elif row['pla'] in [877, 1464]:\n",
    "        return 21025\n",
    "    elif row['pla'] == 878:\n",
    "        return 21023\n",
    "    elif row['pla'] in [879, 1462]:\n",
    "        return 21026\n",
    "    elif row['pla'] == 1450:\n",
    "        return 21132\n",
    "    elif row['pla'] == 1430:\n",
    "        return 21127\n",
    "    elif row['pla'] in [880, 1466]:\n",
    "        return 21022\n",
    "    else:\n",
    "        return np.nan\n",
    "\n",
    "matricules_df['codi_grau'] = matricules_df.apply(assign_codi_grau, axis=1)"
   ]
  },
  {
   "cell_type": "code",
   "execution_count": 42,
   "metadata": {},
   "outputs": [
    {
     "data": {
      "text/plain": [
       "DNI\n",
       "1959497A    24\n",
       "6041427E    22\n",
       "5541571A    21\n",
       "0195308N    21\n",
       "8390059A    21\n",
       "            ..\n",
       "4420667A     1\n",
       "4379223L     1\n",
       "4377297A     1\n",
       "4366897E     1\n",
       "HCCLPJRR     1\n",
       "Name: count, Length: 2252, dtype: int64"
      ]
     },
     "execution_count": 42,
     "metadata": {},
     "output_type": "execute_result"
    }
   ],
   "source": [
    "matricules_df['DNI'].value_counts()"
   ]
  },
  {
   "cell_type": "code",
   "execution_count": 43,
   "metadata": {},
   "outputs": [],
   "source": [
    "#Similar to preinscriptions, we are going to remove accents to prevent future issues\n",
    "matricules_df['DNI'] = matricules_df['DNI'].apply(remove_accents)"
   ]
  },
  {
   "cell_type": "code",
   "execution_count": 44,
   "metadata": {},
   "outputs": [],
   "source": [
    "# Now we want to keep only the matriculations for the 1st year of a student. \n",
    "# Some students (DNI) matriculate in differrent degrees so we create an identification column aggregating DNI + codi_grau\n",
    "    #so we do not delete 1st years of different degrees. \n",
    "matricules_df['identification'] = matricules_df[['DNI', 'codi_grau']].astype({'DNI': str, 'codi_grau': str}).agg(' / '.join, axis=1)\n",
    "matricules_df = matricules_df.sort_values(by='curs_matricula')\n",
    "matricules_df = matricules_df.groupby('identification').first().reset_index()"
   ]
  },
  {
   "cell_type": "code",
   "execution_count": 45,
   "metadata": {},
   "outputs": [
    {
     "data": {
      "text/plain": [
       "curs_matricula\n",
       "2013    639\n",
       "2014    194\n",
       "2015    156\n",
       "2016    197\n",
       "2017    198\n",
       "2018    148\n",
       "2019    171\n",
       "2020    147\n",
       "2021    218\n",
       "2022    236\n",
       "2023    244\n",
       "Name: count, dtype: int64"
      ]
     },
     "execution_count": 45,
     "metadata": {},
     "output_type": "execute_result"
    }
   ],
   "source": [
    "matricules_df['curs_matricula'].value_counts().sort_index()"
   ]
  },
  {
   "cell_type": "code",
   "execution_count": 46,
   "metadata": {},
   "outputs": [],
   "source": [
    "#Since we have data from 2013 that year is adding all uni students matriculated that year (1st appearance of their DNI).\n",
    "#We will drop students with curs_matricula = 2013 so we can properly work with data starting at 2014\n",
    "matricules_df = matricules_df[matricules_df['curs_matricula'] > 2013]"
   ]
  },
  {
   "cell_type": "code",
   "execution_count": 47,
   "metadata": {},
   "outputs": [
    {
     "data": {
      "text/plain": [
       "DNI\n",
       "7852608I    4\n",
       "6041427E    4\n",
       "3340018A    3\n",
       "7252929O    3\n",
       "7339746A    3\n",
       "4548897O    3\n",
       "1807318G    3\n",
       "0482351D    3\n",
       "8020201I    3\n",
       "3462297A    3\n",
       "6358946E    3\n",
       "7254365E    3\n",
       "4352628D    3\n",
       "1959497A    3\n",
       "8445987I    3\n",
       "3491189R    3\n",
       "7236871R    3\n",
       "8390059A    3\n",
       "2468635A    3\n",
       "9625183A    3\n",
       "Name: count, dtype: int64"
      ]
     },
     "execution_count": 47,
     "metadata": {},
     "output_type": "execute_result"
    }
   ],
   "source": [
    "matricules_df['DNI'].value_counts().head(20)"
   ]
  },
  {
   "cell_type": "code",
   "execution_count": 48,
   "metadata": {},
   "outputs": [
    {
     "data": {
      "text/html": [
       "<div>\n",
       "<style scoped>\n",
       "    .dataframe tbody tr th:only-of-type {\n",
       "        vertical-align: middle;\n",
       "    }\n",
       "\n",
       "    .dataframe tbody tr th {\n",
       "        vertical-align: top;\n",
       "    }\n",
       "\n",
       "    .dataframe thead th {\n",
       "        text-align: right;\n",
       "    }\n",
       "</style>\n",
       "<table border=\"1\" class=\"dataframe\">\n",
       "  <thead>\n",
       "    <tr style=\"text-align: right;\">\n",
       "      <th></th>\n",
       "      <th>identification</th>\n",
       "      <th>curs_matricula</th>\n",
       "      <th>DNI</th>\n",
       "      <th>NIA</th>\n",
       "      <th>pla</th>\n",
       "      <th>codi_grau</th>\n",
       "    </tr>\n",
       "  </thead>\n",
       "  <tbody>\n",
       "    <tr>\n",
       "      <th>813</th>\n",
       "      <td>3340018A / 21025</td>\n",
       "      <td>2016</td>\n",
       "      <td>3340018A</td>\n",
       "      <td>1459442</td>\n",
       "      <td>877</td>\n",
       "      <td>21025</td>\n",
       "    </tr>\n",
       "    <tr>\n",
       "      <th>814</th>\n",
       "      <td>3340018A / 21026</td>\n",
       "      <td>2016</td>\n",
       "      <td>3340018A</td>\n",
       "      <td>1459442</td>\n",
       "      <td>879</td>\n",
       "      <td>21026</td>\n",
       "    </tr>\n",
       "    <tr>\n",
       "      <th>815</th>\n",
       "      <td>3340018A / 21112</td>\n",
       "      <td>2016</td>\n",
       "      <td>3340018A</td>\n",
       "      <td>1459442</td>\n",
       "      <td>1278</td>\n",
       "      <td>21112</td>\n",
       "    </tr>\n",
       "  </tbody>\n",
       "</table>\n",
       "</div>"
      ],
      "text/plain": [
       "       identification  curs_matricula       DNI      NIA   pla  codi_grau\n",
       "813  3340018A / 21025            2016  3340018A  1459442   877      21025\n",
       "814  3340018A / 21026            2016  3340018A  1459442   879      21026\n",
       "815  3340018A / 21112            2016  3340018A  1459442  1278      21112"
      ]
     },
     "execution_count": 48,
     "metadata": {},
     "output_type": "execute_result"
    }
   ],
   "source": [
    "matricules_df[matricules_df['DNI'] == '3340018A']"
   ]
  },
  {
   "cell_type": "code",
   "execution_count": 49,
   "metadata": {},
   "outputs": [],
   "source": [
    "#We observe that many of the 3 times repeated DNIs is from students of the double degree\n",
    "#This students have matriculations of 3 degrees on the same year, \n",
    "    #we delete the duplicates keeping just the codi_grau of the double degree (21112)"
   ]
  },
  {
   "cell_type": "code",
   "execution_count": 50,
   "metadata": {},
   "outputs": [],
   "source": [
    "dni_counts_dict = matricules_df['DNI'].value_counts().to_dict()\n",
    "dni_list_3_counts = [DNI for DNI, count in dni_counts_dict.items() if count == 3]\n",
    "for dni in dni_list_3_counts:\n",
    "    matriculations = matricules_df[matricules_df['DNI'] == dni]\n",
    "    for index, row in matriculations.iterrows():\n",
    "        codi_graus = list(matriculations.codi_grau)\n",
    "        if 21112 in codi_graus and len(set(matriculations['curs_matricula'])) == 1:\n",
    "            rows_to_drop = matriculations[(matriculations['codi_grau'] == 21025) | (matriculations['codi_grau'] == 21026)].index\n",
    "            for i in rows_to_drop.values:\n",
    "                matricules_df = matricules_df.drop(matricules_df[matricules_df.index == i].index)"
   ]
  },
  {
   "cell_type": "code",
   "execution_count": 51,
   "metadata": {},
   "outputs": [
    {
     "data": {
      "text/plain": [
       "(1845, 6)"
      ]
     },
     "execution_count": 51,
     "metadata": {},
     "output_type": "execute_result"
    }
   ],
   "source": [
    "matricules_df.shape"
   ]
  },
  {
   "cell_type": "code",
   "execution_count": 52,
   "metadata": {},
   "outputs": [
    {
     "data": {
      "text/html": [
       "<div>\n",
       "<style scoped>\n",
       "    .dataframe tbody tr th:only-of-type {\n",
       "        vertical-align: middle;\n",
       "    }\n",
       "\n",
       "    .dataframe tbody tr th {\n",
       "        vertical-align: top;\n",
       "    }\n",
       "\n",
       "    .dataframe thead th {\n",
       "        text-align: right;\n",
       "    }\n",
       "</style>\n",
       "<table border=\"1\" class=\"dataframe\">\n",
       "  <thead>\n",
       "    <tr style=\"text-align: right;\">\n",
       "      <th></th>\n",
       "      <th>identification</th>\n",
       "      <th>curs_matricula</th>\n",
       "      <th>DNI</th>\n",
       "      <th>NIA</th>\n",
       "      <th>pla</th>\n",
       "      <th>codi_grau</th>\n",
       "    </tr>\n",
       "  </thead>\n",
       "  <tbody>\n",
       "    <tr>\n",
       "      <th>815</th>\n",
       "      <td>3340018A / 21112</td>\n",
       "      <td>2016</td>\n",
       "      <td>3340018A</td>\n",
       "      <td>1459442</td>\n",
       "      <td>1278</td>\n",
       "      <td>21112</td>\n",
       "    </tr>\n",
       "  </tbody>\n",
       "</table>\n",
       "</div>"
      ],
      "text/plain": [
       "       identification  curs_matricula       DNI      NIA   pla  codi_grau\n",
       "815  3340018A / 21112            2016  3340018A  1459442  1278      21112"
      ]
     },
     "execution_count": 52,
     "metadata": {},
     "output_type": "execute_result"
    }
   ],
   "source": [
    "matricules_df[matricules_df['DNI'] == '3340018A']"
   ]
  },
  {
   "cell_type": "code",
   "execution_count": 53,
   "metadata": {},
   "outputs": [],
   "source": [
    "#The DNIs that are still duplicated are probable from people that has changed degrees in different years.\n",
    "#We are going to keep just the first year they matriculated for this analysis taking as a rule\n",
    "#that we want to study how was the first contact from students with the university"
   ]
  },
  {
   "cell_type": "code",
   "execution_count": 54,
   "metadata": {},
   "outputs": [],
   "source": [
    "repeated_dni_list = [DNI for DNI, count in dni_counts_dict.items() if count >= 2]\n",
    "for dni in repeated_dni_list:\n",
    "    matriculations = matricules_df[matricules_df['DNI'] == dni]\n",
    "    for index, row in matriculations.iterrows():\n",
    "        if len(set(matriculations['curs_matricula'])) >= 2:\n",
    "            rows_to_drop = matriculations[(matriculations['curs_matricula'] != matriculations['curs_matricula'].min())].index\n",
    "            for i in rows_to_drop.values:\n",
    "                matricules_df = matricules_df.drop(matricules_df[matricules_df.index == i].index)"
   ]
  },
  {
   "cell_type": "code",
   "execution_count": 55,
   "metadata": {},
   "outputs": [
    {
     "data": {
      "text/plain": [
       "(1713, 6)"
      ]
     },
     "execution_count": 55,
     "metadata": {},
     "output_type": "execute_result"
    }
   ],
   "source": [
    "matricules_df.shape"
   ]
  },
  {
   "cell_type": "code",
   "execution_count": 56,
   "metadata": {},
   "outputs": [],
   "source": [
    "#There are some DNIs that are still repeated because students enrolled in multiple degrees the same year.\n",
    "#We will manage this cases later in the analysis"
   ]
  },
  {
   "cell_type": "markdown",
   "metadata": {},
   "source": [
    "## Notes"
   ]
  },
  {
   "cell_type": "code",
   "execution_count": 57,
   "metadata": {},
   "outputs": [],
   "source": [
    "file_path = '../data/raw/Notes.xlsx'\n",
    "notes_df = pd.read_excel(file_path)"
   ]
  },
  {
   "cell_type": "code",
   "execution_count": 58,
   "metadata": {},
   "outputs": [
    {
     "data": {
      "text/plain": [
       "(41327, 15)"
      ]
     },
     "execution_count": 58,
     "metadata": {},
     "output_type": "execute_result"
    }
   ],
   "source": [
    "notes_df.shape"
   ]
  },
  {
   "cell_type": "code",
   "execution_count": 59,
   "metadata": {
    "scrolled": true
   },
   "outputs": [
    {
     "data": {
      "text/html": [
       "<div>\n",
       "<style scoped>\n",
       "    .dataframe tbody tr th:only-of-type {\n",
       "        vertical-align: middle;\n",
       "    }\n",
       "\n",
       "    .dataframe tbody tr th {\n",
       "        vertical-align: top;\n",
       "    }\n",
       "\n",
       "    .dataframe thead th {\n",
       "        text-align: right;\n",
       "    }\n",
       "</style>\n",
       "<table border=\"1\" class=\"dataframe\">\n",
       "  <thead>\n",
       "    <tr style=\"text-align: right;\">\n",
       "      <th></th>\n",
       "      <th>ANO_ACADEMICO</th>\n",
       "      <th>ASSIG</th>\n",
       "      <th>CODIASS</th>\n",
       "      <th>GRUP</th>\n",
       "      <th>NIA</th>\n",
       "      <th>NIP</th>\n",
       "      <th>PLA</th>\n",
       "      <th>EXTRA</th>\n",
       "      <th>TIPUS</th>\n",
       "      <th>CURS</th>\n",
       "      <th>SEM</th>\n",
       "      <th>EXHAURIDES</th>\n",
       "      <th>SUPERADA</th>\n",
       "      <th>NOTANUMERICAACTA</th>\n",
       "      <th>NOTAALFAACTA</th>\n",
       "    </tr>\n",
       "  </thead>\n",
       "  <tbody>\n",
       "    <tr>\n",
       "      <th>8247</th>\n",
       "      <td>2015</td>\n",
       "      <td>Mates</td>\n",
       "      <td>200268</td>\n",
       "      <td>101</td>\n",
       "      <td>1421525</td>\n",
       "      <td>422495</td>\n",
       "      <td>880</td>\n",
       "      <td>N</td>\n",
       "      <td>B</td>\n",
       "      <td>1</td>\n",
       "      <td>1</td>\n",
       "      <td>1</td>\n",
       "      <td>S</td>\n",
       "      <td>6.3</td>\n",
       "      <td>AP</td>\n",
       "    </tr>\n",
       "  </tbody>\n",
       "</table>\n",
       "</div>"
      ],
      "text/plain": [
       "      ANO_ACADEMICO  ASSIG  CODIASS  GRUP      NIA     NIP  PLA EXTRA TIPUS  \\\n",
       "8247           2015  Mates   200268   101  1421525  422495  880     N     B   \n",
       "\n",
       "      CURS  SEM  EXHAURIDES SUPERADA  NOTANUMERICAACTA NOTAALFAACTA  \n",
       "8247     1    1           1        S               6.3           AP  "
      ]
     },
     "execution_count": 59,
     "metadata": {},
     "output_type": "execute_result"
    }
   ],
   "source": [
    "notes_df.sample()"
   ]
  },
  {
   "cell_type": "code",
   "execution_count": 60,
   "metadata": {},
   "outputs": [],
   "source": [
    "notes_df = notes_df.drop(columns='EXTRA')\n",
    "notes_df = notes_df.drop(columns='NIP')"
   ]
  },
  {
   "cell_type": "code",
   "execution_count": 61,
   "metadata": {},
   "outputs": [],
   "source": [
    "notes_df.columns = notes_df.columns.map(lambda x: x.lower())"
   ]
  },
  {
   "cell_type": "code",
   "execution_count": 62,
   "metadata": {},
   "outputs": [
    {
     "data": {
      "text/plain": [
       "Index(['ano_academico', 'assig', 'codiass', 'grup', 'nia', 'pla', 'tipus',\n",
       "       'curs', 'sem', 'exhaurides', 'superada', 'notanumericaacta',\n",
       "       'notaalfaacta'],\n",
       "      dtype='object')"
      ]
     },
     "execution_count": 62,
     "metadata": {},
     "output_type": "execute_result"
    }
   ],
   "source": [
    "notes_df.columns"
   ]
  },
  {
   "cell_type": "code",
   "execution_count": 63,
   "metadata": {},
   "outputs": [],
   "source": [
    "notes_df.rename(columns={'ano_academico':'any_academic',\n",
    "                             'assig':'assignatura',\n",
    "                             'codiass':'codi_assignatura',\n",
    "                             'nia': 'NIA',\n",
    "                             'sem': 'semestre',\n",
    "                             'notanumericaacta': 'nota_numerica',\n",
    "                             'notaalfaacta': 'nota_alfa'}, inplace=True)"
   ]
  },
  {
   "cell_type": "code",
   "execution_count": 64,
   "metadata": {},
   "outputs": [],
   "source": [
    "#Leaving grades only of those students with preinscription information and that we can connect. \n",
    "\n",
    "notes_df = pd.merge(notes_df,matricules_df, on=['NIA','pla'], how='left')\n",
    "notes_df['identification'].isnull().sum()\n",
    "notes_df = notes_df.dropna(subset='identification') \n",
    "#we are not interested in grades from students that we do not have their preinscription information "
   ]
  },
  {
   "cell_type": "code",
   "execution_count": 65,
   "metadata": {},
   "outputs": [],
   "source": [
    "notes_df['codi_grau'] = notes_df.apply(assign_codi_grau, axis=1)"
   ]
  },
  {
   "cell_type": "code",
   "execution_count": 67,
   "metadata": {},
   "outputs": [
    {
     "data": {
      "text/plain": [
       "Index(['any_academic', 'assignatura', 'codi_assignatura', 'grup', 'NIA', 'pla',\n",
       "       'tipus', 'curs', 'semestre', 'exhaurides', 'superada', 'nota_numerica',\n",
       "       'nota_alfa', 'identification', 'curs_matricula', 'DNI', 'codi_grau'],\n",
       "      dtype='object')"
      ]
     },
     "execution_count": 67,
     "metadata": {},
     "output_type": "execute_result"
    }
   ],
   "source": [
    "notes_df.columns"
   ]
  },
  {
   "cell_type": "code",
   "execution_count": 68,
   "metadata": {},
   "outputs": [
    {
     "data": {
      "text/html": [
       "<div>\n",
       "<style scoped>\n",
       "    .dataframe tbody tr th:only-of-type {\n",
       "        vertical-align: middle;\n",
       "    }\n",
       "\n",
       "    .dataframe tbody tr th {\n",
       "        vertical-align: top;\n",
       "    }\n",
       "\n",
       "    .dataframe thead th {\n",
       "        text-align: right;\n",
       "    }\n",
       "</style>\n",
       "<table border=\"1\" class=\"dataframe\">\n",
       "  <thead>\n",
       "    <tr style=\"text-align: right;\">\n",
       "      <th></th>\n",
       "      <th>any_academic</th>\n",
       "      <th>assignatura</th>\n",
       "      <th>codi_assignatura</th>\n",
       "      <th>grup</th>\n",
       "      <th>NIA</th>\n",
       "      <th>pla</th>\n",
       "      <th>tipus</th>\n",
       "      <th>curs</th>\n",
       "      <th>semestre</th>\n",
       "      <th>exhaurides</th>\n",
       "      <th>superada</th>\n",
       "      <th>nota_numerica</th>\n",
       "      <th>nota_alfa</th>\n",
       "      <th>identification</th>\n",
       "      <th>curs_matricula</th>\n",
       "      <th>DNI</th>\n",
       "      <th>codi_grau</th>\n",
       "    </tr>\n",
       "  </thead>\n",
       "  <tbody>\n",
       "    <tr>\n",
       "      <th>15015</th>\n",
       "      <td>2017</td>\n",
       "      <td>FETF</td>\n",
       "      <td>200151</td>\n",
       "      <td>701</td>\n",
       "      <td>1459372</td>\n",
       "      <td>877</td>\n",
       "      <td>O</td>\n",
       "      <td>2</td>\n",
       "      <td>2</td>\n",
       "      <td>3</td>\n",
       "      <td>S</td>\n",
       "      <td>3.2</td>\n",
       "      <td>SS</td>\n",
       "      <td>9308167A / 21025</td>\n",
       "      <td>2016.0</td>\n",
       "      <td>9308167A</td>\n",
       "      <td>21025</td>\n",
       "    </tr>\n",
       "  </tbody>\n",
       "</table>\n",
       "</div>"
      ],
      "text/plain": [
       "       any_academic assignatura  codi_assignatura  grup      NIA  pla tipus  \\\n",
       "15015          2017        FETF            200151   701  1459372  877     O   \n",
       "\n",
       "       curs  semestre  exhaurides superada  nota_numerica nota_alfa  \\\n",
       "15015     2         2           3        S            3.2        SS   \n",
       "\n",
       "         identification  curs_matricula       DNI  codi_grau  \n",
       "15015  9308167A / 21025          2016.0  9308167A      21025  "
      ]
     },
     "execution_count": 68,
     "metadata": {},
     "output_type": "execute_result"
    }
   ],
   "source": [
    "notes_df.sample()"
   ]
  },
  {
   "cell_type": "code",
   "execution_count": 69,
   "metadata": {},
   "outputs": [],
   "source": [
    "columns_to_drop = ['identification','curs_matricula','DNI']\n",
    "\n",
    "notes_df = notes_df.drop(columns=columns_to_drop)"
   ]
  },
  {
   "cell_type": "markdown",
   "metadata": {},
   "source": [
    "# Saving modified dfs"
   ]
  },
  {
   "cell_type": "code",
   "execution_count": 73,
   "metadata": {},
   "outputs": [],
   "source": [
    "#Saving the clean dfs into the clean data folder\n",
    "preinscripcions_df.to_csv('../data/processed/preinscripcions_df.csv', index=False)\n",
    "students_df.to_csv('../data/processed/students_df.csv', index=False)\n",
    "uni_access_df.to_csv('../data/processed/uni_access_df.csv', index=False)\n",
    "previous_education_df.to_csv('../data/processed/previous_education_df.csv', index=False)\n",
    "titulacions_df.to_csv('../data/processed/titulacions_df.csv', index=False )\n",
    "matricules_df.to_csv('../data/processed/matricules_df.csv', index=False)\n",
    "notes_df.to_csv('../data/processed/notes_df.csv', index=False)"
   ]
  },
  {
   "cell_type": "code",
   "execution_count": null,
   "metadata": {},
   "outputs": [],
   "source": []
  }
 ],
 "metadata": {
  "kernelspec": {
   "display_name": "ironhack",
   "language": "python",
   "name": "ironhack"
  },
  "language_info": {
   "codemirror_mode": {
    "name": "ipython",
    "version": 3
   },
   "file_extension": ".py",
   "mimetype": "text/x-python",
   "name": "python",
   "nbconvert_exporter": "python",
   "pygments_lexer": "ipython3",
   "version": "3.11.5"
  }
 },
 "nbformat": 4,
 "nbformat_minor": 2
}
