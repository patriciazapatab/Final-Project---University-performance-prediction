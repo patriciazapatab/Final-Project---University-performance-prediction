{
 "cells": [
  {
   "cell_type": "markdown",
   "id": "b1f53679",
   "metadata": {},
   "source": [
    "# Transformation of CP to renta media"
   ]
  },
  {
   "cell_type": "markdown",
   "id": "77d4ef08",
   "metadata": {},
   "source": [
    "We use data from https://www.agenciatributaria.es/AEAT/Contenidos_Comunes/La_Agencia_Tributaria/Estadisticas/Publicaciones/sites/irpfCodPostal/2018/jrubik611aa8cadac183b7602d273c915147ecedbd7c2a.html that contains data of the renta media disponible per CP\n",
    "\n",
    "Renta bruta y Renta disponible inframunicipal (2018)\n",
    "Tramos de Base Imponible: Total\n",
    "\n",
    "** El valor de renta disponible en matadepera es el del 2017 ya que en 2018 pasó de 41.789 a 166.006 y infliuria en el analisis."
   ]
  },
  {
   "cell_type": "code",
   "execution_count": 29,
   "id": "c32bda9f",
   "metadata": {},
   "outputs": [],
   "source": [
    "import pandas as pd\n",
    "import re\n",
    "from unidecode import unidecode\n",
    "import matplotlib.pyplot as plt\n",
    "import seaborn as sns\n",
    "\n",
    "\n",
    "import warnings\n",
    "warnings.filterwarnings(\"ignore\")"
   ]
  },
  {
   "cell_type": "code",
   "execution_count": 30,
   "id": "c2beccdb",
   "metadata": {},
   "outputs": [],
   "source": [
    "renta_media = pd.read_excel('../data/raw/renta_cp.xlsx')\n",
    "final_merge = pd.read_csv('../data/raw/final_merge.csv')"
   ]
  },
  {
   "cell_type": "code",
   "execution_count": 31,
   "id": "ab63d02f",
   "metadata": {},
   "outputs": [
    {
     "data": {
      "text/plain": [
       "(11426, 46)"
      ]
     },
     "execution_count": 31,
     "metadata": {},
     "output_type": "execute_result"
    }
   ],
   "source": [
    "final_merge.shape"
   ]
  },
  {
   "cell_type": "code",
   "execution_count": 32,
   "id": "547b2a8a",
   "metadata": {},
   "outputs": [],
   "source": [
    "def remove_accents(text):\n",
    "    return unidecode(text)"
   ]
  },
  {
   "cell_type": "code",
   "execution_count": 33,
   "id": "b24e50e6",
   "metadata": {},
   "outputs": [],
   "source": [
    "def transform_column_names(df):\n",
    "    df.columns = map(remove_accents,df.columns)\n",
    "    df.columns = [col.replace(' ', '_').lower() for col in df.columns]\n",
    "    return df"
   ]
  },
  {
   "cell_type": "code",
   "execution_count": 34,
   "id": "91344471",
   "metadata": {},
   "outputs": [],
   "source": [
    "renta_media.columns = [remove_accents(col) for col in renta_media.columns]"
   ]
  },
  {
   "cell_type": "code",
   "execution_count": 35,
   "id": "c4d7b069",
   "metadata": {},
   "outputs": [],
   "source": [
    "renta_media = transform_column_names(renta_media)"
   ]
  },
  {
   "cell_type": "code",
   "execution_count": 36,
   "id": "f3f44915",
   "metadata": {},
   "outputs": [
    {
     "data": {
      "text/plain": [
       "(701, 4)"
      ]
     },
     "execution_count": 36,
     "metadata": {},
     "output_type": "execute_result"
    }
   ],
   "source": [
    "renta_media.shape"
   ]
  },
  {
   "cell_type": "code",
   "execution_count": 37,
   "id": "431ab718",
   "metadata": {},
   "outputs": [
    {
     "data": {
      "text/plain": [
       "Index(['region', 'numero_de_declaraciones', 'renta_bruta_media',\n",
       "       'renta_disponible_media'],\n",
       "      dtype='object')"
      ]
     },
     "execution_count": 37,
     "metadata": {},
     "output_type": "execute_result"
    }
   ],
   "source": [
    "renta_media.columns"
   ]
  },
  {
   "cell_type": "code",
   "execution_count": 38,
   "id": "f8d333b0",
   "metadata": {},
   "outputs": [],
   "source": [
    "#First we want to extract the CPs of the \"Código postal\" column. We will use regex.\n",
    "\n",
    "def extract_cp(df):\n",
    "\n",
    "    data = df['region']\n",
    "    df['CP'] = None\n",
    "\n",
    "    for index, address in enumerate(df['region']):  #enumerate() keeps track of index and value\n",
    "        match = re.search(r'\\b\\d{5}\\b', address)     # Using regex to find a sequence of 5 digits\n",
    "\n",
    "        if match:\n",
    "            df.loc[index, 'CP'] = match.group() #group() se utiliza para extraer el match\n",
    "\n",
    "        else:\n",
    "            df.loc[index, 'CP'] = None\n",
    "    return df"
   ]
  },
  {
   "cell_type": "code",
   "execution_count": 39,
   "id": "9691e1b5",
   "metadata": {},
   "outputs": [],
   "source": [
    "renta_media = extract_cp(renta_media)"
   ]
  },
  {
   "cell_type": "code",
   "execution_count": 40,
   "id": "9d5bfd3d",
   "metadata": {},
   "outputs": [],
   "source": [
    "#from all columns we are interested in codigo_postal and renta_disponible_media\n",
    "renta_media = renta_media[['CP', 'renta_disponible_media']]"
   ]
  },
  {
   "cell_type": "code",
   "execution_count": 41,
   "id": "e8f630d0",
   "metadata": {},
   "outputs": [],
   "source": [
    "renta_media = renta_media.dropna(subset=['CP']) #The initial dataframe has the row 'Resto' from where we can't extract CP"
   ]
  },
  {
   "cell_type": "code",
   "execution_count": 42,
   "id": "c2251a72",
   "metadata": {},
   "outputs": [
    {
     "data": {
      "text/plain": [
       "(661, 2)"
      ]
     },
     "execution_count": 42,
     "metadata": {},
     "output_type": "execute_result"
    }
   ],
   "source": [
    "renta_media.shape"
   ]
  },
  {
   "cell_type": "code",
   "execution_count": 43,
   "id": "01b2d0d9",
   "metadata": {},
   "outputs": [
    {
     "data": {
      "text/plain": [
       "Index(['CP', 'renta_disponible_media'], dtype='object')"
      ]
     },
     "execution_count": 43,
     "metadata": {},
     "output_type": "execute_result"
    }
   ],
   "source": [
    "renta_media.columns"
   ]
  },
  {
   "cell_type": "code",
   "execution_count": 44,
   "id": "87a32df7",
   "metadata": {},
   "outputs": [],
   "source": [
    "renta_media['CP'] = renta_media['CP'].astype(int)"
   ]
  },
  {
   "cell_type": "code",
   "execution_count": 45,
   "id": "3216150e",
   "metadata": {},
   "outputs": [],
   "source": [
    "#We want to merge the dfs so we can add the 'renta_disponible_media' to each students row\n",
    "#We do left join so we don't lose students information\n",
    "merged_df = pd.merge(final_merge, renta_media, on=['CP'], how='left',indicator=True)"
   ]
  },
  {
   "cell_type": "code",
   "execution_count": 46,
   "id": "fd61b588",
   "metadata": {},
   "outputs": [
    {
     "data": {
      "text/plain": [
       "27556.0"
      ]
     },
     "execution_count": 46,
     "metadata": {},
     "output_type": "execute_result"
    }
   ],
   "source": [
    "#calculation of the median\n",
    "merged_df_for_median = merged_df.drop_duplicates(subset=['NIA'])\n",
    "median = merged_df_for_median['renta_disponible_media'].median()\n",
    "median"
   ]
  },
  {
   "cell_type": "code",
   "execution_count": 47,
   "id": "da86ec39",
   "metadata": {},
   "outputs": [],
   "source": [
    "#388 students didn't get their renta_disponible_media data --> We will try to fill it with values that make sense\n",
    "#We will substitute NaNs with the 'renta_disponible_media' of the province they belong\n",
    "        # starts with'17' --> 22.866 #girona\n",
    "        # starts with'43' --> 22.067 #tarragona\n",
    "        # starts with'25' --> 21.307 #lleida\n",
    "        # starts with '8' --> 26.663 #Barcelona\n",
    "        # starts with '7' --> 24.114 #Balears\n",
    "#For the rest values we will use the median value of 'renta_disponible_media' in the existing values\n",
    "\n",
    "def fill_renta_disponible(row):\n",
    "    \n",
    "    if pd.isna(row['renta_disponible_media']):\n",
    "\n",
    "        if str(row['CP']).startswith('8'):\n",
    "            return 26663\n",
    "        \n",
    "        elif str(row['CP']).startswith('17'):\n",
    "            return 22866\n",
    "        \n",
    "        elif str(row['CP']).startswith('25'):\n",
    "            return 21307\n",
    "        \n",
    "        elif str(row['CP']).startswith('43'):\n",
    "            return 22067\n",
    "        \n",
    "        elif str(row['CP']).startswith('7'):\n",
    "            return 24114\n",
    "        \n",
    "        else:\n",
    "            return 27556 #median for the values previous to the filling of NaNs\n",
    "    else:\n",
    "        return row['renta_disponible_media']\n"
   ]
  },
  {
   "cell_type": "code",
   "execution_count": 48,
   "id": "6fb77d9e",
   "metadata": {},
   "outputs": [],
   "source": [
    "merged_df['renta_disponible_media'] = merged_df.apply(fill_renta_disponible, axis=1)"
   ]
  },
  {
   "cell_type": "code",
   "execution_count": 49,
   "id": "70c6856f",
   "metadata": {},
   "outputs": [],
   "source": [
    "final_df = merged_df[['CP','renta_disponible_media']]"
   ]
  },
  {
   "cell_type": "code",
   "execution_count": 50,
   "id": "72c18fa3",
   "metadata": {
    "scrolled": true
   },
   "outputs": [
    {
     "data": {
      "text/plain": [
       "CP                        0\n",
       "renta_disponible_media    0\n",
       "dtype: int64"
      ]
     },
     "execution_count": 50,
     "metadata": {},
     "output_type": "execute_result"
    }
   ],
   "source": [
    "final_df.isnull().sum()"
   ]
  },
  {
   "cell_type": "code",
   "execution_count": 51,
   "id": "99c3624e",
   "metadata": {},
   "outputs": [
    {
     "data": {
      "text/plain": [
       "(11635, 2)"
      ]
     },
     "execution_count": 51,
     "metadata": {},
     "output_type": "execute_result"
    }
   ],
   "source": [
    "final_df.shape"
   ]
  },
  {
   "cell_type": "code",
   "execution_count": 52,
   "id": "4002b96f",
   "metadata": {},
   "outputs": [
    {
     "data": {
      "image/png": "[encoded data removed]",
      "text/plain": [
       "<Figure size 640x480 with 1 Axes>"
      ]
     },
     "metadata": {},
     "output_type": "display_data"
    }
   ],
   "source": [
    "sns.histplot(x=final_df['renta_disponible_media'], bins=30);"
   ]
  },
  {
   "cell_type": "code",
   "execution_count": 53,
   "id": "d6b51e8d",
   "metadata": {},
   "outputs": [],
   "source": [
    "#To save the document we want to keep just all the CPs in our dataset with their corresponding renta_disponible_media value.\n",
    "#We will merge it later to the big dataset \n",
    "final_df = final_df.drop_duplicates()"
   ]
  },
  {
   "cell_type": "code",
   "execution_count": 54,
   "id": "459dbe96",
   "metadata": {},
   "outputs": [
    {
     "data": {
      "text/plain": [
       "(328, 2)"
      ]
     },
     "execution_count": 54,
     "metadata": {},
     "output_type": "execute_result"
    }
   ],
   "source": [
    "final_df.shape"
   ]
  },
  {
   "cell_type": "code",
   "execution_count": 55,
   "id": "54957533",
   "metadata": {},
   "outputs": [],
   "source": [
    "#Saving the clean dfs into the clean data folder\n",
    "final_df.to_csv('../data/processed/renta_disponible.csv', index=False)"
   ]
  }
 ],
 "metadata": {
  "kernelspec": {
   "display_name": "ironhack",
   "language": "python",
   "name": "ironhack"
  },
  "language_info": {
   "codemirror_mode": {
    "name": "ipython",
    "version": 3
   },
   "file_extension": ".py",
   "mimetype": "text/x-python",
   "name": "python",
   "nbconvert_exporter": "python",
   "pygments_lexer": "ipython3",
   "version": "3.11.5"
  }
 },
 "nbformat": 4,
 "nbformat_minor": 5
}
