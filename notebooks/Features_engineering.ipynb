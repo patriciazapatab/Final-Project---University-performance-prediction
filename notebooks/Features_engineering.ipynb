{
 "cells": [
  {
   "cell_type": "markdown",
   "id": "163a232b",
   "metadata": {},
   "source": [
    "# Transformation of columns for model"
   ]
  },
  {
   "cell_type": "code",
   "execution_count": 1,
   "id": "2300e1a6",
   "metadata": {},
   "outputs": [],
   "source": [
    "import pandas as pd\n",
    "import matplotlib.pyplot as plt\n",
    "import seaborn as sns\n",
    "import numpy as np\n",
    "\n",
    "import warnings\n",
    "warnings.filterwarnings(\"ignore\")\n",
    "\n",
    "from sklearn import preprocessing"
   ]
  },
  {
   "cell_type": "code",
   "execution_count": 2,
   "id": "ab038def",
   "metadata": {},
   "outputs": [],
   "source": [
    "final_merge = pd.read_csv('../data/raw/final_merge.csv')\n",
    "renta_media_disponible = pd.read_csv('../data/processed/renta_disponible.csv')"
   ]
  },
  {
   "cell_type": "code",
   "execution_count": 3,
   "id": "3ca8bd51",
   "metadata": {},
   "outputs": [],
   "source": [
    "pd.set_option('display.max_columns',None)"
   ]
  },
  {
   "cell_type": "code",
   "execution_count": 4,
   "id": "c81ac555",
   "metadata": {
    "scrolled": true
   },
   "outputs": [
    {
     "data": {
      "text/html": [
       "<div>\n",
       "<style scoped>\n",
       "    .dataframe tbody tr th:only-of-type {\n",
       "        vertical-align: middle;\n",
       "    }\n",
       "\n",
       "    .dataframe tbody tr th {\n",
       "        vertical-align: top;\n",
       "    }\n",
       "\n",
       "    .dataframe thead th {\n",
       "        text-align: right;\n",
       "    }\n",
       "</style>\n",
       "<table border=\"1\" class=\"dataframe\">\n",
       "  <thead>\n",
       "    <tr style=\"text-align: right;\">\n",
       "      <th></th>\n",
       "      <th>NIA</th>\n",
       "      <th>curs_preinscripcio</th>\n",
       "      <th>convocatoria</th>\n",
       "      <th>curs_matricula</th>\n",
       "      <th>sexe</th>\n",
       "      <th>data_naixement</th>\n",
       "      <th>nacionalitat</th>\n",
       "      <th>pais</th>\n",
       "      <th>CP</th>\n",
       "      <th>poblacio</th>\n",
       "      <th>comarca</th>\n",
       "      <th>provincia</th>\n",
       "      <th>via_acces</th>\n",
       "      <th>nota_acces</th>\n",
       "      <th>ordre_assignacio</th>\n",
       "      <th>orientacio</th>\n",
       "      <th>aspectes_eleccio</th>\n",
       "      <th>any_qualificacio</th>\n",
       "      <th>convocatoria_qualificacio</th>\n",
       "      <th>treball_remunerat</th>\n",
       "      <th>estudis_pare</th>\n",
       "      <th>estudis_mare</th>\n",
       "      <th>ocupacio_pare</th>\n",
       "      <th>ocupacio_mare</th>\n",
       "      <th>codi_centre_secundaria</th>\n",
       "      <th>any_acabament_secundaria</th>\n",
       "      <th>tipus_centre_secundaria</th>\n",
       "      <th>tipus_lloc_secundaria</th>\n",
       "      <th>codi_lloc_secundaria</th>\n",
       "      <th>estudis_universitaris</th>\n",
       "      <th>any_acces_primera_vegada_universitat</th>\n",
       "      <th>titulacio_nivell_assolit</th>\n",
       "      <th>modalitat_acces</th>\n",
       "      <th>codi_grau</th>\n",
       "      <th>pla</th>\n",
       "      <th>any_academic</th>\n",
       "      <th>assignatura</th>\n",
       "      <th>codi_assignatura</th>\n",
       "      <th>grup</th>\n",
       "      <th>tipus</th>\n",
       "      <th>curs</th>\n",
       "      <th>semestre</th>\n",
       "      <th>exhaurides</th>\n",
       "      <th>superada</th>\n",
       "      <th>nota_numerica</th>\n",
       "      <th>nota_alfa</th>\n",
       "    </tr>\n",
       "  </thead>\n",
       "  <tbody>\n",
       "    <tr>\n",
       "      <th>8135</th>\n",
       "      <td>1630264</td>\n",
       "      <td>2021</td>\n",
       "      <td>J</td>\n",
       "      <td>2021</td>\n",
       "      <td>D</td>\n",
       "      <td>2003-02-05</td>\n",
       "      <td>ESP</td>\n",
       "      <td>ESP</td>\n",
       "      <td>8100</td>\n",
       "      <td>Mollet del Valles</td>\n",
       "      <td>41.0</td>\n",
       "      <td>8.0</td>\n",
       "      <td>0</td>\n",
       "      <td>7.368</td>\n",
       "      <td>1</td>\n",
       "      <td>9</td>\n",
       "      <td>7</td>\n",
       "      <td>2021</td>\n",
       "      <td>J</td>\n",
       "      <td>2</td>\n",
       "      <td>3</td>\n",
       "      <td>4</td>\n",
       "      <td>7</td>\n",
       "      <td>7</td>\n",
       "      <td>8021545.0</td>\n",
       "      <td>2021.0</td>\n",
       "      <td>2.0</td>\n",
       "      <td>C</td>\n",
       "      <td>41</td>\n",
       "      <td>0</td>\n",
       "      <td>NaN</td>\n",
       "      <td>NaN</td>\n",
       "      <td>NaN</td>\n",
       "      <td>21022</td>\n",
       "      <td>1466</td>\n",
       "      <td>2021</td>\n",
       "      <td>EMedi</td>\n",
       "      <td>104912</td>\n",
       "      <td>401</td>\n",
       "      <td>O</td>\n",
       "      <td>1</td>\n",
       "      <td>2</td>\n",
       "      <td>1</td>\n",
       "      <td>S</td>\n",
       "      <td>8.7</td>\n",
       "      <td>NT</td>\n",
       "    </tr>\n",
       "  </tbody>\n",
       "</table>\n",
       "</div>"
      ],
      "text/plain": [
       "          NIA  curs_preinscripcio convocatoria  curs_matricula sexe  \\\n",
       "8135  1630264                2021            J            2021    D   \n",
       "\n",
       "     data_naixement nacionalitat pais    CP           poblacio  comarca  \\\n",
       "8135     2003-02-05          ESP  ESP  8100  Mollet del Valles     41.0   \n",
       "\n",
       "      provincia  via_acces  nota_acces  ordre_assignacio  orientacio  \\\n",
       "8135        8.0          0       7.368                 1           9   \n",
       "\n",
       "      aspectes_eleccio  any_qualificacio convocatoria_qualificacio  \\\n",
       "8135                 7              2021                         J   \n",
       "\n",
       "      treball_remunerat  estudis_pare  estudis_mare  ocupacio_pare  \\\n",
       "8135                  2             3             4              7   \n",
       "\n",
       "      ocupacio_mare  codi_centre_secundaria  any_acabament_secundaria  \\\n",
       "8135              7               8021545.0                    2021.0   \n",
       "\n",
       "      tipus_centre_secundaria tipus_lloc_secundaria codi_lloc_secundaria  \\\n",
       "8135                      2.0                     C                   41   \n",
       "\n",
       "      estudis_universitaris  any_acces_primera_vegada_universitat  \\\n",
       "8135                      0                                   NaN   \n",
       "\n",
       "      titulacio_nivell_assolit  modalitat_acces  codi_grau   pla  \\\n",
       "8135                       NaN              NaN      21022  1466   \n",
       "\n",
       "      any_academic assignatura  codi_assignatura  grup tipus  curs  semestre  \\\n",
       "8135          2021       EMedi            104912   401     O     1         2   \n",
       "\n",
       "      exhaurides superada  nota_numerica nota_alfa  \n",
       "8135           1        S            8.7        NT  "
      ]
     },
     "execution_count": 4,
     "metadata": {},
     "output_type": "execute_result"
    }
   ],
   "source": [
    "final_merge.sample()"
   ]
  },
  {
   "cell_type": "code",
   "execution_count": 5,
   "id": "8d186e53",
   "metadata": {},
   "outputs": [],
   "source": [
    "#To explore the data and understand the multiple variables we will use the df grouped by NIA's so we have 1 row x student\n",
    "final_merge_students = final_merge.groupby('NIA').first().reset_index()"
   ]
  },
  {
   "cell_type": "code",
   "execution_count": 6,
   "id": "e2659ee0",
   "metadata": {},
   "outputs": [
    {
     "data": {
      "text/plain": [
       "(1299, 46)"
      ]
     },
     "execution_count": 6,
     "metadata": {},
     "output_type": "execute_result"
    }
   ],
   "source": [
    "final_merge_students.shape #There is a total of 1299 students in the df to use"
   ]
  },
  {
   "cell_type": "code",
   "execution_count": 41,
   "id": "628a396a",
   "metadata": {},
   "outputs": [
    {
     "data": {
      "text/plain": [
       "0"
      ]
     },
     "execution_count": 41,
     "metadata": {},
     "output_type": "execute_result"
    }
   ],
   "source": [
    "final_merge_students['nota_acces'].isnull().sum()"
   ]
  },
  {
   "cell_type": "markdown",
   "id": "603c748f",
   "metadata": {},
   "source": [
    "### Students information"
   ]
  },
  {
   "cell_type": "markdown",
   "id": "b1cd0ee4",
   "metadata": {},
   "source": [
    "#### Sex"
   ]
  },
  {
   "cell_type": "code",
   "execution_count": 7,
   "id": "bc2223d0",
   "metadata": {},
   "outputs": [
    {
     "data": {
      "text/plain": [
       "sexe\n",
       "H    1146\n",
       "D     153\n",
       "Name: count, dtype: int64"
      ]
     },
     "execution_count": 7,
     "metadata": {},
     "output_type": "execute_result"
    }
   ],
   "source": [
    "#We will do onehotencoder. However, we migh have to work with the data imbalance between men and woman. \n",
    "final_merge_students['sexe'].value_counts()"
   ]
  },
  {
   "cell_type": "markdown",
   "id": "88e2cebf",
   "metadata": {},
   "source": [
    "#### Age"
   ]
  },
  {
   "cell_type": "code",
   "execution_count": 8,
   "id": "07f1443c",
   "metadata": {},
   "outputs": [],
   "source": [
    "# data_de_naixement can be transformed into the age of students when they are doing the assignatura (any_academic)\n",
    "def get_age(df):\n",
    "    df['data_naixement'] = pd.to_datetime(df['data_naixement'], format='%Y-%m-%d')\n",
    "    df['any_academic'] = pd.to_datetime(df['any_academic'], format='%Y') + pd.offsets.DateOffset(months=8, days=0)\n",
    "        #The last part adds the specified months and days to the date (in this case year-01-01).\n",
    "        #We take 1st of september as the starting of the year\n",
    "    df['edad'] = (df['any_academic'] - df['data_naixement']).dt.total_seconds() / (365.25 * 24 * 3600)\n",
    "    df['edad'] = df['edad'].astype(int)\n",
    "    return df"
   ]
  },
  {
   "cell_type": "code",
   "execution_count": 9,
   "id": "c3be75c6",
   "metadata": {},
   "outputs": [],
   "source": [
    "final_merge_students = get_age(final_merge_students)\n",
    "final_merge = get_age(final_merge) #applying it also to the whole dataset"
   ]
  },
  {
   "cell_type": "code",
   "execution_count": 10,
   "id": "466bdf9c",
   "metadata": {},
   "outputs": [
    {
     "data": {
      "text/plain": [
       "edad\n",
       "18    425\n",
       "17    184\n",
       "21    146\n",
       "19    141\n",
       "20    129\n",
       "22     93\n",
       "24     45\n",
       "23     40\n",
       "25     32\n",
       "26     16\n",
       "27      8\n",
       "28      8\n",
       "32      5\n",
       "29      5\n",
       "33      4\n",
       "34      4\n",
       "30      4\n",
       "31      3\n",
       "37      2\n",
       "39      1\n",
       "42      1\n",
       "38      1\n",
       "35      1\n",
       "36      1\n",
       "Name: count, dtype: int64"
      ]
     },
     "execution_count": 10,
     "metadata": {},
     "output_type": "execute_result"
    }
   ],
   "source": [
    "final_merge_students['edad'].value_counts()\n",
    "#as expected, most students are between 17 and 20 years old their first year of uni.\n",
    "#In future tirals is it possible to join 17 and 18 since this is the standard age to start uni vs people that hasn't started\n",
    "#uni right the way after secondary school"
   ]
  },
  {
   "cell_type": "markdown",
   "id": "f86e278e",
   "metadata": {},
   "source": [
    "#### Nationality"
   ]
  },
  {
   "cell_type": "code",
   "execution_count": 11,
   "id": "b8f5b6b8",
   "metadata": {
    "scrolled": true
   },
   "outputs": [
    {
     "data": {
      "text/plain": [
       "nacionalitat\n",
       "ESP    1245\n",
       "CHN      10\n",
       "AND       7\n",
       "MAR       5\n",
       "ITA       4\n",
       "ROU       3\n",
       "GEO       2\n",
       "IRN       2\n",
       "ECU       2\n",
       "HND       2\n",
       "COL       2\n",
       "BRA       1\n",
       "NPL       1\n",
       "BOL       1\n",
       "RUS       1\n",
       "GNB       1\n",
       "FRA       1\n",
       "PRY       1\n",
       "MEX       1\n",
       "DEU       1\n",
       "BEL       1\n",
       "PHL       1\n",
       "SAU       1\n",
       "CAN       1\n",
       "URY       1\n",
       "LTU       1\n",
       "Name: count, dtype: int64"
      ]
     },
     "execution_count": 11,
     "metadata": {},
     "output_type": "execute_result"
    }
   ],
   "source": [
    "final_merge_students['nacionalitat'].value_counts() \n",
    "#There is only 54 students (out of the 1299)  without spanish nationality so, for now, we won't consider nationality"
   ]
  },
  {
   "cell_type": "markdown",
   "id": "72606505",
   "metadata": {},
   "source": [
    "#### Address"
   ]
  },
  {
   "cell_type": "code",
   "execution_count": 12,
   "id": "48b084c9",
   "metadata": {
    "scrolled": true
   },
   "outputs": [],
   "source": [
    "#Adding the column of renta_disponible_media because it will be our parameter for comparing if students residence affects\n",
    "dict_ = {}\n",
    "\n",
    "for index, row in renta_media_disponible.iterrows():\n",
    "    CP = row[\"CP\"]\n",
    "    renta = row [\"renta_disponible_media\"]\n",
    "    \n",
    "    dict_[CP] = renta\n",
    "\n",
    "final_merge[\"renta_media_disponible\"] = final_merge[\"CP\"].map(dict_)\n",
    "final_merge_students[\"renta_media_disponible\"] = final_merge_students[\"CP\"].map(dict_)"
   ]
  },
  {
   "cell_type": "markdown",
   "id": "3d00c1ae",
   "metadata": {},
   "source": [
    "#### Current work situacion"
   ]
  },
  {
   "cell_type": "code",
   "execution_count": 13,
   "id": "c0d57071",
   "metadata": {},
   "outputs": [
    {
     "data": {
      "text/plain": [
       "treball_remunerat\n",
       "3    865\n",
       "2    368\n",
       "1     66\n",
       "Name: count, dtype: int64"
      ]
     },
     "execution_count": 13,
     "metadata": {},
     "output_type": "execute_result"
    }
   ],
   "source": [
    "final_merge_students[\"treball_remunerat\"].value_counts()"
   ]
  },
  {
   "cell_type": "code",
   "execution_count": 14,
   "id": "7bf5bac8",
   "metadata": {},
   "outputs": [],
   "source": [
    "#Treball remunerat classifies students by:\n",
    "    #1.Works less than 15 hours per week\n",
    "    #2.Works 15 or more hours per week\n",
    "    #3.Doesn't work\n",
    "#We will create a rank ordered by more time to study to less time to study\n",
    "\n",
    "new_dict_work_situation = {\n",
    "    1 : 1,\n",
    "    2 : 2,\n",
    "    3 : 3}\n",
    "\n",
    "final_merge_students[\"treball_remunerat\"] = final_merge_students[\"treball_remunerat\"].replace(new_dict_work_situation)\n",
    "final_merge[\"treball_remunerat\"] = final_merge[\"treball_remunerat\"].replace(new_dict_work_situation)"
   ]
  },
  {
   "cell_type": "markdown",
   "id": "24dc39cd",
   "metadata": {},
   "source": [
    "### Previous education"
   ]
  },
  {
   "cell_type": "markdown",
   "id": "e77afdda",
   "metadata": {},
   "source": [
    "#### Students with previous university experience"
   ]
  },
  {
   "cell_type": "code",
   "execution_count": 15,
   "id": "23e402b6",
   "metadata": {},
   "outputs": [],
   "source": [
    "# We have the following variables that relate to previous university experience: \n",
    "    # 'estudis_universitaris': 0 (not in uni before) , 1 (previously university)\n",
    "    # In case estudis_universitaris = 1 --> any_acces_primera_vegada_universitat', 'titulacio_nivell_assolit','modalitat_acces'"
   ]
  },
  {
   "cell_type": "code",
   "execution_count": 16,
   "id": "6f1f25ba",
   "metadata": {},
   "outputs": [
    {
     "data": {
      "text/plain": [
       "273"
      ]
     },
     "execution_count": 16,
     "metadata": {},
     "output_type": "execute_result"
    }
   ],
   "source": [
    "final_merge_students['estudis_universitaris'].sum() #273 students (out of the 1299) have previous uni experience"
   ]
  },
  {
   "cell_type": "code",
   "execution_count": 17,
   "id": "e8df58c6",
   "metadata": {},
   "outputs": [],
   "source": [
    "#On the other hand, we have the variable 'via_access' that categorizes students based on \"where\" are they coming from.\n",
    "    #It takes the following values:\n",
    "        # Via 0: PAU o assimilats\n",
    "        # Via 2: Llicenciats, diplomats o assimilats\n",
    "        # Via 4: CFGS o assimilats\n",
    "        # Via 7: PAU amb carrera començada\n",
    "        # Via 8: CFGS o assimilats amb carrera començada\n",
    "        # Via 9: MG25 anys\n",
    "        # Via 10: MG40 anys amb experiencia laboral\n",
    "        # Via 11: MG45 anys\n",
    "\n",
    "# Vies 7, 8 and 2 take into account this previous university student."
   ]
  },
  {
   "cell_type": "code",
   "execution_count": 18,
   "id": "ddb7c795",
   "metadata": {
    "scrolled": true
   },
   "outputs": [
    {
     "name": "stdout",
     "output_type": "stream",
     "text": [
      "All students:\n",
      "via_acces\n",
      "0    771\n",
      "4    320\n",
      "7    148\n",
      "8     55\n",
      "2      5\n",
      "Name: count, dtype: int64\n"
     ]
    }
   ],
   "source": [
    "print('All students:')\n",
    "print(f\"{final_merge_students['via_acces'].value_counts()}\")"
   ]
  },
  {
   "cell_type": "code",
   "execution_count": 19,
   "id": "53c3b905",
   "metadata": {},
   "outputs": [
    {
     "name": "stdout",
     "output_type": "stream",
     "text": [
      "Students with previous university studies:\n",
      "via_acces\n",
      "7    148\n",
      "0     61\n",
      "8     55\n",
      "2      5\n",
      "4      4\n",
      "Name: count, dtype: int64\n"
     ]
    }
   ],
   "source": [
    "print('Students with previous university studies:')\n",
    "print(f\"{final_merge_students[final_merge_students['estudis_universitaris'] == 1]['via_acces'].value_counts()}\")"
   ]
  },
  {
   "cell_type": "code",
   "execution_count": 20,
   "id": "2282c8a4",
   "metadata": {},
   "outputs": [],
   "source": [
    "# We also observe that majority of students that have been in other universities drop out before the first year.\n",
    "# For all this, we will not consider the variable of having been in other universities before. "
   ]
  },
  {
   "cell_type": "code",
   "execution_count": 21,
   "id": "49a1eb8a",
   "metadata": {},
   "outputs": [],
   "source": [
    "#Unifiying categories to later do the onehotencoder\n",
    "\n",
    "new_dict_via_acces = {\n",
    "    0 : 'PAU',\n",
    "    4 : 'CFGS',\n",
    "    7 : 'PAU',\n",
    "    8 : 'CFGS',\n",
    "    9 : 'altres_vies',\n",
    "    2 : 'altres_vies'}\n",
    "\n",
    "final_merge[\"via_acces\"] = final_merge[\"via_acces\"].replace(new_dict_via_acces)"
   ]
  },
  {
   "cell_type": "code",
   "execution_count": 22,
   "id": "6241e943",
   "metadata": {},
   "outputs": [
    {
     "data": {
      "text/plain": [
       "via_acces\n",
       "PAU            8691\n",
       "CFGS           2641\n",
       "altres_vies      46\n",
       "Name: count, dtype: int64"
      ]
     },
     "execution_count": 22,
     "metadata": {},
     "output_type": "execute_result"
    }
   ],
   "source": [
    "final_merge[\"via_acces\"].value_counts()"
   ]
  },
  {
   "cell_type": "code",
   "execution_count": 23,
   "id": "43173edc",
   "metadata": {},
   "outputs": [
    {
     "ename": "KeyError",
     "evalue": "'via_acces_PAU'",
     "output_type": "error",
     "traceback": [
      "\u001b[1;31m---------------------------------------------------------------------------\u001b[0m",
      "\u001b[1;31mKeyError\u001b[0m                                  Traceback (most recent call last)",
      "File \u001b[1;32m~\\miniconda3\\envs\\ironhack\\Lib\\site-packages\\pandas\\core\\indexes\\base.py:3790\u001b[0m, in \u001b[0;36mIndex.get_loc\u001b[1;34m(self, key)\u001b[0m\n\u001b[0;32m   3789\u001b[0m \u001b[38;5;28;01mtry\u001b[39;00m:\n\u001b[1;32m-> 3790\u001b[0m     \u001b[38;5;28;01mreturn\u001b[39;00m \u001b[38;5;28;43mself\u001b[39;49m\u001b[38;5;241;43m.\u001b[39;49m\u001b[43m_engine\u001b[49m\u001b[38;5;241;43m.\u001b[39;49m\u001b[43mget_loc\u001b[49m\u001b[43m(\u001b[49m\u001b[43mcasted_key\u001b[49m\u001b[43m)\u001b[49m\n\u001b[0;32m   3791\u001b[0m \u001b[38;5;28;01mexcept\u001b[39;00m \u001b[38;5;167;01mKeyError\u001b[39;00m \u001b[38;5;28;01mas\u001b[39;00m err:\n",
      "File \u001b[1;32mindex.pyx:152\u001b[0m, in \u001b[0;36mpandas._libs.index.IndexEngine.get_loc\u001b[1;34m()\u001b[0m\n",
      "File \u001b[1;32mindex.pyx:181\u001b[0m, in \u001b[0;36mpandas._libs.index.IndexEngine.get_loc\u001b[1;34m()\u001b[0m\n",
      "File \u001b[1;32mpandas\\_libs\\hashtable_class_helper.pxi:7080\u001b[0m, in \u001b[0;36mpandas._libs.hashtable.PyObjectHashTable.get_item\u001b[1;34m()\u001b[0m\n",
      "File \u001b[1;32mpandas\\_libs\\hashtable_class_helper.pxi:7088\u001b[0m, in \u001b[0;36mpandas._libs.hashtable.PyObjectHashTable.get_item\u001b[1;34m()\u001b[0m\n",
      "\u001b[1;31mKeyError\u001b[0m: 'via_acces_PAU'",
      "\nThe above exception was the direct cause of the following exception:\n",
      "\u001b[1;31mKeyError\u001b[0m                                  Traceback (most recent call last)",
      "Cell \u001b[1;32mIn[23], line 1\u001b[0m\n\u001b[1;32m----> 1\u001b[0m \u001b[43mfinal_merge\u001b[49m\u001b[43m[\u001b[49m\u001b[38;5;124;43m\"\u001b[39;49m\u001b[38;5;124;43mvia_acces_PAU\u001b[39;49m\u001b[38;5;124;43m\"\u001b[39;49m\u001b[43m]\u001b[49m\u001b[38;5;241m.\u001b[39mvalue_counts()\n",
      "File \u001b[1;32m~\\miniconda3\\envs\\ironhack\\Lib\\site-packages\\pandas\\core\\frame.py:3896\u001b[0m, in \u001b[0;36mDataFrame.__getitem__\u001b[1;34m(self, key)\u001b[0m\n\u001b[0;32m   3894\u001b[0m \u001b[38;5;28;01mif\u001b[39;00m \u001b[38;5;28mself\u001b[39m\u001b[38;5;241m.\u001b[39mcolumns\u001b[38;5;241m.\u001b[39mnlevels \u001b[38;5;241m>\u001b[39m \u001b[38;5;241m1\u001b[39m:\n\u001b[0;32m   3895\u001b[0m     \u001b[38;5;28;01mreturn\u001b[39;00m \u001b[38;5;28mself\u001b[39m\u001b[38;5;241m.\u001b[39m_getitem_multilevel(key)\n\u001b[1;32m-> 3896\u001b[0m indexer \u001b[38;5;241m=\u001b[39m \u001b[38;5;28;43mself\u001b[39;49m\u001b[38;5;241;43m.\u001b[39;49m\u001b[43mcolumns\u001b[49m\u001b[38;5;241;43m.\u001b[39;49m\u001b[43mget_loc\u001b[49m\u001b[43m(\u001b[49m\u001b[43mkey\u001b[49m\u001b[43m)\u001b[49m\n\u001b[0;32m   3897\u001b[0m \u001b[38;5;28;01mif\u001b[39;00m is_integer(indexer):\n\u001b[0;32m   3898\u001b[0m     indexer \u001b[38;5;241m=\u001b[39m [indexer]\n",
      "File \u001b[1;32m~\\miniconda3\\envs\\ironhack\\Lib\\site-packages\\pandas\\core\\indexes\\base.py:3797\u001b[0m, in \u001b[0;36mIndex.get_loc\u001b[1;34m(self, key)\u001b[0m\n\u001b[0;32m   3792\u001b[0m     \u001b[38;5;28;01mif\u001b[39;00m \u001b[38;5;28misinstance\u001b[39m(casted_key, \u001b[38;5;28mslice\u001b[39m) \u001b[38;5;129;01mor\u001b[39;00m (\n\u001b[0;32m   3793\u001b[0m         \u001b[38;5;28misinstance\u001b[39m(casted_key, abc\u001b[38;5;241m.\u001b[39mIterable)\n\u001b[0;32m   3794\u001b[0m         \u001b[38;5;129;01mand\u001b[39;00m \u001b[38;5;28many\u001b[39m(\u001b[38;5;28misinstance\u001b[39m(x, \u001b[38;5;28mslice\u001b[39m) \u001b[38;5;28;01mfor\u001b[39;00m x \u001b[38;5;129;01min\u001b[39;00m casted_key)\n\u001b[0;32m   3795\u001b[0m     ):\n\u001b[0;32m   3796\u001b[0m         \u001b[38;5;28;01mraise\u001b[39;00m InvalidIndexError(key)\n\u001b[1;32m-> 3797\u001b[0m     \u001b[38;5;28;01mraise\u001b[39;00m \u001b[38;5;167;01mKeyError\u001b[39;00m(key) \u001b[38;5;28;01mfrom\u001b[39;00m \u001b[38;5;21;01merr\u001b[39;00m\n\u001b[0;32m   3798\u001b[0m \u001b[38;5;28;01mexcept\u001b[39;00m \u001b[38;5;167;01mTypeError\u001b[39;00m:\n\u001b[0;32m   3799\u001b[0m     \u001b[38;5;66;03m# If we have a listlike key, _check_indexing_error will raise\u001b[39;00m\n\u001b[0;32m   3800\u001b[0m     \u001b[38;5;66;03m#  InvalidIndexError. Otherwise we fall through and re-raise\u001b[39;00m\n\u001b[0;32m   3801\u001b[0m     \u001b[38;5;66;03m#  the TypeError.\u001b[39;00m\n\u001b[0;32m   3802\u001b[0m     \u001b[38;5;28mself\u001b[39m\u001b[38;5;241m.\u001b[39m_check_indexing_error(key)\n",
      "\u001b[1;31mKeyError\u001b[0m: 'via_acces_PAU'"
     ]
    }
   ],
   "source": [
    "final_merge[\"via_acces_PAU\"].value_counts()"
   ]
  },
  {
   "cell_type": "code",
   "execution_count": null,
   "id": "5948cbe1",
   "metadata": {},
   "outputs": [],
   "source": [
    "final_merge[\"via_acces_CFGS\"].value_counts()"
   ]
  },
  {
   "cell_type": "code",
   "execution_count": null,
   "id": "d17241e9",
   "metadata": {},
   "outputs": [],
   "source": [
    "final_merge[\"via_acces_altres_vies\"].value_counts()"
   ]
  },
  {
   "cell_type": "markdown",
   "id": "5d460546",
   "metadata": {},
   "source": [
    "#### Secondary school (Batxillerat) data"
   ]
  },
  {
   "cell_type": "code",
   "execution_count": null,
   "id": "9e6f08f1",
   "metadata": {},
   "outputs": [],
   "source": [
    "#We have the following information regarding secondary school data.\n",
    "#This variables have some null values since not all students come from Batxillerat.\n",
    "\n",
    "        # codi_centre_secundaria: 395 (Identification number for each school)\n",
    "        # any_acabament_secundaria : 223\n",
    "        # tipus_centre_secundaria: 223 ((1) Públic / (2) Privat / (3) Concertat)\n",
    "        \n",
    "    #Geographic variables: \n",
    "        # tipus_lloc_secundaria: 223 ((C) Catalunya (E) Espanya (A) Altres)\n",
    "        # codi_lloc_secundaria: 223 (Catalunya la comarca, Espanya la CCAA, Estrangers països)"
   ]
  },
  {
   "cell_type": "code",
   "execution_count": null,
   "id": "9d517a14",
   "metadata": {},
   "outputs": [],
   "source": [
    "final_merge['tipus_centre_secundaria'].value_counts()"
   ]
  },
  {
   "cell_type": "code",
   "execution_count": null,
   "id": "866e49c6",
   "metadata": {},
   "outputs": [],
   "source": [
    "#A different approach\n",
    "#Unifiying categories to later do the onehotencoder, tipus_centre_secundaria\n",
    "\n",
    "# new_dict_tipus_secundaria = {\n",
    "#     1 : 'batx_public',\n",
    "#     2 : 'batx_privat',\n",
    "#     3 : 'batx_concertat',\n",
    "# }\n",
    "\n",
    "# final_merge[\"tipus_centre_secundaria\"] = final_merge[\"tipus_centre_secundaria\"].replace(new_dict_tipus_secundaria)\n",
    "# final_merge[\"tipus_centre_secundaria\"] = final_merge[\"tipus_centre_secundaria\"].fillna('no_secondary_info')"
   ]
  },
  {
   "cell_type": "code",
   "execution_count": null,
   "id": "63b3cce5",
   "metadata": {},
   "outputs": [],
   "source": [
    "#Establishing an order by university cost (from less (1 --> public) to more (3 --> private)\n",
    "new_dict_tipus_secundaria = {\n",
    "    1 : 1,\n",
    "    2 : 3,\n",
    "    3 : 2}\n",
    "\n",
    "final_merge[\"tipus_centre_secundaria\"] = final_merge[\"tipus_centre_secundaria\"].replace(new_dict_tipus_secundaria)\n",
    "final_merge[\"tipus_centre_secundaria\"] = final_merge[\"tipus_centre_secundaria\"].fillna('no_secondary_info')"
   ]
  },
  {
   "cell_type": "markdown",
   "id": "1b1dad2d",
   "metadata": {},
   "source": [
    "#### Time from end of secondary to starting uni"
   ]
  },
  {
   "cell_type": "code",
   "execution_count": 24,
   "id": "8de080f1",
   "metadata": {},
   "outputs": [],
   "source": [
    "# Does it affect on their grade how much time happens between students finalization of batx and their first semester at EUSS?\n",
    "final_merge = final_merge.dropna(subset=['any_acabament_secundaria']) #we drop 218 out of 1299 students that do not have this information\n",
    "final_merge['curs_matricula'] = final_merge['curs_matricula'].astype(int)\n",
    "final_merge['any_acabament_secundaria'] = final_merge['any_acabament_secundaria'].astype(int)"
   ]
  },
  {
   "cell_type": "code",
   "execution_count": 25,
   "id": "26ec4003",
   "metadata": {},
   "outputs": [],
   "source": [
    "final_merge['diferencia_anys'] = final_merge['curs_matricula'] - final_merge['any_acabament_secundaria']"
   ]
  },
  {
   "cell_type": "markdown",
   "id": "c95d1805",
   "metadata": {},
   "source": [
    "### PAU exam & Matriculation information"
   ]
  },
  {
   "cell_type": "code",
   "execution_count": 26,
   "id": "f4943707",
   "metadata": {
    "scrolled": true
   },
   "outputs": [
    {
     "data": {
      "text/plain": [
       "convocatoria_qualificacio\n",
       "J     1131\n",
       "S      163\n",
       "07       2\n",
       "09       1\n",
       "04       1\n",
       "06       1\n",
       "Name: count, dtype: int64"
      ]
     },
     "execution_count": 26,
     "metadata": {},
     "output_type": "execute_result"
    }
   ],
   "source": [
    "final_merge_students['convocatoria_qualificacio'].value_counts()"
   ]
  },
  {
   "cell_type": "code",
   "execution_count": 27,
   "id": "6bb68684",
   "metadata": {
    "scrolled": true
   },
   "outputs": [],
   "source": [
    "final_merge = final_merge.dropna(subset=['convocatoria_qualificacio'])"
   ]
  },
  {
   "cell_type": "code",
   "execution_count": 28,
   "id": "92d203aa",
   "metadata": {},
   "outputs": [],
   "source": [
    "#convocatoria_qualificacio show students that take their access exam Juny and students in September, will it affect?\n",
    "\n",
    "new_dict_convocatoria = {\n",
    "    'J' : 'juny',\n",
    "    'S' : 'setembre',\n",
    "    '07' : 'altres_convocatories',\n",
    "    '09' : 'altres_convocatories',\n",
    "    '04' : 'altres_convocatories',\n",
    "    '06' : 'altres_convocatories' }\n",
    "\n",
    "\n",
    "final_merge['convocatoria_qualificacio'] = final_merge['convocatoria_qualificacio'].replace(new_dict_convocatoria)\n",
    "final_merge_students['convocatoria_qualificacio'] = final_merge_students['convocatoria_qualificacio'].replace(new_dict_convocatoria)"
   ]
  },
  {
   "cell_type": "code",
   "execution_count": 29,
   "id": "2db974ee",
   "metadata": {},
   "outputs": [
    {
     "data": {
      "text/plain": [
       "convocatoria_qualificacio\n",
       "juny                    1131\n",
       "setembre                 163\n",
       "altres_convocatories       5\n",
       "Name: count, dtype: int64"
      ]
     },
     "execution_count": 29,
     "metadata": {},
     "output_type": "execute_result"
    }
   ],
   "source": [
    "final_merge_students['convocatoria_qualificacio'].value_counts() #There might be problems with imbalance"
   ]
  },
  {
   "cell_type": "markdown",
   "id": "95b4e000",
   "metadata": {},
   "source": [
    "### Enrollment information"
   ]
  },
  {
   "cell_type": "code",
   "execution_count": 30,
   "id": "042957d8",
   "metadata": {},
   "outputs": [
    {
     "data": {
      "text/plain": [
       "grup\n",
       "mati     1020\n",
       "tarda     279\n",
       "Name: count, dtype: int64"
      ]
     },
     "execution_count": 30,
     "metadata": {},
     "output_type": "execute_result"
    }
   ],
   "source": [
    "#'grup' gives us information about if students are part of the morning or the evening cohort (groups 701 , 801)\n",
    "\n",
    "final_merge['grup'] = final_merge['grup'].astype(int)\n",
    "grups = final_merge['grup']\n",
    "\n",
    "new_dict_grup = {}\n",
    "\n",
    "for grup in grups:\n",
    "    if grup in (701, 801):\n",
    "        new_dict_grup[grup] = 'tarda'\n",
    "    else:\n",
    "        new_dict_grup[grup] = 'mati'\n",
    "\n",
    "\n",
    "final_merge[\"grup\"] = final_merge[\"grup\"].replace(new_dict_grup)\n",
    "final_merge_students[\"grup\"] = final_merge_students[\"grup\"].replace(new_dict_grup)\n",
    "final_merge_students[\"grup\"].value_counts() #Data imbalance"
   ]
  },
  {
   "cell_type": "code",
   "execution_count": 31,
   "id": "ec09cc95",
   "metadata": {},
   "outputs": [
    {
     "data": {
      "text/plain": [
       "Index(['NIA', 'curs_preinscripcio', 'convocatoria', 'curs_matricula', 'sexe',\n",
       "       'data_naixement', 'nacionalitat', 'pais', 'CP', 'poblacio', 'comarca',\n",
       "       'provincia', 'via_acces', 'nota_acces', 'ordre_assignacio',\n",
       "       'orientacio', 'aspectes_eleccio', 'any_qualificacio',\n",
       "       'convocatoria_qualificacio', 'treball_remunerat', 'estudis_pare',\n",
       "       'estudis_mare', 'ocupacio_pare', 'ocupacio_mare',\n",
       "       'codi_centre_secundaria', 'any_acabament_secundaria',\n",
       "       'tipus_centre_secundaria', 'tipus_lloc_secundaria',\n",
       "       'codi_lloc_secundaria', 'estudis_universitaris',\n",
       "       'any_acces_primera_vegada_universitat', 'titulacio_nivell_assolit',\n",
       "       'modalitat_acces', 'codi_grau', 'pla', 'any_academic', 'assignatura',\n",
       "       'codi_assignatura', 'grup', 'tipus', 'curs', 'semestre', 'exhaurides',\n",
       "       'superada', 'nota_numerica', 'nota_alfa', 'edad',\n",
       "       'renta_media_disponible', 'diferencia_anys'],\n",
       "      dtype='object')"
      ]
     },
     "execution_count": 31,
     "metadata": {},
     "output_type": "execute_result"
    }
   ],
   "source": [
    "final_merge.columns"
   ]
  },
  {
   "cell_type": "code",
   "execution_count": 32,
   "id": "df0175a6",
   "metadata": {},
   "outputs": [],
   "source": [
    "#To work with the model we need only a few of this columns\n",
    "\n",
    "columns_to_drop = ['curs_preinscripcio','convocatoria','curs_matricula', 'data_naixement',\n",
    "                   'nacionalitat','pais', 'CP', 'poblacio', 'comarca','provincia',\n",
    "                   'any_qualificacio','codi_centre_secundaria','any_acabament_secundaria','tipus_lloc_secundaria', 'codi_lloc_secundaria',\n",
    "                   'estudis_universitaris','any_acces_primera_vegada_universitat', 'titulacio_nivell_assolit','modalitat_acces',\n",
    "                    'codi_grau', 'pla','any_academic',\n",
    "                   'codi_assignatura','tipus', 'curs', 'semestre', 'exhaurides','superada']\n",
    "\n",
    "final_merge = final_merge.drop(columns = columns_to_drop)"
   ]
  },
  {
   "cell_type": "markdown",
   "id": "cb70387a",
   "metadata": {},
   "source": [
    "----------------------------"
   ]
  },
  {
   "cell_type": "markdown",
   "id": "7b092260",
   "metadata": {},
   "source": [
    "### Encoding to try the model"
   ]
  },
  {
   "cell_type": "code",
   "execution_count": 33,
   "id": "02a1ec22",
   "metadata": {},
   "outputs": [],
   "source": [
    "def transform_features(df):\n",
    "    \n",
    "    #sexe\n",
    "    onehotencoder = preprocessing.OneHotEncoder()\n",
    "    df[[\"H\", \"D\"]] = onehotencoder.fit_transform(df[\"sexe\"].values.reshape(-1, 1)).toarray()\n",
    "    df.drop(columns=\"sexe\", inplace=True)\n",
    "\n",
    "    \n",
    "    #via_acces\n",
    "    df = pd.get_dummies(df, columns=[\"via_acces\"], prefix=[\"via_acces\"])\n",
    "    \n",
    "#     #tipus_centre_secundaria\n",
    "#     onehotencoder = preprocessing.OneHotEncoder()\n",
    "#     df[[\"batx_public\", \"batx_privat\", \"batx_concertat\"]] = onehotencoder.fit_transform(df[\"tipus_centre_secundaria\"].values.reshape(-1, 1)).toarray()\n",
    "#     df.drop(columns=\"tipus_centre_secundaria\", inplace=True)\n",
    "    \n",
    "    #convocatoria\n",
    "    onehotencoder = preprocessing.OneHotEncoder()\n",
    "    df[[\"juny\", \"setembre\",\"altres_convocatories\"]] = onehotencoder.fit_transform(df['convocatoria_qualificacio'].values.reshape(-1, 1)).toarray()\n",
    "    df.drop(columns=\"convocatoria_qualificacio\", inplace=True)\n",
    "    \n",
    "    #grup\n",
    "    onehotencoder = preprocessing.OneHotEncoder()\n",
    "    df[[\"mati\", \"tarda\"]] = onehotencoder.fit_transform(df[\"grup\"].values.reshape(-1, 1)).toarray()\n",
    "    df.drop(columns=\"grup\", inplace=True)\n",
    "    \n",
    "    return df"
   ]
  },
  {
   "cell_type": "code",
   "execution_count": 34,
   "id": "5e53b5b4",
   "metadata": {},
   "outputs": [],
   "source": [
    "final_merge = transform_features(final_merge)"
   ]
  },
  {
   "cell_type": "code",
   "execution_count": 35,
   "id": "1696fdc6",
   "metadata": {},
   "outputs": [
    {
     "data": {
      "text/plain": [
       "Index(['NIA', 'nota_acces', 'ordre_assignacio', 'orientacio',\n",
       "       'aspectes_eleccio', 'treball_remunerat', 'estudis_pare', 'estudis_mare',\n",
       "       'ocupacio_pare', 'ocupacio_mare', 'tipus_centre_secundaria',\n",
       "       'assignatura', 'nota_numerica', 'nota_alfa', 'edad',\n",
       "       'renta_media_disponible', 'diferencia_anys', 'H', 'D', 'via_acces_CFGS',\n",
       "       'via_acces_PAU', 'via_acces_altres_vies', 'juny', 'setembre',\n",
       "       'altres_convocatories', 'mati', 'tarda'],\n",
       "      dtype='object')"
      ]
     },
     "execution_count": 35,
     "metadata": {},
     "output_type": "execute_result"
    }
   ],
   "source": [
    "final_merge.columns"
   ]
  },
  {
   "cell_type": "code",
   "execution_count": 36,
   "id": "8d2b309d",
   "metadata": {},
   "outputs": [
    {
     "data": {
      "text/plain": [
       "27"
      ]
     },
     "execution_count": 36,
     "metadata": {},
     "output_type": "execute_result"
    }
   ],
   "source": [
    "final_merge.shape[1] #We have 27 variables for our model, will need to check this number every trial and error. "
   ]
  },
  {
   "cell_type": "code",
   "execution_count": 37,
   "id": "5db8675f",
   "metadata": {},
   "outputs": [],
   "source": [
    "order = ['NIA', 'nota_acces', 'ordre_assignacio', 'orientacio',\n",
    "       'aspectes_eleccio', 'estudis_pare', 'estudis_mare',\n",
    "       'ocupacio_pare', 'ocupacio_mare','edad','diferencia_anys', 'renta_media_disponible', 'tipus_centre_secundaria',\n",
    "         'H', 'D','via_acces_PAU', 'via_acces_CFGS','via_acces_altres_vies' , 'juny', 'setembre', 'altres_convocatories', 'mati','tarda', 'treball_remunerat',\n",
    "         'assignatura','nota_numerica', 'nota_alfa']\n",
    "final_merge = final_merge[order]"
   ]
  },
  {
   "cell_type": "code",
   "execution_count": null,
   "id": "9ecb31d4",
   "metadata": {},
   "outputs": [],
   "source": [
    "final_merge.to_csv('../data/processed/final_merge_model.csv',index=False)"
   ]
  },
  {
   "cell_type": "markdown",
   "id": "0790a252",
   "metadata": {},
   "source": [
    "### Features correlation"
   ]
  },
  {
   "cell_type": "code",
   "execution_count": null,
   "id": "de69cdc4",
   "metadata": {},
   "outputs": [],
   "source": [
    "#We will drop the NIA and will use only numeric variables to check the correlation matrix"
   ]
  },
  {
   "cell_type": "code",
   "execution_count": null,
   "id": "66cdc510",
   "metadata": {},
   "outputs": [],
   "source": [
    "numeric_variables = final_merge[['nota_acces', 'ordre_assignacio', 'orientacio',\n",
    "       'aspectes_eleccio', 'estudis_pare', 'estudis_mare',\n",
    "       'ocupacio_pare', 'ocupacio_mare','edad','diferencia_anys', 'renta_media_disponible', 'tipus_centre_secundaria',\n",
    "         'H', 'D','via_acces_PAU', 'via_acces_CFGS','via_acces_altres_vies' , 'juny', 'setembre', 'altres_convocatories', 'mati','tarda', 'treball_remunerat',\n",
    "         'nota_numerica']]"
   ]
  },
  {
   "cell_type": "code",
   "execution_count": null,
   "id": "9369d2c3",
   "metadata": {},
   "outputs": [],
   "source": [
    "correlation = check.groupby('NIA').agg('nota_numerica')\n",
    "correlation"
   ]
  },
  {
   "cell_type": "code",
   "execution_count": null,
   "id": "2942f60e",
   "metadata": {},
   "outputs": [],
   "source": [
    "def heatmap_notes ():\n",
    "    plt.figure(figsize=(25, 10))\n",
    "    mask = np.triu(np.ones_like(numeric_variables.corr()), k=0)\n",
    "    sns.heatmap(numeric_variables.corr(), annot=True, cmap='crest', linewidths=0.5, mask=mask)\n",
    "    plt.title(\"Correlation grade variables\")\n",
    "    plt.show()  # Add this line to actually display the heatmap\n",
    "\n",
    "# Call the function\n",
    "heatmap_notes()"
   ]
  },
  {
   "cell_type": "code",
   "execution_count": null,
   "id": "29237bd0",
   "metadata": {
    "scrolled": true
   },
   "outputs": [],
   "source": [
    "calculus = final_merge[final_merge['assignatura']=='Calc']\n"
   ]
  },
  {
   "cell_type": "code",
   "execution_count": null,
   "id": "38ae4936",
   "metadata": {},
   "outputs": [],
   "source": [
    "calculus.columns"
   ]
  },
  {
   "cell_type": "code",
   "execution_count": null,
   "id": "1a1dee6d",
   "metadata": {},
   "outputs": [],
   "source": [
    "columns_to_drop = ['NIA','assignatura', 'nota_alfa']\n",
    "calculus = calculus.drop(columns=columns_to_drop)"
   ]
  },
  {
   "cell_type": "code",
   "execution_count": null,
   "id": "8aef84e8",
   "metadata": {},
   "outputs": [],
   "source": [
    "\n",
    "def heatmap_notes ():\n",
    "    plt.figure(figsize=(25, 10))\n",
    "    mask = np.triu(np.ones_like(calculus.corr()), k=0)\n",
    "    sns.heatmap(calculus.corr(), annot=True, cmap='crest', linewidths=0.5, mask=mask)\n",
    "    plt.title(\"Correlation grade variables\")\n",
    "    plt.show()  # Add this line to actually display the heatmap\n",
    "\n",
    "# Call the function\n",
    "heatmap_notes()"
   ]
  },
  {
   "cell_type": "markdown",
   "id": "03346023",
   "metadata": {},
   "source": [
    "## Preparation for classification model"
   ]
  },
  {
   "cell_type": "code",
   "execution_count": null,
   "id": "170f6a59",
   "metadata": {},
   "outputs": [],
   "source": [
    "final_merge_students['nota_alfa'].value_counts()"
   ]
  },
  {
   "cell_type": "code",
   "execution_count": null,
   "id": "129d4240",
   "metadata": {},
   "outputs": [],
   "source": [
    "# #We try making nota alfa PASS / NO PASS and then categories with a ranking and models performed similar.\n",
    "# #For this reason we opt for the one that will give us more information (From Matricula to Not presented)\n",
    "# new_dict_notaalfa = {\n",
    "#     'SS' : 1,\n",
    "#     'AP' : 2,\n",
    "#     'NT' : 3,\n",
    "#     'SB' : 4,\n",
    "#     'M' : 5,\n",
    "#     'NP' : 0,\n",
    "#     'NV' : 0,\n",
    "#     'CO':0}\n",
    "\n",
    "# final_merge[\"nota_alfa\"] = final_merge[\"nota_alfa\"].replace(new_dict_notaalfa)"
   ]
  },
  {
   "cell_type": "code",
   "execution_count": 38,
   "id": "09178eca",
   "metadata": {},
   "outputs": [],
   "source": [
    "new_dict_notaalfa = {\n",
    "    'SS' : 0,\n",
    "    'AP' : 1,\n",
    "    'NT' : 1,\n",
    "    'SB' : 1,\n",
    "    'M' : 1,\n",
    "    'NP' : 0,\n",
    "    'NV' : 0,\n",
    "    'CO':0}\n",
    "\n",
    "final_merge[\"nota_alfa\"] = final_merge[\"nota_alfa\"].replace(new_dict_notaalfa)"
   ]
  },
  {
   "cell_type": "code",
   "execution_count": 39,
   "id": "83ac0976",
   "metadata": {},
   "outputs": [
    {
     "data": {
      "text/plain": [
       "nota_alfa\n",
       "1    6939\n",
       "0    2933\n",
       "Name: count, dtype: int64"
      ]
     },
     "execution_count": 39,
     "metadata": {},
     "output_type": "execute_result"
    }
   ],
   "source": [
    "final_merge[\"nota_alfa\"].value_counts()"
   ]
  },
  {
   "cell_type": "code",
   "execution_count": null,
   "id": "daf2a9f2",
   "metadata": {},
   "outputs": [],
   "source": [
    "final_merge.to_csv('../data/processed/final_merge_nota_alfa.csv',index=False)"
   ]
  },
  {
   "cell_type": "code",
   "execution_count": 40,
   "id": "0b9cef4b",
   "metadata": {},
   "outputs": [],
   "source": [
    "final_merge.to_csv('../data/processed/final_merge_nota_alfa_binary.csv',index=False)"
   ]
  },
  {
   "cell_type": "code",
   "execution_count": null,
   "id": "27e4ac2d",
   "metadata": {},
   "outputs": [],
   "source": [
    "final_merge.columns"
   ]
  },
  {
   "cell_type": "code",
   "execution_count": null,
   "id": "b9904984",
   "metadata": {},
   "outputs": [],
   "source": [
    "final_merge['nota_alfa'].value_counts()"
   ]
  },
  {
   "cell_type": "code",
   "execution_count": null,
   "id": "f2b59476",
   "metadata": {},
   "outputs": [],
   "source": []
  }
 ],
 "metadata": {
  "kernelspec": {
   "display_name": "ironhack",
   "language": "python",
   "name": "ironhack"
  },
  "language_info": {
   "codemirror_mode": {
    "name": "ipython",
    "version": 3
   },
   "file_extension": ".py",
   "mimetype": "text/x-python",
   "name": "python",
   "nbconvert_exporter": "python",
   "pygments_lexer": "ipython3",
   "version": "3.11.5"
  }
 },
 "nbformat": 4,
 "nbformat_minor": 5
}
