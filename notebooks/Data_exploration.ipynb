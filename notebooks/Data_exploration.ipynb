{
 "cells": [
  {
   "cell_type": "markdown",
   "metadata": {},
   "source": [
    "# Data exploration"
   ]
  },
  {
   "cell_type": "markdown",
   "metadata": {},
   "source": [
    "In this notebook we explore the raw data consisting on 4 excel files: \n",
    "- Preinscripció.xlsl\n",
    "- Matricules.xlsl\n",
    "- Notes.xlsl\n",
    "- Titulacions.xlsl"
   ]
  },
  {
   "cell_type": "code",
   "execution_count": 1,
   "metadata": {},
   "outputs": [],
   "source": [
    "import pandas as pd\n",
    "import re"
   ]
  },
  {
   "cell_type": "markdown",
   "metadata": {},
   "source": [
    "## Preinscripció"
   ]
  },
  {
   "cell_type": "code",
   "execution_count": 2,
   "metadata": {},
   "outputs": [],
   "source": [
    "file_path = '../data/raw/Preinscripció.xlsx'\n",
    "preinscripcions_df = pd.read_excel(file_path)"
   ]
  },
  {
   "cell_type": "code",
   "execution_count": 3,
   "metadata": {},
   "outputs": [
    {
     "data": {
      "text/plain": [
       "(2280, 77)"
      ]
     },
     "execution_count": 3,
     "metadata": {},
     "output_type": "execute_result"
    }
   ],
   "source": [
    "preinscripcions_df.shape"
   ]
  },
  {
   "cell_type": "code",
   "execution_count": 4,
   "metadata": {},
   "outputs": [
    {
     "data": {
      "text/html": [
       "<div>\n",
       "<style scoped>\n",
       "    .dataframe tbody tr th:only-of-type {\n",
       "        vertical-align: middle;\n",
       "    }\n",
       "\n",
       "    .dataframe tbody tr th {\n",
       "        vertical-align: top;\n",
       "    }\n",
       "\n",
       "    .dataframe thead th {\n",
       "        text-align: right;\n",
       "    }\n",
       "</style>\n",
       "<table border=\"1\" class=\"dataframe\">\n",
       "  <thead>\n",
       "    <tr style=\"text-align: right;\">\n",
       "      <th></th>\n",
       "      <th>Llista</th>\n",
       "      <th>Curs</th>\n",
       "      <th>Convocatoria</th>\n",
       "      <th>DNI</th>\n",
       "      <th>CodiCentreSecundaria</th>\n",
       "      <th>Nacionalitat</th>\n",
       "      <th>Pais</th>\n",
       "      <th>CP</th>\n",
       "      <th>Poblacio</th>\n",
       "      <th>Comarca</th>\n",
       "      <th>...</th>\n",
       "      <th>FrancesCentreExtern</th>\n",
       "      <th>AltresIdiomes</th>\n",
       "      <th>AltresComprensioEscrita</th>\n",
       "      <th>AltresComprensioOral</th>\n",
       "      <th>AltresExpresioEscrita</th>\n",
       "      <th>AltresExpresioOral</th>\n",
       "      <th>AltresBatxillerat</th>\n",
       "      <th>AltresCentreExtern</th>\n",
       "      <th>NoIdiomesCentreExtern</th>\n",
       "      <th>OrdinadorDomicili</th>\n",
       "    </tr>\n",
       "  </thead>\n",
       "  <tbody>\n",
       "    <tr>\n",
       "      <th>695</th>\n",
       "      <td>J01</td>\n",
       "      <td>2017</td>\n",
       "      <td>J</td>\n",
       "      <td>9482817S</td>\n",
       "      <td>8024881.0</td>\n",
       "      <td>ESP</td>\n",
       "      <td>ESP</td>\n",
       "      <td>8211</td>\n",
       "      <td>Castellar del Vallès</td>\n",
       "      <td>40.0</td>\n",
       "      <td>...</td>\n",
       "      <td>NaN</td>\n",
       "      <td>NaN</td>\n",
       "      <td>NaN</td>\n",
       "      <td>NaN</td>\n",
       "      <td>NaN</td>\n",
       "      <td>NaN</td>\n",
       "      <td>NaN</td>\n",
       "      <td>NaN</td>\n",
       "      <td>NaN</td>\n",
       "      <td>1.0</td>\n",
       "    </tr>\n",
       "  </tbody>\n",
       "</table>\n",
       "<p>1 rows × 77 columns</p>\n",
       "</div>"
      ],
      "text/plain": [
       "    Llista  Curs Convocatoria       DNI  CodiCentreSecundaria Nacionalitat  \\\n",
       "695    J01  2017            J  9482817S             8024881.0          ESP   \n",
       "\n",
       "    Pais    CP              Poblacio  Comarca  ...  FrancesCentreExtern  \\\n",
       "695  ESP  8211  Castellar del Vallès     40.0  ...                  NaN   \n",
       "\n",
       "    AltresIdiomes AltresComprensioEscrita AltresComprensioOral  \\\n",
       "695           NaN                     NaN                  NaN   \n",
       "\n",
       "     AltresExpresioEscrita  AltresExpresioOral AltresBatxillerat  \\\n",
       "695                    NaN                 NaN               NaN   \n",
       "\n",
       "     AltresCentreExtern  NoIdiomesCentreExtern  OrdinadorDomicili  \n",
       "695                 NaN                    NaN                1.0  \n",
       "\n",
       "[1 rows x 77 columns]"
      ]
     },
     "execution_count": 4,
     "metadata": {},
     "output_type": "execute_result"
    }
   ],
   "source": [
    "preinscripcions_df.sample()"
   ]
  },
  {
   "cell_type": "code",
   "execution_count": 5,
   "metadata": {},
   "outputs": [
    {
     "data": {
      "text/plain": [
       "Index(['Llista', 'Curs', 'Convocatoria', 'DNI', 'CodiCentreSecundaria',\n",
       "       'Nacionalitat', 'Pais', 'CP', 'Poblacio', 'Comarca', 'Provincia',\n",
       "       'AutoritzacioEnvInfAccesUniv', 'Sexe', 'DataNaixement',\n",
       "       'UniversitatProcedenciaPAU', 'ViaAcces', 'OpcioCOU', 'NotaAcces',\n",
       "       'Pref_1', 'Pref_2', 'Pref_3', 'Pref_4', 'Pref_5', 'Pref_6', 'Pref_7',\n",
       "       'Pref_8', 'CentreAsignat', 'OrdreAssignacio', 'JustificantTrasllat',\n",
       "       'AnyQualificacio', 'ConvocatoriaQualificacio', 'Concordancia',\n",
       "       'EstudisPare', 'EstudisMare', 'OcupacioPare', 'OcupacioMare',\n",
       "       'TreballRemunerat', 'Orientacio', 'AspectesEleccio', 'Altres',\n",
       "       'AnyAcabamentSecundaria', 'TipusCentreSecundaria',\n",
       "       'TipusLlocSecundaria', 'CodiLlocSecundaria', 'EstudisUniversitaris',\n",
       "       'AnyAccesPrimeraVegadaUniversitat', 'TitulacioNivellAssolit',\n",
       "       'ModalitatAcces', 'CatalaComprensioEscrita', 'CatalaComprensioOral',\n",
       "       'CatalaExpresioEscrita', 'CatalaExpresioOral',\n",
       "       'CastellaComprensioEscrita', 'CastellaComprensioOral',\n",
       "       'CastellaExpresioEscrita', 'CastellaExpresioOral',\n",
       "       'AnglesComprensioEscrita', 'AnglesComprensioOral',\n",
       "       'AnglesExpresioEscrita', 'AnglesExpresioOral', 'AnglesBatxillerat',\n",
       "       'AnglesCentreExtern', 'FrancesComprensioEscrita',\n",
       "       'FrancesComprensioOral', 'FrancesExpresioEscrita',\n",
       "       'FrancesExpresioOral', 'FrancesBatxillerat', 'FrancesCentreExtern',\n",
       "       'AltresIdiomes', 'AltresComprensioEscrita', 'AltresComprensioOral',\n",
       "       'AltresExpresioEscrita', 'AltresExpresioOral', 'AltresBatxillerat',\n",
       "       'AltresCentreExtern', 'NoIdiomesCentreExtern', 'OrdinadorDomicili'],\n",
       "      dtype='object')"
      ]
     },
     "execution_count": 5,
     "metadata": {},
     "output_type": "execute_result"
    }
   ],
   "source": [
    "preinscripcions_df.columns"
   ]
  },
  {
   "cell_type": "code",
   "execution_count": 6,
   "metadata": {},
   "outputs": [],
   "source": [
    "#Dropping variables because of irrelevancy: Llista, AutoritzacioEnvInfAccesUniv, UniversitatProcedenciaPAU, \n",
    "        #Prefs (Keeping OrdreAssignacio)\n",
    "#Dropping variables because of Naans: OpcioCOU, JustificantTrasllat, Altres, OrdinadorDomicili\n",
    "\n",
    "columns_to_drop = ['Llista', 'AutoritzacioEnvInfAccesUniv', 'UniversitatProcedenciaPAU', \n",
    "                   'Pref_1','Pref_2', 'Pref_3', 'Pref_4', 'Pref_5', 'Pref_6', 'Pref_7', 'Pref_8',\n",
    "                   'OpcioCOU', 'JustificantTrasllat', 'Altres', 'OrdinadorDomicili', 'Concordancia']\n",
    "\n",
    "preinscripcions_df = preinscripcions_df.drop(columns=columns_to_drop)"
   ]
  },
  {
   "cell_type": "code",
   "execution_count": 7,
   "metadata": {},
   "outputs": [],
   "source": [
    "new_columns = {col: re.sub(r'(?<!^)(?=[A-Z])', '_', col).lower() for col in preinscripcions_df.columns}\n",
    "preinscripcions_df = preinscripcions_df.rename(columns=new_columns)"
   ]
  },
  {
   "cell_type": "code",
   "execution_count": 8,
   "metadata": {},
   "outputs": [],
   "source": [
    "#'Centreassignat' is the degree (grau) that each student has been assigned to\n",
    "# Curs is the year they appear on the preinscription list for that specific degree\n",
    "# Changing the name for future joins\n",
    "\n",
    "preinscripcions_df.rename(columns={'curs':'curs_preinscripcio',\n",
    "                                   'd_n_i':'DNI',\n",
    "                                   'c_p':'CP',\n",
    "                                   'centre_asignat': 'codi_grau'}, inplace=True)\n"
   ]
  },
  {
   "cell_type": "code",
   "execution_count": 31,
   "metadata": {
    "scrolled": true
   },
   "outputs": [],
   "source": [
    "# Dividing the preinscriptions_df to make it more manageable --> Creation of a df for language variables with DNI and grau \n",
    "# So we can merge them together if needed in the future\n",
    "language_columns = ['DNI','codi_grau','catala_comprensio_escrita', 'catala_comprensio_oral',\n",
    "       'catala_expresio_escrita', 'catala_expresio_oral',\n",
    "       'castella_comprensio_escrita', 'castella_comprensio_oral',\n",
    "       'castella_expresio_escrita', 'castella_expresio_oral',\n",
    "       'angles_comprensio_escrita', 'angles_comprensio_oral',\n",
    "       'angles_expresio_escrita', 'angles_expresio_oral', 'angles_batxillerat',\n",
    "       'angles_centre_extern', 'frances_comprensio_escrita',\n",
    "       'frances_comprensio_oral', 'frances_expresio_escrita',\n",
    "       'frances_expresio_oral', 'frances_batxillerat', 'frances_centre_extern',\n",
    "       'altres_idiomes', 'altres_comprensio_escrita', 'altres_comprensio_oral',\n",
    "       'altres_expresio_escrita', 'altres_expresio_oral', 'altres_batxillerat',\n",
    "       'altres_centre_extern', 'no_idiomes_centre_extern']\n",
    "\n",
    "languages_df = preinscripcions_df[language_columns]"
   ]
  },
  {
   "cell_type": "code",
   "execution_count": 32,
   "metadata": {},
   "outputs": [],
   "source": [
    "#Dropping language columns from the preinscriptions df\n",
    "language_columns_to_drop = ['catala_comprensio_escrita', 'catala_comprensio_oral',\n",
    "       'catala_expresio_escrita', 'catala_expresio_oral',\n",
    "       'castella_comprensio_escrita', 'castella_comprensio_oral',\n",
    "       'castella_expresio_escrita', 'castella_expresio_oral',\n",
    "       'angles_comprensio_escrita', 'angles_comprensio_oral',\n",
    "       'angles_expresio_escrita', 'angles_expresio_oral', 'angles_batxillerat',\n",
    "       'angles_centre_extern', 'frances_comprensio_escrita',\n",
    "       'frances_comprensio_oral', 'frances_expresio_escrita',\n",
    "       'frances_expresio_oral', 'frances_batxillerat', 'frances_centre_extern',\n",
    "       'altres_idiomes', 'altres_comprensio_escrita', 'altres_comprensio_oral',\n",
    "       'altres_expresio_escrita', 'altres_expresio_oral', 'altres_batxillerat',\n",
    "       'altres_centre_extern', 'no_idiomes_centre_extern']\n",
    "preinscripcions_df = preinscripcions_df.drop(columns=language_columns_to_drop)"
   ]
  },
  {
   "cell_type": "code",
   "execution_count": 34,
   "metadata": {},
   "outputs": [],
   "source": [
    "column_order = ['DNI','curs_preinscripcio','convocatoria', \n",
    "       'nacionalitat', 'pais', 'CP', 'poblacio', 'comarca', 'provincia', 'sexe', 'data_naixement',\n",
    "        'ordre_assignacio', 'codi_grau','via_acces', 'nota_acces', 'any_qualificacio', 'convocatoria_qualificacio',\n",
    "       'estudis_pare', 'estudis_mare', 'ocupacio_pare', 'ocupacio_mare',\n",
    "       'treball_remunerat', 'orientacio', 'aspectes_eleccio', \n",
    "       'codi_centre_secundaria','any_acabament_secundaria', 'tipus_centre_secundaria',\n",
    "       'tipus_lloc_secundaria', 'codi_lloc_secundaria',\n",
    "       'estudis_universitaris', 'any_acces_primera_vegada_universitat','titulacio_nivell_assolit', 'modalitat_acces']\n",
    "\n",
    "preinscripcions_df = preinscripcions_df[column_order]"
   ]
  },
  {
   "cell_type": "code",
   "execution_count": 35,
   "metadata": {},
   "outputs": [
    {
     "data": {
      "text/plain": [
       "DNI                                        0\n",
       "curs_preinscripcio                         0\n",
       "convocatoria                               0\n",
       "nacionalitat                               0\n",
       "pais                                       0\n",
       "CP                                         0\n",
       "poblacio                                   0\n",
       "comarca                                  164\n",
       "provincia                                 35\n",
       "sexe                                       0\n",
       "data_naixement                             0\n",
       "ordre_assignacio                           0\n",
       "codi_grau                                  0\n",
       "via_acces                                  0\n",
       "nota_acces                                 0\n",
       "any_qualificacio                           0\n",
       "convocatoria_qualificacio                 14\n",
       "estudis_pare                               0\n",
       "estudis_mare                               0\n",
       "ocupacio_pare                              0\n",
       "ocupacio_mare                              0\n",
       "treball_remunerat                          0\n",
       "orientacio                                 0\n",
       "aspectes_eleccio                           0\n",
       "codi_centre_secundaria                   776\n",
       "any_acabament_secundaria                 399\n",
       "tipus_centre_secundaria                  399\n",
       "tipus_lloc_secundaria                    399\n",
       "codi_lloc_secundaria                     401\n",
       "estudis_universitaris                      0\n",
       "any_acces_primera_vegada_universitat    1729\n",
       "titulacio_nivell_assolit                1729\n",
       "modalitat_acces                         1729\n",
       "dtype: int64"
      ]
     },
     "execution_count": 35,
     "metadata": {},
     "output_type": "execute_result"
    }
   ],
   "source": [
    "preinscripcions_df.isnull().sum()"
   ]
  },
  {
   "cell_type": "code",
   "execution_count": 36,
   "metadata": {},
   "outputs": [
    {
     "data": {
      "text/plain": [
       "convocatoria\n",
       "J    1817\n",
       "S     392\n",
       "F      40\n",
       "L      29\n",
       "M       2\n",
       "Name: count, dtype: int64"
      ]
     },
     "execution_count": 36,
     "metadata": {},
     "output_type": "execute_result"
    }
   ],
   "source": [
    "preinscripcions_df['convocatoria'].value_counts()"
   ]
  },
  {
   "cell_type": "code",
   "execution_count": 38,
   "metadata": {},
   "outputs": [],
   "source": [
    "#Saving the clean df into the clean data folder\n",
    "preinscripcions_df.to_csv('../data/processed/preinscripcions_df.csv', index=False)"
   ]
  },
  {
   "cell_type": "markdown",
   "metadata": {},
   "source": [
    "## Matricules"
   ]
  },
  {
   "cell_type": "code",
   "execution_count": 102,
   "metadata": {},
   "outputs": [],
   "source": [
    "file_path = '../data/raw/Matrícules.xlsx'\n",
    "matricules_df = pd.read_excel(file_path)"
   ]
  },
  {
   "cell_type": "code",
   "execution_count": 103,
   "metadata": {},
   "outputs": [
    {
     "data": {
      "text/plain": [
       "(7679, 5)"
      ]
     },
     "execution_count": 103,
     "metadata": {},
     "output_type": "execute_result"
    }
   ],
   "source": [
    "matricules_df.shape"
   ]
  },
  {
   "cell_type": "code",
   "execution_count": 104,
   "metadata": {},
   "outputs": [],
   "source": [
    "matricules_df = matricules_df.drop(columns='NIP')\n",
    "matricules_df.rename(columns={'Curs':'curs_matricula',\n",
    "                             'Pla':'pla'}, inplace=True)"
   ]
  },
  {
   "cell_type": "code",
   "execution_count": 105,
   "metadata": {},
   "outputs": [
    {
     "data": {
      "text/plain": [
       "DNI\n",
       "1959497A    24\n",
       "6041427E    22\n",
       "5541571A    21\n",
       "0195308N    21\n",
       "8390059A    21\n",
       "            ..\n",
       "4420667A     1\n",
       "4379223L     1\n",
       "4377297A     1\n",
       "4366897E     1\n",
       "HCCLPJRR     1\n",
       "Name: count, Length: 2252, dtype: int64"
      ]
     },
     "execution_count": 105,
     "metadata": {},
     "output_type": "execute_result"
    }
   ],
   "source": [
    "matricules_df['DNI'].value_counts()"
   ]
  },
  {
   "cell_type": "code",
   "execution_count": 106,
   "metadata": {},
   "outputs": [],
   "source": [
    "#Saving the clean df into the clean data folder\n",
    "matricules_df.to_csv('../data/processed/matricules_df.csv', index=False)"
   ]
  },
  {
   "cell_type": "markdown",
   "metadata": {},
   "source": [
    "## Notes"
   ]
  },
  {
   "cell_type": "code",
   "execution_count": 49,
   "metadata": {},
   "outputs": [],
   "source": [
    "file_path = '../data/raw/Notes.xlsx'\n",
    "notes_df = pd.read_excel(file_path)"
   ]
  },
  {
   "cell_type": "code",
   "execution_count": 50,
   "metadata": {},
   "outputs": [
    {
     "data": {
      "text/plain": [
       "(41327, 15)"
      ]
     },
     "execution_count": 50,
     "metadata": {},
     "output_type": "execute_result"
    }
   ],
   "source": [
    "notes_df.shape"
   ]
  },
  {
   "cell_type": "code",
   "execution_count": 51,
   "metadata": {
    "scrolled": true
   },
   "outputs": [
    {
     "data": {
      "text/html": [
       "<div>\n",
       "<style scoped>\n",
       "    .dataframe tbody tr th:only-of-type {\n",
       "        vertical-align: middle;\n",
       "    }\n",
       "\n",
       "    .dataframe tbody tr th {\n",
       "        vertical-align: top;\n",
       "    }\n",
       "\n",
       "    .dataframe thead th {\n",
       "        text-align: right;\n",
       "    }\n",
       "</style>\n",
       "<table border=\"1\" class=\"dataframe\">\n",
       "  <thead>\n",
       "    <tr style=\"text-align: right;\">\n",
       "      <th></th>\n",
       "      <th>ANO_ACADEMICO</th>\n",
       "      <th>ASSIG</th>\n",
       "      <th>CODIASS</th>\n",
       "      <th>GRUP</th>\n",
       "      <th>NIA</th>\n",
       "      <th>NIP</th>\n",
       "      <th>PLA</th>\n",
       "      <th>EXTRA</th>\n",
       "      <th>TIPUS</th>\n",
       "      <th>CURS</th>\n",
       "      <th>SEM</th>\n",
       "      <th>EXHAURIDES</th>\n",
       "      <th>SUPERADA</th>\n",
       "      <th>NOTANUMERICAACTA</th>\n",
       "      <th>NOTAALFAACTA</th>\n",
       "    </tr>\n",
       "  </thead>\n",
       "  <tbody>\n",
       "    <tr>\n",
       "      <th>1247</th>\n",
       "      <td>2014</td>\n",
       "      <td>CTMat</td>\n",
       "      <td>200150</td>\n",
       "      <td>401</td>\n",
       "      <td>1340070</td>\n",
       "      <td>356269</td>\n",
       "      <td>878</td>\n",
       "      <td>N</td>\n",
       "      <td>O</td>\n",
       "      <td>2</td>\n",
       "      <td>2</td>\n",
       "      <td>2</td>\n",
       "      <td>S</td>\n",
       "      <td>3.4</td>\n",
       "      <td>SS</td>\n",
       "    </tr>\n",
       "  </tbody>\n",
       "</table>\n",
       "</div>"
      ],
      "text/plain": [
       "      ANO_ACADEMICO  ASSIG  CODIASS  GRUP      NIA     NIP  PLA EXTRA TIPUS  \\\n",
       "1247           2014  CTMat   200150   401  1340070  356269  878     N     O   \n",
       "\n",
       "      CURS  SEM  EXHAURIDES SUPERADA  NOTANUMERICAACTA NOTAALFAACTA  \n",
       "1247     2    2           2        S               3.4           SS  "
      ]
     },
     "execution_count": 51,
     "metadata": {},
     "output_type": "execute_result"
    }
   ],
   "source": [
    "notes_df.sample()"
   ]
  },
  {
   "cell_type": "code",
   "execution_count": 52,
   "metadata": {},
   "outputs": [],
   "source": [
    "notes_df = notes_df.drop(columns='EXTRA')\n",
    "notes_df = notes_df.drop(columns='NIP')"
   ]
  },
  {
   "cell_type": "code",
   "execution_count": 53,
   "metadata": {},
   "outputs": [],
   "source": [
    "notes_df.columns = notes_df.columns.map(lambda x: x.lower())"
   ]
  },
  {
   "cell_type": "code",
   "execution_count": 54,
   "metadata": {},
   "outputs": [
    {
     "data": {
      "text/plain": [
       "Index(['ano_academico', 'assig', 'codiass', 'grup', 'nia', 'pla', 'tipus',\n",
       "       'curs', 'sem', 'exhaurides', 'superada', 'notanumericaacta',\n",
       "       'notaalfaacta'],\n",
       "      dtype='object')"
      ]
     },
     "execution_count": 54,
     "metadata": {},
     "output_type": "execute_result"
    }
   ],
   "source": [
    "notes_df.columns"
   ]
  },
  {
   "cell_type": "code",
   "execution_count": 55,
   "metadata": {},
   "outputs": [],
   "source": [
    "notes_df.rename(columns={'ano_academico':'any_academic',\n",
    "                             'assig':'assignatura',\n",
    "                             'codiass':'codi_assignatura',\n",
    "                             'nia': 'NIA',\n",
    "                             'sem': 'semestre',\n",
    "                             'notanumericaacta': 'nota_numerica',\n",
    "                             'notaalfaacta': 'nota_alfa'}, inplace=True)"
   ]
  },
  {
   "cell_type": "code",
   "execution_count": 56,
   "metadata": {},
   "outputs": [
    {
     "data": {
      "text/html": [
       "<div>\n",
       "<style scoped>\n",
       "    .dataframe tbody tr th:only-of-type {\n",
       "        vertical-align: middle;\n",
       "    }\n",
       "\n",
       "    .dataframe tbody tr th {\n",
       "        vertical-align: top;\n",
       "    }\n",
       "\n",
       "    .dataframe thead th {\n",
       "        text-align: right;\n",
       "    }\n",
       "</style>\n",
       "<table border=\"1\" class=\"dataframe\">\n",
       "  <thead>\n",
       "    <tr style=\"text-align: right;\">\n",
       "      <th></th>\n",
       "      <th>any_academic</th>\n",
       "      <th>assignatura</th>\n",
       "      <th>codi_assignatura</th>\n",
       "      <th>grup</th>\n",
       "      <th>NIA</th>\n",
       "      <th>pla</th>\n",
       "      <th>tipus</th>\n",
       "      <th>curs</th>\n",
       "      <th>semestre</th>\n",
       "      <th>exhaurides</th>\n",
       "      <th>superada</th>\n",
       "      <th>nota_numerica</th>\n",
       "      <th>nota_alfa</th>\n",
       "    </tr>\n",
       "  </thead>\n",
       "  <tbody>\n",
       "    <tr>\n",
       "      <th>38780</th>\n",
       "      <td>2022</td>\n",
       "      <td>Antr</td>\n",
       "      <td>104944</td>\n",
       "      <td>601</td>\n",
       "      <td>1676833</td>\n",
       "      <td>1466</td>\n",
       "      <td>O</td>\n",
       "      <td>1</td>\n",
       "      <td>1</td>\n",
       "      <td>1</td>\n",
       "      <td>S</td>\n",
       "      <td>6.1</td>\n",
       "      <td>AP</td>\n",
       "    </tr>\n",
       "  </tbody>\n",
       "</table>\n",
       "</div>"
      ],
      "text/plain": [
       "       any_academic assignatura  codi_assignatura  grup      NIA   pla tipus  \\\n",
       "38780          2022        Antr            104944   601  1676833  1466     O   \n",
       "\n",
       "       curs  semestre  exhaurides superada  nota_numerica nota_alfa  \n",
       "38780     1         1           1        S            6.1        AP  "
      ]
     },
     "execution_count": 56,
     "metadata": {},
     "output_type": "execute_result"
    }
   ],
   "source": [
    "notes_df.sample()"
   ]
  },
  {
   "cell_type": "code",
   "execution_count": 57,
   "metadata": {},
   "outputs": [],
   "source": [
    "#Saving the clean df into the clean data folder\n",
    "notes_df.to_csv('../data/processed/notes_df.csv', index=False)"
   ]
  },
  {
   "cell_type": "markdown",
   "metadata": {},
   "source": [
    "## Titulacions"
   ]
  },
  {
   "cell_type": "code",
   "execution_count": 85,
   "metadata": {},
   "outputs": [],
   "source": [
    "file_path = '../data/raw/Titulacions.xlsx'\n",
    "titulacions_df = pd.read_excel(file_path)"
   ]
  },
  {
   "cell_type": "code",
   "execution_count": 87,
   "metadata": {},
   "outputs": [],
   "source": [
    "titulacions_df = titulacions_df.drop(columns='Estudi')"
   ]
  },
  {
   "cell_type": "code",
   "execution_count": 89,
   "metadata": {},
   "outputs": [],
   "source": [
    "titulacions_df.columns = titulacions_df.columns.str.replace(' ', '_').str.lower()"
   ]
  },
  {
   "cell_type": "code",
   "execution_count": 90,
   "metadata": {},
   "outputs": [],
   "source": [
    "titulacions_df.rename(columns={'preinscripció':'codi_grau'}, inplace=True)"
   ]
  },
  {
   "cell_type": "code",
   "execution_count": 91,
   "metadata": {},
   "outputs": [],
   "source": [
    "#We will delete those rows with Naan values on grau because we are only interested in keeping university degrees\n",
    "#(not masters, exchanges...)\n",
    "titulacions_df = titulacions_df.dropna(subset=['codi_grau'])"
   ]
  },
  {
   "cell_type": "code",
   "execution_count": 92,
   "metadata": {},
   "outputs": [],
   "source": [
    "titulacions_df = titulacions_df.astype({'codi_grau':'int'})"
   ]
  },
  {
   "cell_type": "code",
   "execution_count": 93,
   "metadata": {},
   "outputs": [],
   "source": [
    "#Saving the clean df into the clean data folder\n",
    "titulacions_df.to_csv('../data/processed/titulacions_df.csv', index=False )"
   ]
  }
 ],
 "metadata": {
  "kernelspec": {
   "display_name": "ironhack",
   "language": "python",
   "name": "ironhack"
  },
  "language_info": {
   "codemirror_mode": {
    "name": "ipython",
    "version": 3
   },
   "file_extension": ".py",
   "mimetype": "text/x-python",
   "name": "python",
   "nbconvert_exporter": "python",
   "pygments_lexer": "ipython3",
   "version": "3.11.5"
  }
 },
 "nbformat": 4,
 "nbformat_minor": 2
}
