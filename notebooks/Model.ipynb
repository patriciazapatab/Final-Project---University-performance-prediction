{
 "cells": [
  {
   "cell_type": "markdown",
   "id": "a31ecd44",
   "metadata": {},
   "source": [
    "# Modeling"
   ]
  },
  {
   "cell_type": "markdown",
   "id": "7addab16",
   "metadata": {},
   "source": [
    "We are going to be modeling students information to try predict their 'Calculus' grade the first time they take the subject."
   ]
  },
  {
   "cell_type": "code",
   "execution_count": 1,
   "id": "d9b72071",
   "metadata": {},
   "outputs": [],
   "source": [
    "#Libraries\n",
    "import pandas as pd\n",
    "import numpy as np\n",
    "\n",
    "import seaborn as sns\n",
    "import matplotlib.pyplot as plt\n",
    "import statsmodels.api as sm\n",
    "\n",
    "import os\n",
    "from sys import platform"
   ]
  },
  {
   "cell_type": "code",
   "execution_count": 2,
   "id": "6375cf8b",
   "metadata": {},
   "outputs": [],
   "source": [
    "#Linear models\n",
    "from sklearn.linear_model import LinearRegression\n",
    "from sklearn.linear_model import Ridge\n",
    "from sklearn.linear_model import Lasso\n",
    "from sklearn.linear_model import ElasticNet\n",
    "from sklearn.tree import DecisionTreeRegressor\n",
    "from sklearn.ensemble import RandomForestRegressor\n",
    "from sklearn.ensemble import GradientBoostingRegressor\n",
    "from sklearn.svm import SVR\n",
    "from sklearn.neighbors import KNeighborsRegressor\n",
    "from xgboost import XGBRegressor\n",
    "from lightgbm import LGBMRegressor\n",
    "from catboost import CatBoostRegressor"
   ]
  },
  {
   "cell_type": "code",
   "execution_count": 3,
   "id": "a4a2f8cd",
   "metadata": {},
   "outputs": [],
   "source": [
    "from sklearn.linear_model import LogisticRegression\n",
    "from sklearn.neighbors import KNeighborsClassifier\n",
    "from sklearn.tree import DecisionTreeClassifier\n",
    "from sklearn.ensemble import RandomForestClassifier, GradientBoostingClassifier\n",
    "from sklearn.svm import SVC\n",
    "from xgboost import XGBClassifier"
   ]
  },
  {
   "cell_type": "code",
   "execution_count": 4,
   "id": "3eae1d8a",
   "metadata": {},
   "outputs": [],
   "source": [
    "from sklearn import metrics\n",
    "from sklearn.metrics import mean_squared_error\n",
    "from sklearn.model_selection import train_test_split"
   ]
  },
  {
   "cell_type": "code",
   "execution_count": 5,
   "id": "bead0967",
   "metadata": {},
   "outputs": [],
   "source": [
    "import statsmodels.api as sm\n",
    "import numpy as np"
   ]
  },
  {
   "cell_type": "code",
   "execution_count": 6,
   "id": "ffb698fd",
   "metadata": {},
   "outputs": [],
   "source": [
    "df = pd.read_csv('../data/processed/final_merge_model.csv')"
   ]
  },
  {
   "cell_type": "code",
   "execution_count": 7,
   "id": "04e8568c",
   "metadata": {
    "scrolled": true
   },
   "outputs": [
    {
     "data": {
      "text/plain": [
       "assignatura\n",
       "Antr         977\n",
       "EMedi        975\n",
       "Calc         975\n",
       "Fis          965\n",
       "FisEl        946\n",
       "Mates        941\n",
       "Quim         936\n",
       "EGraf        869\n",
       "Inf          854\n",
       "Emp          774\n",
       "Estad         54\n",
       "FETF          45\n",
       "CTMat         41\n",
       "OTGP          40\n",
       "AMCI          37\n",
       "EtiPr         30\n",
       "ReMa          30\n",
       "TeoMM         28\n",
       "OrgEm         27\n",
       "SisEn         27\n",
       "EEcFi         24\n",
       "DTacO         22\n",
       "TCEE          20\n",
       "VBB           17\n",
       "TIC           17\n",
       "RegAu         16\n",
       "Etcn-MaqE     15\n",
       "TElEn         13\n",
       "SPrIn         11\n",
       "AutIn         10\n",
       "InfIn         10\n",
       "EnPo           9\n",
       "TeMec          9\n",
       "EnDiM          9\n",
       "TecEn          9\n",
       "InsEn          9\n",
       "LinEl          7\n",
       "IEMAT          7\n",
       "IEBT           6\n",
       "EPrFa          5\n",
       "MePr           5\n",
       "CEiER          5\n",
       "DEstO          4\n",
       "PTeIn          4\n",
       "GQual          4\n",
       "SiElP          4\n",
       "AEGra          4\n",
       "TECIn          3\n",
       "TecDE          3\n",
       "MecMC          3\n",
       "EngFT          2\n",
       "MMTer          2\n",
       "IdAng          2\n",
       "DisMM          2\n",
       "IdAle          2\n",
       "TCir           2\n",
       "MacrE          2\n",
       "MQG            1\n",
       "DEstE          1\n",
       "MQGA           1\n",
       "Name: count, dtype: int64"
      ]
     },
     "execution_count": 7,
     "metadata": {},
     "output_type": "execute_result"
    }
   ],
   "source": [
    "df['assignatura'].value_counts()"
   ]
  },
  {
   "cell_type": "code",
   "execution_count": 8,
   "id": "32d95de0",
   "metadata": {},
   "outputs": [],
   "source": [
    "df = df[df['assignatura'] == 'Calc']\n",
    "df = df.groupby('NIA').first().reset_index()"
   ]
  },
  {
   "cell_type": "code",
   "execution_count": 9,
   "id": "bf2678d3",
   "metadata": {},
   "outputs": [
    {
     "data": {
      "text/plain": [
       "(973, 27)"
      ]
     },
     "execution_count": 9,
     "metadata": {},
     "output_type": "execute_result"
    }
   ],
   "source": [
    "df.shape"
   ]
  },
  {
   "cell_type": "code",
   "execution_count": 10,
   "id": "f24dab6b",
   "metadata": {},
   "outputs": [
    {
     "data": {
      "text/plain": [
       "Index(['NIA', 'nota_acces', 'ordre_assignacio', 'orientacio',\n",
       "       'aspectes_eleccio', 'estudis_pare', 'estudis_mare', 'ocupacio_pare',\n",
       "       'ocupacio_mare', 'edad', 'diferencia_anys', 'renta_media_disponible',\n",
       "       'tipus_centre_secundaria', 'H', 'D', 'via_acces_PAU', 'via_acces_CFGS',\n",
       "       'via_acces_altres_vies', 'juny', 'setembre', 'altres_convocatories',\n",
       "       'mati', 'tarda', 'treball_remunerat', 'assignatura', 'nota_numerica',\n",
       "       'nota_alfa'],\n",
       "      dtype='object')"
      ]
     },
     "execution_count": 10,
     "metadata": {},
     "output_type": "execute_result"
    }
   ],
   "source": [
    "df.columns"
   ]
  },
  {
   "cell_type": "markdown",
   "id": "f23d2616",
   "metadata": {},
   "source": [
    "## Predicting numeric grade (Regression model)"
   ]
  },
  {
   "cell_type": "code",
   "execution_count": 11,
   "id": "ab9cf338",
   "metadata": {},
   "outputs": [
    {
     "data": {
      "text/plain": [
       "Index(['NIA', 'nota_acces', 'ordre_assignacio', 'orientacio',\n",
       "       'aspectes_eleccio', 'estudis_pare', 'estudis_mare', 'ocupacio_pare',\n",
       "       'ocupacio_mare', 'edad', 'diferencia_anys', 'renta_media_disponible',\n",
       "       'tipus_centre_secundaria', 'H', 'D', 'via_acces_PAU', 'via_acces_CFGS',\n",
       "       'via_acces_altres_vies', 'juny', 'setembre', 'altres_convocatories',\n",
       "       'mati', 'tarda', 'treball_remunerat', 'assignatura', 'nota_numerica',\n",
       "       'nota_alfa'],\n",
       "      dtype='object')"
      ]
     },
     "execution_count": 11,
     "metadata": {},
     "output_type": "execute_result"
    }
   ],
   "source": [
    "df.columns"
   ]
  },
  {
   "cell_type": "code",
   "execution_count": 12,
   "id": "4dfa3df2",
   "metadata": {},
   "outputs": [],
   "source": [
    "df_num = df[['nota_acces', 'ordre_assignacio', 'orientacio',\n",
    "       'aspectes_eleccio', 'estudis_pare', 'estudis_mare', 'ocupacio_pare',\n",
    "       'ocupacio_mare', 'edad', 'diferencia_anys', 'renta_media_disponible',\n",
    "       'tipus_centre_secundaria', 'H', 'D', 'via_acces_PAU', 'via_acces_CFGS',\n",
    "       'via_acces_altres_vies', 'juny', 'setembre', 'altres_convocatories',\n",
    "       'mati', 'tarda', 'treball_remunerat','nota_numerica']]"
   ]
  },
  {
   "cell_type": "code",
   "execution_count": 13,
   "id": "d934ad41",
   "metadata": {},
   "outputs": [
    {
     "name": "stdout",
     "output_type": "stream",
     "text": [
      "------------lr------------\n",
      "\n",
      "MAE, error: 2.017914353671347\n",
      "MSE, error: 6.358971489673364\n",
      "RMSE, error: 2.5217001189025954\n",
      "r2: 0.1799803232668593\n",
      "\n",
      "\n",
      "------------ridge------------\n",
      "\n",
      "MAE, error: 2.0224548172167034\n",
      "MSE, error: 6.3771733858967075\n",
      "RMSE, error: 2.5253065924550047\n",
      "r2: 0.1776331020092652\n",
      "\n",
      "\n",
      "------------lasso------------\n",
      "\n",
      "MAE, error: 2.210322162269857\n",
      "MSE, error: 7.072401827392383\n",
      "RMSE, error: 2.6593987717889136\n",
      "r2: 0.08798008142617508\n",
      "\n",
      "\n",
      "------------elastic------------\n",
      "\n",
      "MAE, error: 2.1670235526501695\n",
      "MSE, error: 6.803386011290952\n",
      "RMSE, error: 2.6083301193083193\n",
      "r2: 0.12267095288452934\n",
      "\n",
      "\n",
      "------------knn------------\n",
      "\n",
      "MAE, error: 2.634051282051282\n",
      "MSE, error: 10.29998358974359\n",
      "RMSE, error: 3.2093587505518277\n",
      "r2: -0.32823196759638873\n",
      "\n",
      "\n",
      "------------decisiontreeregressor------------\n",
      "\n",
      "MAE, error: 2.7974358974358973\n",
      "MSE, error: 13.692461538461536\n",
      "RMSE, error: 3.700332625381337\n",
      "r2: -0.7657081656497466\n",
      "\n",
      "\n",
      "------------grad------------\n",
      "\n",
      "MAE, error: 2.1465289765931783\n",
      "MSE, error: 7.275613902345005\n",
      "RMSE, error: 2.6973345922122833\n",
      "r2: 0.061774915971112065\n",
      "\n",
      "\n",
      "------------randomforestregressor------------\n",
      "\n",
      "MAE, error: 2.0885743589743586\n",
      "MSE, error: 6.7454694256410255\n",
      "RMSE, error: 2.5972041555567067\n",
      "r2: 0.13013957260066822\n",
      "\n",
      "\n",
      "------------xgbregressor------------\n",
      "\n",
      "MAE, error: 2.164439571026044\n",
      "MSE, error: 7.814875862386285\n",
      "RMSE, error: 2.7955099467514484\n",
      "r2: -0.007765483583383359\n",
      "\n",
      "\n"
     ]
    }
   ],
   "source": [
    "def many_models_at_once (df, test_size=0.20):\n",
    "    \n",
    "    X = df.iloc[:,:-1]\n",
    "    y = df['nota_numerica']\n",
    "\n",
    "    X_train, X_test, y_train, y_test = train_test_split(X, y, test_size=0.20)\n",
    "    \n",
    "    models = {\n",
    "       \"lr\": LinearRegression(),\n",
    "        \"ridge\": Ridge(), \n",
    "        \"lasso\": Lasso(), \n",
    "       \"elastic\": ElasticNet(),\n",
    "        \"knn\": KNeighborsRegressor(),\n",
    "         \"decisiontreeregressor\": DecisionTreeRegressor(),\n",
    "        \"grad\": GradientBoostingRegressor(), \n",
    "        \"randomforestregressor\": RandomForestRegressor(), \n",
    "        \"xgbregressor\" : XGBRegressor()\n",
    "    }\n",
    "\n",
    "    for model in models.values():\n",
    "        model.fit(X_train, y_train)\n",
    "\n",
    "    for name, model in models.items():\n",
    "        y_pred = model.predict(X_test)\n",
    "        print(f\"------------{name}------------\\n\")\n",
    "        print(f\"MAE, error: {metrics.mean_absolute_error(y_test, y_pred)}\")\n",
    "        print(f\"MSE, error: {metrics.mean_squared_error(y_test, y_pred)}\")\n",
    "        print(f\"RMSE, error: {np.sqrt(metrics.mean_squared_error(y_test, y_pred))}\")\n",
    "        print(f\"r2: {metrics.r2_score(y_test, y_pred)}\")\n",
    "        print(\"\\n\")\n",
    "        \n",
    "many_models_at_once (df_num, test_size = 0.2)"
   ]
  },
  {
   "cell_type": "code",
   "execution_count": 14,
   "id": "47b1d14d",
   "metadata": {},
   "outputs": [
    {
     "data": {
      "text/plain": [
       "2.6129604474786823"
      ]
     },
     "execution_count": 14,
     "metadata": {},
     "output_type": "execute_result"
    }
   ],
   "source": [
    "#Linear\n",
    "X = df_num.iloc[:,:-1]\n",
    "y = df_num['nota_numerica']\n",
    "\n",
    "X_train, X_test, y_train, y_test = train_test_split(X, y, test_size=0.2)\n",
    "\n",
    "lr = LinearRegression()\n",
    "lr.fit(X_train, y_train)\n",
    "\n",
    "# Just for feedback\n",
    "if platform == \"darwin\":\n",
    "    os.system(\"say I'm done training\")\n",
    "\n",
    "y_pred = lr.predict(X_test)\n",
    "lr_coefficients = lr.coef_\n",
    "np.sqrt(mean_squared_error(y_pred, y_test))"
   ]
  },
  {
   "cell_type": "code",
   "execution_count": 15,
   "id": "cdc27eeb",
   "metadata": {},
   "outputs": [],
   "source": [
    "features = X.columns"
   ]
  },
  {
   "cell_type": "code",
   "execution_count": 16,
   "id": "1cead91b",
   "metadata": {},
   "outputs": [
    {
     "data": {
      "image/png": "[encoded data removed]",
      "text/plain": [
       "<Figure size 1000x600 with 1 Axes>"
      ]
     },
     "metadata": {},
     "output_type": "display_data"
    }
   ],
   "source": [
    "feature_importance_lr = pd.Series(lr_coefficients, index=features)\n",
    "feature_importance_lr = feature_importance_lr.sort_values(ascending=False)\n",
    "\n",
    "# Create a bar plot\n",
    "plt.figure(figsize=(10, 6))\n",
    "sns.barplot(x=feature_importance_lr, y=feature_importance_lr.index)\n",
    "plt.title('Linear Regression Coefficient Magnitudes')\n",
    "plt.xlabel('Coefficient Magnitude')\n",
    "plt.show()"
   ]
  },
  {
   "cell_type": "code",
   "execution_count": 17,
   "id": "65a806cd",
   "metadata": {},
   "outputs": [],
   "source": [
    "#In the future we can try again eliminating the variables that have minimum importance"
   ]
  },
  {
   "cell_type": "code",
   "execution_count": 18,
   "id": "ddabba46",
   "metadata": {},
   "outputs": [],
   "source": [
    "#We only can explain 0.23 of the variance"
   ]
  },
  {
   "cell_type": "markdown",
   "id": "e1ce7ec3",
   "metadata": {},
   "source": [
    "## Predicting nota_alfa (categoric)"
   ]
  },
  {
   "cell_type": "markdown",
   "id": "c66c5007",
   "metadata": {},
   "source": [
    "### Multiple categories"
   ]
  },
  {
   "cell_type": "code",
   "execution_count": 53,
   "id": "f99c2922",
   "metadata": {},
   "outputs": [],
   "source": [
    "df_cat = pd.read_csv('../data/processed/final_merge_nota_alfa.csv')"
   ]
  },
  {
   "cell_type": "code",
   "execution_count": 54,
   "id": "c83eed39",
   "metadata": {},
   "outputs": [],
   "source": [
    "df_cat = df_cat[df_cat['assignatura'] == 'Calc']"
   ]
  },
  {
   "cell_type": "code",
   "execution_count": 65,
   "id": "0d9789f8",
   "metadata": {},
   "outputs": [],
   "source": [
    "df_cat = df_cat[['nota_acces', 'ordre_assignacio', 'orientacio',\n",
    "       'aspectes_eleccio', 'estudis_pare', 'estudis_mare', 'ocupacio_pare',\n",
    "       'ocupacio_mare', 'edad', 'diferencia_anys',\n",
    "       'tipus_centre_secundaria', 'H', 'D', 'via_acces_PAU', 'via_acces_CFGS',\n",
    "     'altres_convocatories',\n",
    "       'mati', 'tarda', 'treball_remunerat','nota_alfa']]"
   ]
  },
  {
   "cell_type": "code",
   "execution_count": 66,
   "id": "c5bc12ae",
   "metadata": {},
   "outputs": [
    {
     "data": {
      "text/plain": [
       "nota_alfa\n",
       "2    302\n",
       "1    263\n",
       "3    214\n",
       "0    150\n",
       "5     33\n",
       "4     13\n",
       "Name: count, dtype: int64"
      ]
     },
     "execution_count": 66,
     "metadata": {},
     "output_type": "execute_result"
    }
   ],
   "source": [
    "df_cat['nota_alfa'].value_counts()"
   ]
  },
  {
   "cell_type": "code",
   "execution_count": 67,
   "id": "6eabfc26",
   "metadata": {},
   "outputs": [],
   "source": [
    "# ------------random_forest------------\n",
    "\n",
    "# Accuracy: 0.7282051282051282\n",
    "# Precision: 0.731054131054131\n",
    "# Recall: 0.7282051282051282\n",
    "# F1 Score: 0.7291511597811632"
   ]
  },
  {
   "cell_type": "code",
   "execution_count": 68,
   "id": "f1468f67",
   "metadata": {},
   "outputs": [
    {
     "name": "stderr",
     "output_type": "stream",
     "text": [
      "C:\\Users\\Usuario\\miniconda3\\envs\\ironhack\\Lib\\site-packages\\sklearn\\linear_model\\_logistic.py:460: ConvergenceWarning: lbfgs failed to converge (status=1):\n",
      "STOP: TOTAL NO. of ITERATIONS REACHED LIMIT.\n",
      "\n",
      "Increase the number of iterations (max_iter) or scale the data as shown in:\n",
      "    https://scikit-learn.org/stable/modules/preprocessing.html\n",
      "Please also refer to the documentation for alternative solver options:\n",
      "    https://scikit-learn.org/stable/modules/linear_model.html#logistic-regression\n",
      "  n_iter_i = _check_optimize_result(\n"
     ]
    },
    {
     "name": "stdout",
     "output_type": "stream",
     "text": [
      "------------logistic_regression------------\n",
      "\n",
      "Accuracy: 0.3641025641025641\n",
      "Precision: 0.3419729842806766\n",
      "Recall: 0.3641025641025641\n",
      "F1 Score: 0.3391085268465742\n",
      "\n",
      "\n",
      "------------knn------------\n",
      "\n",
      "Accuracy: 0.30256410256410254\n",
      "Precision: 0.2870940439102648\n",
      "Recall: 0.30256410256410254\n",
      "F1 Score: 0.29094854026882067\n",
      "\n",
      "\n",
      "------------decision_tree------------\n",
      "\n",
      "Accuracy: 0.3128205128205128\n",
      "Precision: 0.3290082494337813\n",
      "Recall: 0.3128205128205128\n",
      "F1 Score: 0.31832575287995746\n",
      "\n",
      "\n",
      "------------random_forest------------\n",
      "\n",
      "Accuracy: 0.36923076923076925\n",
      "Precision: 0.32920311714429357\n",
      "Recall: 0.36923076923076925\n",
      "F1 Score: 0.34591205067822056\n",
      "\n",
      "\n",
      "------------gradient_boosting------------\n",
      "\n",
      "Accuracy: 0.35384615384615387\n",
      "Precision: 0.3391061704029776\n",
      "Recall: 0.35384615384615387\n",
      "F1 Score: 0.34436278346534754\n",
      "\n",
      "\n",
      "------------svm------------\n",
      "\n",
      "Accuracy: 0.35384615384615387\n",
      "Precision: 0.27259259259259255\n",
      "Recall: 0.35384615384615387\n",
      "F1 Score: 0.22095297415135473\n",
      "\n",
      "\n",
      "------------xgboost------------\n",
      "\n",
      "Accuracy: 0.3487179487179487\n",
      "Precision: 0.32852067832042803\n",
      "Recall: 0.3487179487179487\n",
      "F1 Score: 0.3359236340193475\n",
      "\n",
      "\n"
     ]
    },
    {
     "name": "stderr",
     "output_type": "stream",
     "text": [
      "C:\\Users\\Usuario\\miniconda3\\envs\\ironhack\\Lib\\site-packages\\sklearn\\metrics\\_classification.py:1471: UndefinedMetricWarning: Precision is ill-defined and being set to 0.0 in labels with no predicted samples. Use `zero_division` parameter to control this behavior.\n",
      "  _warn_prf(average, modifier, msg_start, len(result))\n",
      "C:\\Users\\Usuario\\miniconda3\\envs\\ironhack\\Lib\\site-packages\\sklearn\\metrics\\_classification.py:1471: UndefinedMetricWarning: Precision is ill-defined and being set to 0.0 in labels with no predicted samples. Use `zero_division` parameter to control this behavior.\n",
      "  _warn_prf(average, modifier, msg_start, len(result))\n",
      "C:\\Users\\Usuario\\miniconda3\\envs\\ironhack\\Lib\\site-packages\\sklearn\\metrics\\_classification.py:1471: UndefinedMetricWarning: Precision is ill-defined and being set to 0.0 in labels with no predicted samples. Use `zero_division` parameter to control this behavior.\n",
      "  _warn_prf(average, modifier, msg_start, len(result))\n"
     ]
    }
   ],
   "source": [
    "#with 6 categories\n",
    "def many_models_at_once (df, test_size=0.20):\n",
    "    \n",
    "    X = df.iloc[:,:-1]\n",
    "    y = df['nota_alfa']\n",
    "\n",
    "    X_train, X_test, y_train, y_test = train_test_split(X, y, test_size=0.20)\n",
    "    \n",
    "    classifier_models = {\n",
    "        \"logistic_regression\": LogisticRegression(),\n",
    "        \"knn\": KNeighborsClassifier(),\n",
    "        \"decision_tree\": DecisionTreeClassifier(),\n",
    "        \"random_forest\": RandomForestClassifier(),\n",
    "        \"gradient_boosting\": GradientBoostingClassifier(),\n",
    "        \"svm\": SVC(),\n",
    "        \"xgboost\": XGBClassifier()\n",
    "    }\n",
    "\n",
    "    for model in classifier_models.values():\n",
    "        model.fit(X_train, y_train)\n",
    "        \n",
    "    for name, model in classifier_models.items():\n",
    "        y_pred = model.predict(X_test)\n",
    "        print(f\"------------{name}------------\\n\")\n",
    "        print(f\"Accuracy: {metrics.accuracy_score(y_test, y_pred)}\")\n",
    "        print(f\"Precision: {metrics.precision_score(y_test, y_pred, average='weighted')}\")\n",
    "        print(f\"Recall: {metrics.recall_score(y_test, y_pred, average='weighted')}\")\n",
    "        print(f\"F1 Score: {metrics.f1_score(y_test, y_pred, average='weighted')}\")\n",
    "        print(\"\\n\")\n",
    "        \n",
    "        \n",
    "many_models_at_once (df_cat, test_size = 0.2)"
   ]
  },
  {
   "cell_type": "code",
   "execution_count": 69,
   "id": "4f9ee109",
   "metadata": {},
   "outputs": [],
   "source": [
    "X = df_cat.iloc[:,:-1]\n",
    "y = df_cat['nota_alfa']\n",
    "\n",
    "X_train, X_test, y_train, y_test = train_test_split(X, y, test_size=0.2)\n",
    "\n",
    "gradient_boosting = GradientBoostingClassifier()\n",
    "gradient_boosting.fit(X_train, y_train)\n",
    "\n",
    "# Just for feedback\n",
    "if platform == \"darwin\":\n",
    "    os.system(\"say I'm done training\")\n",
    "\n",
    "y_pred = gradient_boosting.predict(X_test)"
   ]
  },
  {
   "cell_type": "code",
   "execution_count": 70,
   "id": "af881475",
   "metadata": {},
   "outputs": [
    {
     "data": {
      "text/plain": [
       "1.3320506650870958"
      ]
     },
     "execution_count": 70,
     "metadata": {},
     "output_type": "execute_result"
    }
   ],
   "source": [
    "np.sqrt(mean_squared_error(y_pred, y_test))"
   ]
  },
  {
   "cell_type": "code",
   "execution_count": 64,
   "id": "42c2a6db",
   "metadata": {},
   "outputs": [
    {
     "name": "stdout",
     "output_type": "stream",
     "text": [
      "                    Feature  Importance\n",
      "0                nota_acces    0.476127\n",
      "8                      edad    0.055468\n",
      "5              estudis_mare    0.048598\n",
      "4              estudis_pare    0.048111\n",
      "6             ocupacio_pare    0.047534\n",
      "3          aspectes_eleccio    0.046358\n",
      "9           diferencia_anys    0.044423\n",
      "2                orientacio    0.043445\n",
      "7             ocupacio_mare    0.038318\n",
      "10  tipus_centre_secundaria    0.033921\n",
      "20        treball_remunerat    0.030301\n",
      "1          ordre_assignacio    0.026076\n",
      "17     altres_convocatories    0.015812\n",
      "19                    tarda    0.009426\n",
      "11                        H    0.007597\n",
      "14           via_acces_CFGS    0.007551\n",
      "12                        D    0.006499\n",
      "13            via_acces_PAU    0.005996\n",
      "18                     mati    0.004815\n",
      "16                 setembre    0.002721\n",
      "15                     juny    0.000905\n"
     ]
    }
   ],
   "source": [
    "from sklearn.ensemble import GradientBoostingClassifier\n",
    "from xgboost import XGBClassifier\n",
    "\n",
    "# Get feature importances\n",
    "feature_importances = gradient_boosting.feature_importances_\n",
    "\n",
    "# Create a DataFrame to display feature importances\n",
    "importances_df = pd.DataFrame({'Feature': X_train.columns, 'Importance': feature_importances})\n",
    "importances_df = importances_df.sort_values(by='Importance', ascending=False)\n",
    "\n",
    "# Display the results\n",
    "print(importances_df)"
   ]
  },
  {
   "cell_type": "markdown",
   "id": "88f0426c",
   "metadata": {},
   "source": [
    "### Predicting Pass / No Pass"
   ]
  },
  {
   "cell_type": "code",
   "execution_count": 83,
   "id": "b950da39",
   "metadata": {},
   "outputs": [],
   "source": [
    "df_cat2 = pd.read_csv('../data/processed/final_merge_nota_alfa_binary.csv')"
   ]
  },
  {
   "cell_type": "code",
   "execution_count": 84,
   "id": "818679b5",
   "metadata": {},
   "outputs": [],
   "source": [
    "df_cat2 = df_cat2[df_cat2['assignatura'] == 'Calc']"
   ]
  },
  {
   "cell_type": "code",
   "execution_count": 85,
   "id": "c153f24d",
   "metadata": {},
   "outputs": [],
   "source": [
    "df_cat2 = df_cat2[['nota_acces', 'ordre_assignacio', 'orientacio',\n",
    "       'aspectes_eleccio', 'estudis_pare', 'estudis_mare', 'ocupacio_pare',\n",
    "       'ocupacio_mare', 'edad', 'diferencia_anys',\n",
    "       'tipus_centre_secundaria', 'H', 'D', 'via_acces_PAU', 'via_acces_CFGS',\n",
    "     'altres_convocatories',\n",
    "       'mati', 'tarda', 'treball_remunerat','nota_alfa']]"
   ]
  },
  {
   "cell_type": "code",
   "execution_count": 86,
   "id": "451f5560",
   "metadata": {},
   "outputs": [
    {
     "data": {
      "text/plain": [
       "nota_alfa\n",
       "1    562\n",
       "0    413\n",
       "Name: count, dtype: int64"
      ]
     },
     "execution_count": 86,
     "metadata": {},
     "output_type": "execute_result"
    }
   ],
   "source": [
    "df_cat2['nota_alfa'].value_counts()"
   ]
  },
  {
   "cell_type": "code",
   "execution_count": 87,
   "id": "f03fc061",
   "metadata": {},
   "outputs": [
    {
     "name": "stderr",
     "output_type": "stream",
     "text": [
      "C:\\Users\\Usuario\\miniconda3\\envs\\ironhack\\Lib\\site-packages\\sklearn\\linear_model\\_logistic.py:460: ConvergenceWarning: lbfgs failed to converge (status=1):\n",
      "STOP: TOTAL NO. of ITERATIONS REACHED LIMIT.\n",
      "\n",
      "Increase the number of iterations (max_iter) or scale the data as shown in:\n",
      "    https://scikit-learn.org/stable/modules/preprocessing.html\n",
      "Please also refer to the documentation for alternative solver options:\n",
      "    https://scikit-learn.org/stable/modules/linear_model.html#logistic-regression\n",
      "  n_iter_i = _check_optimize_result(\n"
     ]
    },
    {
     "name": "stdout",
     "output_type": "stream",
     "text": [
      "------------logistic_regression------------\n",
      "\n",
      "Accuracy: 0.3435897435897436\n",
      "Precision: 0.31191567092135336\n",
      "Recall: 0.3435897435897436\n",
      "F1 Score: 0.3232672942682819\n",
      "\n",
      "\n",
      "------------knn------------\n",
      "\n",
      "Accuracy: 0.2717948717948718\n",
      "Precision: 0.24635090699999423\n",
      "Recall: 0.2717948717948718\n",
      "F1 Score: 0.24478791409181902\n",
      "\n",
      "\n",
      "------------decision_tree------------\n",
      "\n",
      "Accuracy: 0.29743589743589743\n",
      "Precision: 0.2997495336282951\n",
      "Recall: 0.29743589743589743\n",
      "F1 Score: 0.2963839922785816\n",
      "\n",
      "\n",
      "------------random_forest------------\n",
      "\n",
      "Accuracy: 0.3333333333333333\n",
      "Precision: 0.30932292043403153\n",
      "Recall: 0.3333333333333333\n",
      "F1 Score: 0.3178187099755727\n",
      "\n",
      "\n",
      "------------gradient_boosting------------\n",
      "\n",
      "Accuracy: 0.3076923076923077\n",
      "Precision: 0.3112918660287081\n",
      "Recall: 0.3076923076923077\n",
      "F1 Score: 0.3055197893075564\n",
      "\n",
      "\n",
      "------------svm------------\n",
      "\n",
      "Accuracy: 0.31794871794871793\n",
      "Precision: 0.15726495726495726\n",
      "Recall: 0.31794871794871793\n",
      "F1 Score: 0.1897509262316129\n",
      "\n",
      "\n",
      "------------xgboost------------\n",
      "\n",
      "Accuracy: 0.3435897435897436\n",
      "Precision: 0.33149196915658724\n",
      "Recall: 0.3435897435897436\n",
      "F1 Score: 0.329452019552354\n",
      "\n",
      "\n"
     ]
    },
    {
     "name": "stderr",
     "output_type": "stream",
     "text": [
      "C:\\Users\\Usuario\\miniconda3\\envs\\ironhack\\Lib\\site-packages\\sklearn\\metrics\\_classification.py:1471: UndefinedMetricWarning: Precision is ill-defined and being set to 0.0 in labels with no predicted samples. Use `zero_division` parameter to control this behavior.\n",
      "  _warn_prf(average, modifier, msg_start, len(result))\n",
      "C:\\Users\\Usuario\\miniconda3\\envs\\ironhack\\Lib\\site-packages\\sklearn\\metrics\\_classification.py:1471: UndefinedMetricWarning: Precision is ill-defined and being set to 0.0 in labels with no predicted samples. Use `zero_division` parameter to control this behavior.\n",
      "  _warn_prf(average, modifier, msg_start, len(result))\n",
      "C:\\Users\\Usuario\\miniconda3\\envs\\ironhack\\Lib\\site-packages\\sklearn\\metrics\\_classification.py:1471: UndefinedMetricWarning: Precision is ill-defined and being set to 0.0 in labels with no predicted samples. Use `zero_division` parameter to control this behavior.\n",
      "  _warn_prf(average, modifier, msg_start, len(result))\n",
      "C:\\Users\\Usuario\\miniconda3\\envs\\ironhack\\Lib\\site-packages\\sklearn\\metrics\\_classification.py:1471: UndefinedMetricWarning: Precision is ill-defined and being set to 0.0 in labels with no predicted samples. Use `zero_division` parameter to control this behavior.\n",
      "  _warn_prf(average, modifier, msg_start, len(result))\n"
     ]
    }
   ],
   "source": [
    "#with 2 categories\n",
    "def many_models_at_once (df, test_size=0.20):\n",
    "    \n",
    "    X = df.iloc[:,:-1]\n",
    "    y = df['nota_alfa']\n",
    "\n",
    "    X_train, X_test, y_train, y_test = train_test_split(X, y, test_size=0.20)\n",
    "    \n",
    "    classifier_models = {\n",
    "        \"logistic_regression\": LogisticRegression(),\n",
    "        \"knn\": KNeighborsClassifier(),\n",
    "        \"decision_tree\": DecisionTreeClassifier(),\n",
    "        \"random_forest\": RandomForestClassifier(),\n",
    "        \"gradient_boosting\": GradientBoostingClassifier(),\n",
    "        \"svm\": SVC(),\n",
    "        \"xgboost\": XGBClassifier()\n",
    "    }\n",
    "\n",
    "    for model in classifier_models.values():\n",
    "        model.fit(X_train, y_train)\n",
    "        \n",
    "    for name, model in classifier_models.items():\n",
    "        y_pred = model.predict(X_test)\n",
    "        print(f\"------------{name}------------\\n\")\n",
    "        print(f\"Accuracy: {metrics.accuracy_score(y_test, y_pred)}\")\n",
    "        print(f\"Precision: {metrics.precision_score(y_test, y_pred, average='weighted')}\")\n",
    "        print(f\"Recall: {metrics.recall_score(y_test, y_pred, average='weighted')}\")\n",
    "        print(f\"F1 Score: {metrics.f1_score(y_test, y_pred, average='weighted')}\")\n",
    "        print(\"\\n\")\n",
    "        \n",
    "        \n",
    "many_models_at_once (df_cat, test_size = 0.2)"
   ]
  },
  {
   "cell_type": "code",
   "execution_count": null,
   "id": "b57e9d68",
   "metadata": {
    "scrolled": false
   },
   "outputs": [],
   "source": [
    "# for column in df.columns[:-1]:  # Exclude the last column (target variable)\n",
    "#     sns.regplot(y=column, x='nota_numerica', data=df, scatter_kws={'s': 10})\n",
    "#     plt.title(f'Regression Plot for {column} vs. y')\n",
    "#     plt.xlabel('nota_numerica')\n",
    "#     plt.ylabel(column)\n",
    "#     plt.axvline(5, c=\"r\", linestyle=\"--\")\n",
    "#     plt.show()"
   ]
  },
  {
   "cell_type": "code",
   "execution_count": null,
   "id": "4e7cf961",
   "metadata": {},
   "outputs": [],
   "source": [
    "# for column in df.columns[:-1]:  # Exclude the last column (target variable)\n",
    "#     X_current = df[column]\n",
    "#     X_with_const = sm.add_constant(X_current)\n",
    "    \n",
    "#     # Fit the OLS model\n",
    "#     model = sm.OLS(y, X_with_const)\n",
    "#     results = model.fit()\n",
    "    \n",
    "#     # Print R-squared and Adjusted R-squared\n",
    "#     print(f'Results for {column}:')\n",
    "#     print(f'R-squared: {results.rsquared:.4f}')\n",
    "#     print(f'Adjusted R-squared: {results.rsquared_adj:.4f}')\n",
    "#     print('\\n')"
   ]
  },
  {
   "cell_type": "code",
   "execution_count": null,
   "id": "ba00efa7",
   "metadata": {},
   "outputs": [],
   "source": [
    "#comparar modelo regresion y modelo clasificación (manualmente )"
   ]
  }
 ],
 "metadata": {
  "kernelspec": {
   "display_name": "ironhack",
   "language": "python",
   "name": "ironhack"
  },
  "language_info": {
   "codemirror_mode": {
    "name": "ipython",
    "version": 3
   },
   "file_extension": ".py",
   "mimetype": "text/x-python",
   "name": "python",
   "nbconvert_exporter": "python",
   "pygments_lexer": "ipython3",
   "version": "3.11.5"
  }
 },
 "nbformat": 4,
 "nbformat_minor": 5
}
